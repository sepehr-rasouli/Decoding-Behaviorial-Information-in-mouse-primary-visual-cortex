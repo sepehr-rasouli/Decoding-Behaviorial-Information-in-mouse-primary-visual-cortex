{
 "cells": [
  {
   "cell_type": "code",
   "execution_count": 5,
   "id": "a9b2eb27-a7c4-45e2-8cef-ae6f85091bd2",
   "metadata": {},
   "outputs": [
    {
     "data": {
      "text/html": [
       "        <script type=\"text/javascript\">\n",
       "        window.PlotlyConfig = {MathJaxConfig: 'local'};\n",
       "        if (window.MathJax) {MathJax.Hub.Config({SVG: {font: \"STIX-Web\"}});}\n",
       "        if (typeof require !== 'undefined') {\n",
       "        require.undef(\"plotly\");\n",
       "        requirejs.config({\n",
       "            paths: {\n",
       "                'plotly': ['https://cdn.plot.ly/plotly-2.2.0.min']\n",
       "            }\n",
       "        });\n",
       "        require(['plotly'], function(Plotly) {\n",
       "            window._Plotly = Plotly;\n",
       "        });\n",
       "        }\n",
       "        </script>\n",
       "        "
      ]
     },
     "metadata": {},
     "output_type": "display_data"
    },
    {
     "data": {
      "text/html": [
       "<script>var waitForPlotly = setInterval( function() {if( typeof(window.Plotly) !== \"undefined\" ){MathJax.Hub.Config({ SVG: { font: \"STIX-Web\" }, displayAlign: \"center\" });MathJax.Hub.Queue([\"setRenderer\", MathJax.Hub, \"SVG\"]);clearInterval(waitForPlotly);}}, 250 );</script>"
      ],
      "text/plain": [
       "<IPython.core.display.HTML object>"
      ]
     },
     "metadata": {},
     "output_type": "display_data"
    }
   ],
   "source": [
    "\n",
    "import plotly\n",
    "import numpy as np\n",
    "# from chart_studio import plotly\n",
    "\n",
    "import plotly.graph_objs as go\n",
    "\n",
    "import matplotlib.pyplot as plt\n",
    "import scipy.io as sio\n",
    "from scipy import stats\n",
    "%matplotlib inline\n",
    "\n",
    "plotly.offline.init_notebook_mode(connected=True)\n",
    "from IPython.core.display import display, HTML, Markdown\n",
    "# The polling here is to ensure that plotly.js has already been loaded before\n",
    "# setting display alignment in order to avoid a race condition.\n",
    "display(HTML(\n",
    "    '<script>'\n",
    "        'var waitForPlotly = setInterval( function() {'\n",
    "            'if( typeof(window.Plotly) !== \"undefined\" ){'\n",
    "                'MathJax.Hub.Config({ SVG: { font: \"STIX-Web\" }, displayAlign: \"center\" });'\n",
    "                'MathJax.Hub.Queue([\"setRenderer\", MathJax.Hub, \"SVG\"]);'\n",
    "                'clearInterval(waitForPlotly);'\n",
    "            '}}, 250 );'\n",
    "    '</script>'\n",
    "))\n",
    "\n",
    "# Colorscales\n",
    "def colorscale_list(cmap, number_colors, return_rgb_only=False):\n",
    "    cm = plt.get_cmap(cmap)\n",
    "    colors = [np.array(cm(i/number_colors)) for i in range(1, number_colors+1)]\n",
    "    rgb_colors_plotly = []\n",
    "    rgb_colors_only = []\n",
    "    for i, c in enumerate(colors):\n",
    "        col = 'rgb{}'.format(tuple(255*c[:-1]))\n",
    "        rgb_colors_only.append(col)\n",
    "        rgb_colors_plotly.append([i/number_colors, col])\n",
    "        rgb_colors_plotly.append([(i+1)/number_colors, col])\n",
    "    return rgb_colors_only if return_rgb_only else rgb_colors_plotly\n"
   ]
  },
  {
   "cell_type": "code",
   "execution_count": null,
   "id": "b8853409-040b-47d1-ac9d-59b002a1da24",
   "metadata": {},
   "outputs": [],
   "source": [
    "w = .04\n",
    "I = -2\n",
    "\n",
    "def f(s):\n",
    "    return 50*(1+np.tanh(s))\n",
    "\n",
    "f = np.vectorize(f)\n",
    "\n",
    "layout1 = go.Layout(\n",
    "    title= '$\\\\text{Plot of the neuron\\'s activation function } f$',\n",
    "    hovermode= 'closest',\n",
    "    xaxis= dict(\n",
    "        title= '$\\\\text{Input } s$',\n",
    "        ticklen= 5,\n",
    "        zeroline= False,\n",
    "    ),\n",
    "    yaxis=dict(\n",
    "        title= '$f(s)$',\n",
    "        ticklen= 5\n",
    "    ),\n",
    ") \n",
    "\n",
    "\n",
    "# Plotting the evolution\n",
    "\n",
    "xs = np.linspace(-3, 3, 50)\n",
    "\n",
    "trace_f = go.Scatter(\n",
    "    x = xs, \n",
    "    y = f(xs),\n",
    "    mode = 'lines',\n",
    "    line = dict(\n",
    "        width = 2,\n",
    "        dash = 'solid'\n",
    "    ),\n",
    "    hoverlabel = dict(\n",
    "        namelength = -1\n",
    "    ),\n",
    "    name='f(s)'\n",
    ")\n",
    "\n",
    "plotly.offline.iplot(go.Figure(data=[trace_f], layout=layout1))"
   ]
  },
  {
   "cell_type": "code",
   "execution_count": null,
   "id": "1b706034-3a79-4c48-9da5-ef5621d52dd1",
   "metadata": {},
   "outputs": [],
   "source": []
  },
  {
   "cell_type": "code",
   "execution_count": null,
   "id": "bf37c29b-7893-4985-a7d9-f7f977bc91d3",
   "metadata": {},
   "outputs": [],
   "source": []
  }
 ],
 "metadata": {
  "kernelspec": {
   "display_name": "Python 3 (ipykernel)",
   "language": "python",
   "name": "python3"
  },
  "language_info": {
   "codemirror_mode": {
    "name": "ipython",
    "version": 3
   },
   "file_extension": ".py",
   "mimetype": "text/x-python",
   "name": "python",
   "nbconvert_exporter": "python",
   "pygments_lexer": "ipython3",
   "version": "3.11.8"
  }
 },
 "nbformat": 4,
 "nbformat_minor": 5
}
