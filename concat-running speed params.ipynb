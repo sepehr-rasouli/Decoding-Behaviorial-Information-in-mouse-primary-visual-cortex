{
 "cells": [
  {
   "cell_type": "code",
   "execution_count": 1,
   "id": "e75e05cd-536b-4248-b1ba-1b6a5e1a1b15",
   "metadata": {},
   "outputs": [
    {
     "name": "stdout",
     "output_type": "stream",
     "text": [
      "allensdk version 2.10.2 or higher is required, you have 2.12.1 installed\n"
     ]
    },
    {
     "data": {
      "text/html": [
       "<style>.container { width:100% !important; }</style>"
      ],
      "text/plain": [
       "<IPython.core.display.HTML object>"
      ]
     },
     "metadata": {},
     "output_type": "display_data"
    }
   ],
   "source": [
    "import matplotlib.pyplot as plt\n",
    "import seaborn as sns\n",
    "import os\n",
    "import numpy as np\n",
    "import pandas as pd\n",
    "from pathlib import Path\n",
    "import re\n",
    "\n",
    "import shelve\n",
    "import pickle\n",
    "pd.set_option('display.max_columns', 500)\n",
    "\n",
    "# import allensdk.brain_observatory.behavior.behavior_project_cache as bpc\n",
    "\n",
    "# import allensdk\n",
    "import pkg_resources\n",
    "print('allensdk version 2.10.2 or higher is required, you have {} installed'.format(pkg_resources.get_distribution(\"allensdk\").version))\n",
    "\n",
    "# %matplotlib notebook\n",
    "# %matplotlib inline\n",
    "\n",
    "%matplotlib widget\n",
    "\n",
    "from IPython.core.display import display, HTML\n",
    "display(HTML(\"<style>.container { width:100% !important; }</style>\"))\n",
    "\n",
    "import scipy.stats as st\n",
    "# from pandasgui import show\n",
    "from matplotlib.pyplot import figure\n",
    "# import mindscope_utilities.visual_behavior_ophys as ophys\n",
    "from sklearn import linear_model\n",
    "import statsmodels.api as sm\n",
    "import dtale\n",
    "\n",
    "# cache_dir = Path(\"G:/allensdk\")\n",
    "# cache = bpc.VisualBehaviorOphysProjectCache.from_s3_cache(cache_dir=cache_dir)\n",
    "# experiments_table = cache.get_ophys_experiment_table()\n",
    "# cell_table = cache.get_ophys_cells_table()\n"
   ]
  },
  {
   "cell_type": "code",
   "execution_count": 2,
   "id": "eae00b40-d51a-41e5-8fef-0bfbed6d8202",
   "metadata": {},
   "outputs": [],
   "source": [
    "# read the cleaned ophys table\n",
    "experiments_table = pd.read_csv('cleaned-ophyexp_v1.csv')"
   ]
  },
  {
   "cell_type": "code",
   "execution_count": 3,
   "id": "d93ae46f-053a-41d4-9f5a-a7cd2265e680",
   "metadata": {},
   "outputs": [
    {
     "name": "stdout",
     "output_type": "stream",
     "text": [
      "VisualBehavior experiments = 134\n",
      "VisualBehaviorMultiscope experiments = 518\n"
     ]
    }
   ],
   "source": [
    "vis_behave_df = experiments_table[experiments_table.project_code == 'VisualBehavior']\n",
    "multi_behave_df = experiments_table[experiments_table.project_code == 'VisualBehaviorMultiscope']\n",
    "vis_behave_ophys_id = vis_behave_df.ophys_experiment_id.values\n",
    "multi_behave_ophys_id = multi_behave_df.ophys_experiment_id.values\n",
    "\n",
    "print('VisualBehavior experiments = '+ str(len(vis_behave_df)))\n",
    "print('VisualBehaviorMultiscope experiments = ' + str(len(multi_behave_df)))"
   ]
  },
  {
   "cell_type": "code",
   "execution_count": 4,
   "id": "f3c81e6e-d639-40be-a3f7-3b27d084cb12",
   "metadata": {},
   "outputs": [],
   "source": [
    "from os import listdir\n",
    "from os.path import isfile, join\n",
    "mypath = \"C:/Users/sepeh/allensdkp1/toturial\"\n",
    "onlyfiles = [f for f in listdir(mypath) if isfile(join(mypath, f))]"
   ]
  },
  {
   "cell_type": "code",
   "execution_count": 5,
   "id": "a1745312-c28d-4c50-b5cc-38b7ca3ea00b",
   "metadata": {},
   "outputs": [
    {
     "data": {
      "text/plain": [
       "['VisualBehavior_Exercises_Solutions.ipynb',\n",
       " 'VisualBehavior_Tutorial_Solutions.ipynb']"
      ]
     },
     "execution_count": 5,
     "metadata": {},
     "output_type": "execute_result"
    }
   ],
   "source": [
    "onlyfiles"
   ]
  },
  {
   "cell_type": "code",
   "execution_count": 6,
   "id": "eeedce22-c341-47c2-abf6-11f3afa601cf",
   "metadata": {},
   "outputs": [
    {
     "data": {
      "text/plain": [
       "'C:\\\\Users\\\\sepeh\\\\allensdkp1\\\\important notebooks'"
      ]
     },
     "execution_count": 6,
     "metadata": {},
     "output_type": "execute_result"
    }
   ],
   "source": [
    "# get current path \n",
    "cur_dir = os.getcwd()\n",
    "cur_dir"
   ]
  },
  {
   "cell_type": "code",
   "execution_count": null,
   "id": "bc6db2a5-a53e-4945-8124-ea9a3732cb69",
   "metadata": {
    "tags": []
   },
   "outputs": [],
   "source": []
  },
  {
   "cell_type": "code",
   "execution_count": 7,
   "id": "683ebca5-7ebd-434b-aaaa-67985c037b6d",
   "metadata": {},
   "outputs": [],
   "source": [
    "# import glob, os\n",
    "# os.chdir(\"/run_binary_params_score\")\n",
    "# for file in glob.glob(\"*.pkl\"):\n",
    "#     print(file)"
   ]
  },
  {
   "cell_type": "code",
   "execution_count": 8,
   "id": "ae15f984-7e4d-4438-b46e-0971e6f8bfaf",
   "metadata": {},
   "outputs": [],
   "source": [
    "folder_name = \"run_speed_params_score\"\n",
    "mypath = \"C:/Users/sepeh/allensdkp1/important notebooks/\" + folder_name\n",
    "files = [f for f in listdir(mypath) if f !='desktop.ini' and isfile(join(mypath, f))]\n",
    "# onlyfiles"
   ]
  },
  {
   "cell_type": "code",
   "execution_count": 9,
   "id": "a7c10402-2f37-4fe6-b6cc-0e41bb2770fe",
   "metadata": {},
   "outputs": [
    {
     "data": {
      "text/plain": [
       "650"
      ]
     },
     "execution_count": 9,
     "metadata": {},
     "output_type": "execute_result"
    }
   ],
   "source": [
    "files\n",
    "len(files)"
   ]
  },
  {
   "cell_type": "code",
   "execution_count": 10,
   "id": "00fa7e61-7248-4b8c-a616-e1e995bd6adc",
   "metadata": {},
   "outputs": [
    {
     "data": {
      "text/plain": [
       "134"
      ]
     },
     "execution_count": 10,
     "metadata": {},
     "output_type": "execute_result"
    }
   ],
   "source": [
    "# converting dtype int to str\n",
    "vis_behave_ophys_id = np.array(vis_behave_ophys_id).astype(str)\n",
    "multi_behave_ophys_id = np.array(multi_behave_ophys_id).astype(str)\n",
    "\n",
    "len(vis_behave_ophys_id)"
   ]
  },
  {
   "cell_type": "code",
   "execution_count": null,
   "id": "492bd453-3950-4f79-89a0-a533e3fcc878",
   "metadata": {},
   "outputs": [],
   "source": []
  },
  {
   "cell_type": "code",
   "execution_count": 11,
   "id": "3b5f0ed7-be75-47dc-8b28-d2c28509457a",
   "metadata": {},
   "outputs": [],
   "source": [
    "vis_behave_files = []\n",
    "for file_name in files:\n",
    "    for id in vis_behave_ophys_id:\n",
    "        if id in file_name:\n",
    "            vis_behave_files.append(file_name)"
   ]
  },
  {
   "cell_type": "code",
   "execution_count": 12,
   "id": "6fd017a9-8c11-4b53-ac04-4a08688d4727",
   "metadata": {},
   "outputs": [],
   "source": [
    "multi_behave_files = []\n",
    "for file_name in files:\n",
    "    for id in multi_behave_ophys_id:\n",
    "        if id in file_name:\n",
    "            multi_behave_files.append(file_name)"
   ]
  },
  {
   "cell_type": "code",
   "execution_count": null,
   "id": "3afb4046-37ac-4d7a-8cee-1d48cc829acc",
   "metadata": {},
   "outputs": [],
   "source": [
    "\n"
   ]
  },
  {
   "cell_type": "code",
   "execution_count": 13,
   "id": "faff6380-3f03-47cf-90e3-16e5be3f0e71",
   "metadata": {},
   "outputs": [
    {
     "data": {
      "text/plain": [
       "132"
      ]
     },
     "execution_count": 13,
     "metadata": {},
     "output_type": "execute_result"
    }
   ],
   "source": [
    "len(vis_behave_files)"
   ]
  },
  {
   "cell_type": "code",
   "execution_count": 14,
   "id": "db277be3-4828-4792-830a-2289ba6696ae",
   "metadata": {},
   "outputs": [
    {
     "data": {
      "text/plain": [
       "518"
      ]
     },
     "execution_count": 14,
     "metadata": {},
     "output_type": "execute_result"
    }
   ],
   "source": [
    "len(multi_behave_files)"
   ]
  },
  {
   "cell_type": "code",
   "execution_count": 15,
   "id": "c897703c-a2d6-4679-b989-e5af93f2138c",
   "metadata": {},
   "outputs": [],
   "source": [
    "# # make a huge pd for visualbehavior\n",
    "# run_speed_params = pd.DataFrame()\n",
    "# for file_name in vis_behave_files:\n",
    "#     path = \"C:/Users/sepeh/allensdkp1/important notebooks/\" + folder_name + '/' + file_name\n",
    "#     # read the pickle into pd \n",
    "#     params_df = pd.read_pickle(path)\n",
    "#     # add collumns for mouse_id, ophys_experiment,etc\n",
    "#     my_list = re.findall('\\d+', file_name)\n",
    "#     ophys_id = int(my_list[0])\n",
    "#     params_df['ophys_experiment_id'] = ophys_id\n",
    "#     params_df['mouse_id'] = experiments_table[experiments_table.ophys_experiment_id == ophys_id].mouse_id.item()\n",
    "#     params_df['cell_type'] = experiments_table[experiments_table.ophys_experiment_id == ophys_id].cell_type.item()\n",
    "#     params_df['session_type'] = experiments_table[experiments_table.ophys_experiment_id == ophys_id].session_type.item()\n",
    "#     params_df['imaging_depth'] = experiments_table[experiments_table.ophys_experiment_id == ophys_id].imaging_depth.item()\n",
    "#     params_df['project_code'] = experiments_table[experiments_table.ophys_experiment_id == ophys_id].project_code.item()\n",
    "#     params_df['prior_exposures_to_image_set'] = experiments_table[experiments_table.ophys_experiment_id == ophys_id].prior_exposures_to_image_set.item()\n",
    "#     run_speed_params = pd.concat([run_speed_params, params_df])"
   ]
  },
  {
   "cell_type": "code",
   "execution_count": 16,
   "id": "f1e4bc9f-1bd6-4b76-84d6-22f804f77952",
   "metadata": {},
   "outputs": [],
   "source": [
    "# # make a huge pd for multiscope\n",
    "# run_binary_params = pd.DataFrame()\n",
    "# for file_name in vis_behave_files:\n",
    "#     path = \"C:/Users/sepeh/allensdkp1/important notebooks/\" + folder_name + '/' + file_name\n",
    "#     # read the pickle into pd \n",
    "#     params_df = pd.read_pickle(path)\n",
    "#     # add collumns for mouse_id, ophys_experiment,etc\n",
    "#     my_list = re.findall('\\d+', file_name)\n",
    "#     ophys_id = int(my_list[0])\n",
    "#     params_df['ophys_experiment_id'] = ophys_id\n",
    "#     params_df['mouse_id'] = experiments_table[experiments_table.ophys_experiment_id == ophys_id].mouse_id.item()\n",
    "#     params_df['cell_type'] = experiments_table[experiments_table.ophys_experiment_id == ophys_id].cell_type.item()\n",
    "#     params_df['session_type'] = experiments_table[experiments_table.ophys_experiment_id == ophys_id].session_type.item()\n",
    "#     params_df['imaging_depth'] = experiments_table[experiments_table.ophys_experiment_id == ophys_id].imaging_depth.item()\n",
    "#     run_binary_params = pd.concat([run_binary_params, params_df])"
   ]
  },
  {
   "cell_type": "code",
   "execution_count": 17,
   "id": "17576469-78f7-440e-ac93-86ed55136408",
   "metadata": {},
   "outputs": [],
   "source": [
    "# run_speed_params"
   ]
  },
  {
   "cell_type": "code",
   "execution_count": 18,
   "id": "b3537d11-9485-444a-a5e8-20076577c859",
   "metadata": {
    "tags": []
   },
   "outputs": [],
   "source": [
    "# dtale.show(run_speed_params)"
   ]
  },
  {
   "cell_type": "code",
   "execution_count": 19,
   "id": "8f38b89e-0f8b-4216-853e-a712ead3566f",
   "metadata": {},
   "outputs": [
    {
     "data": {
      "text/plain": [
       "1007107386"
      ]
     },
     "execution_count": 19,
     "metadata": {},
     "output_type": "execute_result"
    }
   ],
   "source": [
    "# for file_name in vis_behave_files[0]:\n",
    "#     path = \"C:/Users/sepeh/allensdkp1/important notebooks/\" + folder_name + '/' + file_name\n",
    "#     list = file_name.rsplit(\"-)\n",
    "import re\n",
    "                            \n",
    "file_name = vis_behave_files[0]\n",
    "    # path = \"C:/Users/sepeh/allensdkp1/important notebooks/\" + folder_name + '/' + file_name\n",
    "# list = file_name.rsplit(\"-\")\n",
    "# list = [int(s) for s in file_name.split() if s.isdigit()]\n",
    "my_list = re.findall('\\d+', file_name )\n",
    "int(my_list[0])\n",
    "# print(file_name)"
   ]
  },
  {
   "cell_type": "code",
   "execution_count": 20,
   "id": "02e6b1c8-339e-4749-9eb9-7da59e78d326",
   "metadata": {
    "tags": []
   },
   "outputs": [],
   "source": [
    "# for all files\n",
    "# make a huge pd for visualbehavior\n",
    "run_speed_params_all = pd.DataFrame()\n",
    "for file_name in files:\n",
    "    path = \"C:/Users/sepeh/allensdkp1/important notebooks/\" + folder_name + '/' + file_name\n",
    "    # read the pickle into pd \n",
    "    params_df = pd.read_pickle(path)\n",
    "    # add collumns for mouse_id, ophys_experiment,etc\n",
    "    my_list = re.findall('\\d+', file_name)\n",
    "    ophys_id = int(my_list[0])\n",
    "    params_df['regression'] = 'running speed'\n",
    "    params_df['ophys_experiment_id'] = ophys_id\n",
    "    params_df['mouse_id'] = experiments_table[experiments_table.ophys_experiment_id == ophys_id].mouse_id.item()\n",
    "    params_df['cell_type'] = experiments_table[experiments_table.ophys_experiment_id == ophys_id].cell_type.item()\n",
    "    params_df['session_type'] = experiments_table[experiments_table.ophys_experiment_id == ophys_id].session_type.item()\n",
    "    params_df['imaging_depth'] = experiments_table[experiments_table.ophys_experiment_id == ophys_id].imaging_depth.item()\n",
    "    params_df['project_code'] = experiments_table[experiments_table.ophys_experiment_id == ophys_id].project_code.item()\n",
    "    params_df['prior_exposures_to_image_set'] = experiments_table[experiments_table.ophys_experiment_id == ophys_id].prior_exposures_to_image_set.item()\n",
    "    run_speed_params_all = pd.concat([run_speed_params_all, params_df])\n"
   ]
  },
  {
   "cell_type": "code",
   "execution_count": 21,
   "id": "366b1eeb-9cb2-4b90-af54-fcb93d71af0c",
   "metadata": {},
   "outputs": [
    {
     "data": {
      "text/html": [
       "<div>\n",
       "<style scoped>\n",
       "    .dataframe tbody tr th:only-of-type {\n",
       "        vertical-align: middle;\n",
       "    }\n",
       "\n",
       "    .dataframe tbody tr th {\n",
       "        vertical-align: top;\n",
       "    }\n",
       "\n",
       "    .dataframe thead th {\n",
       "        text-align: right;\n",
       "    }\n",
       "</style>\n",
       "<table border=\"1\" class=\"dataframe\">\n",
       "  <thead>\n",
       "    <tr style=\"text-align: right;\">\n",
       "      <th></th>\n",
       "      <th>rsquared</th>\n",
       "      <th>const</th>\n",
       "      <th>mean_response</th>\n",
       "      <th>regression</th>\n",
       "      <th>ophys_experiment_id</th>\n",
       "      <th>mouse_id</th>\n",
       "      <th>cell_type</th>\n",
       "      <th>session_type</th>\n",
       "      <th>imaging_depth</th>\n",
       "      <th>project_code</th>\n",
       "      <th>prior_exposures_to_image_set</th>\n",
       "    </tr>\n",
       "    <tr>\n",
       "      <th>cell_specimen_id</th>\n",
       "      <th></th>\n",
       "      <th></th>\n",
       "      <th></th>\n",
       "      <th></th>\n",
       "      <th></th>\n",
       "      <th></th>\n",
       "      <th></th>\n",
       "      <th></th>\n",
       "      <th></th>\n",
       "      <th></th>\n",
       "      <th></th>\n",
       "    </tr>\n",
       "  </thead>\n",
       "  <tbody>\n",
       "    <tr>\n",
       "      <th>1086491370</th>\n",
       "      <td>3.335882e-02</td>\n",
       "      <td>1.006971</td>\n",
       "      <td>12.198309</td>\n",
       "      <td>running speed</td>\n",
       "      <td>1007107386</td>\n",
       "      <td>495789</td>\n",
       "      <td>Sst Inhibitory</td>\n",
       "      <td>OPHYS_1_images_A</td>\n",
       "      <td>275</td>\n",
       "      <td>VisualBehavior</td>\n",
       "      <td>9</td>\n",
       "    </tr>\n",
       "    <tr>\n",
       "      <th>1086491514</th>\n",
       "      <td>2.859918e-02</td>\n",
       "      <td>1.030356</td>\n",
       "      <td>16.364746</td>\n",
       "      <td>running speed</td>\n",
       "      <td>1007107386</td>\n",
       "      <td>495789</td>\n",
       "      <td>Sst Inhibitory</td>\n",
       "      <td>OPHYS_1_images_A</td>\n",
       "      <td>275</td>\n",
       "      <td>VisualBehavior</td>\n",
       "      <td>9</td>\n",
       "    </tr>\n",
       "    <tr>\n",
       "      <th>1086491668</th>\n",
       "      <td>2.788102e-02</td>\n",
       "      <td>1.006892</td>\n",
       "      <td>6.371769</td>\n",
       "      <td>running speed</td>\n",
       "      <td>1007107386</td>\n",
       "      <td>495789</td>\n",
       "      <td>Sst Inhibitory</td>\n",
       "      <td>OPHYS_1_images_A</td>\n",
       "      <td>275</td>\n",
       "      <td>VisualBehavior</td>\n",
       "      <td>9</td>\n",
       "    </tr>\n",
       "    <tr>\n",
       "      <th>1086491423</th>\n",
       "      <td>2.550116e-02</td>\n",
       "      <td>1.005963</td>\n",
       "      <td>7.924300</td>\n",
       "      <td>running speed</td>\n",
       "      <td>1007107386</td>\n",
       "      <td>495789</td>\n",
       "      <td>Sst Inhibitory</td>\n",
       "      <td>OPHYS_1_images_A</td>\n",
       "      <td>275</td>\n",
       "      <td>VisualBehavior</td>\n",
       "      <td>9</td>\n",
       "    </tr>\n",
       "    <tr>\n",
       "      <th>1086491573</th>\n",
       "      <td>1.661356e-02</td>\n",
       "      <td>1.057500</td>\n",
       "      <td>10.983223</td>\n",
       "      <td>running speed</td>\n",
       "      <td>1007107386</td>\n",
       "      <td>495789</td>\n",
       "      <td>Sst Inhibitory</td>\n",
       "      <td>OPHYS_1_images_A</td>\n",
       "      <td>275</td>\n",
       "      <td>VisualBehavior</td>\n",
       "      <td>9</td>\n",
       "    </tr>\n",
       "    <tr>\n",
       "      <th>...</th>\n",
       "      <td>...</td>\n",
       "      <td>...</td>\n",
       "      <td>...</td>\n",
       "      <td>...</td>\n",
       "      <td>...</td>\n",
       "      <td>...</td>\n",
       "      <td>...</td>\n",
       "      <td>...</td>\n",
       "      <td>...</td>\n",
       "      <td>...</td>\n",
       "      <td>...</td>\n",
       "    </tr>\n",
       "    <tr>\n",
       "      <th>1086555167</th>\n",
       "      <td>5.710093e-06</td>\n",
       "      <td>22.526447</td>\n",
       "      <td>-0.536158</td>\n",
       "      <td>running speed</td>\n",
       "      <td>993891850</td>\n",
       "      <td>485152</td>\n",
       "      <td>Excitatory</td>\n",
       "      <td>OPHYS_4_images_B</td>\n",
       "      <td>259</td>\n",
       "      <td>VisualBehaviorMultiscope</td>\n",
       "      <td>0</td>\n",
       "    </tr>\n",
       "    <tr>\n",
       "      <th>1086562202</th>\n",
       "      <td>4.110905e-06</td>\n",
       "      <td>22.525776</td>\n",
       "      <td>-0.567611</td>\n",
       "      <td>running speed</td>\n",
       "      <td>993891850</td>\n",
       "      <td>485152</td>\n",
       "      <td>Excitatory</td>\n",
       "      <td>OPHYS_4_images_B</td>\n",
       "      <td>259</td>\n",
       "      <td>VisualBehaviorMultiscope</td>\n",
       "      <td>0</td>\n",
       "    </tr>\n",
       "    <tr>\n",
       "      <th>1086537107</th>\n",
       "      <td>1.976284e-06</td>\n",
       "      <td>22.516637</td>\n",
       "      <td>0.131598</td>\n",
       "      <td>running speed</td>\n",
       "      <td>993891850</td>\n",
       "      <td>485152</td>\n",
       "      <td>Excitatory</td>\n",
       "      <td>OPHYS_4_images_B</td>\n",
       "      <td>259</td>\n",
       "      <td>VisualBehaviorMultiscope</td>\n",
       "      <td>0</td>\n",
       "    </tr>\n",
       "    <tr>\n",
       "      <th>1086522460</th>\n",
       "      <td>1.256355e-06</td>\n",
       "      <td>22.519511</td>\n",
       "      <td>0.219590</td>\n",
       "      <td>running speed</td>\n",
       "      <td>993891850</td>\n",
       "      <td>485152</td>\n",
       "      <td>Excitatory</td>\n",
       "      <td>OPHYS_4_images_B</td>\n",
       "      <td>259</td>\n",
       "      <td>VisualBehaviorMultiscope</td>\n",
       "      <td>0</td>\n",
       "    </tr>\n",
       "    <tr>\n",
       "      <th>1086535682</th>\n",
       "      <td>2.827284e-07</td>\n",
       "      <td>22.519912</td>\n",
       "      <td>0.088789</td>\n",
       "      <td>running speed</td>\n",
       "      <td>993891850</td>\n",
       "      <td>485152</td>\n",
       "      <td>Excitatory</td>\n",
       "      <td>OPHYS_4_images_B</td>\n",
       "      <td>259</td>\n",
       "      <td>VisualBehaviorMultiscope</td>\n",
       "      <td>0</td>\n",
       "    </tr>\n",
       "  </tbody>\n",
       "</table>\n",
       "<p>47977 rows × 11 columns</p>\n",
       "</div>"
      ],
      "text/plain": [
       "                      rsquared      const  mean_response     regression  \\\n",
       "cell_specimen_id                                                          \n",
       "1086491370        3.335882e-02   1.006971      12.198309  running speed   \n",
       "1086491514        2.859918e-02   1.030356      16.364746  running speed   \n",
       "1086491668        2.788102e-02   1.006892       6.371769  running speed   \n",
       "1086491423        2.550116e-02   1.005963       7.924300  running speed   \n",
       "1086491573        1.661356e-02   1.057500      10.983223  running speed   \n",
       "...                        ...        ...            ...            ...   \n",
       "1086555167        5.710093e-06  22.526447      -0.536158  running speed   \n",
       "1086562202        4.110905e-06  22.525776      -0.567611  running speed   \n",
       "1086537107        1.976284e-06  22.516637       0.131598  running speed   \n",
       "1086522460        1.256355e-06  22.519511       0.219590  running speed   \n",
       "1086535682        2.827284e-07  22.519912       0.088789  running speed   \n",
       "\n",
       "                  ophys_experiment_id  mouse_id       cell_type  \\\n",
       "cell_specimen_id                                                  \n",
       "1086491370                 1007107386    495789  Sst Inhibitory   \n",
       "1086491514                 1007107386    495789  Sst Inhibitory   \n",
       "1086491668                 1007107386    495789  Sst Inhibitory   \n",
       "1086491423                 1007107386    495789  Sst Inhibitory   \n",
       "1086491573                 1007107386    495789  Sst Inhibitory   \n",
       "...                               ...       ...             ...   \n",
       "1086555167                  993891850    485152      Excitatory   \n",
       "1086562202                  993891850    485152      Excitatory   \n",
       "1086537107                  993891850    485152      Excitatory   \n",
       "1086522460                  993891850    485152      Excitatory   \n",
       "1086535682                  993891850    485152      Excitatory   \n",
       "\n",
       "                      session_type  imaging_depth              project_code  \\\n",
       "cell_specimen_id                                                              \n",
       "1086491370        OPHYS_1_images_A            275            VisualBehavior   \n",
       "1086491514        OPHYS_1_images_A            275            VisualBehavior   \n",
       "1086491668        OPHYS_1_images_A            275            VisualBehavior   \n",
       "1086491423        OPHYS_1_images_A            275            VisualBehavior   \n",
       "1086491573        OPHYS_1_images_A            275            VisualBehavior   \n",
       "...                            ...            ...                       ...   \n",
       "1086555167        OPHYS_4_images_B            259  VisualBehaviorMultiscope   \n",
       "1086562202        OPHYS_4_images_B            259  VisualBehaviorMultiscope   \n",
       "1086537107        OPHYS_4_images_B            259  VisualBehaviorMultiscope   \n",
       "1086522460        OPHYS_4_images_B            259  VisualBehaviorMultiscope   \n",
       "1086535682        OPHYS_4_images_B            259  VisualBehaviorMultiscope   \n",
       "\n",
       "                  prior_exposures_to_image_set  \n",
       "cell_specimen_id                                \n",
       "1086491370                                   9  \n",
       "1086491514                                   9  \n",
       "1086491668                                   9  \n",
       "1086491423                                   9  \n",
       "1086491573                                   9  \n",
       "...                                        ...  \n",
       "1086555167                                   0  \n",
       "1086562202                                   0  \n",
       "1086537107                                   0  \n",
       "1086522460                                   0  \n",
       "1086535682                                   0  \n",
       "\n",
       "[47977 rows x 11 columns]"
      ]
     },
     "execution_count": 21,
     "metadata": {},
     "output_type": "execute_result"
    }
   ],
   "source": [
    "run_speed_params_all"
   ]
  },
  {
   "cell_type": "code",
   "execution_count": 24,
   "id": "79030c9a-2c66-4c3e-a823-1898b8ddf677",
   "metadata": {},
   "outputs": [
    {
     "data": {
      "text/html": [
       "\n",
       "        <iframe\n",
       "            width=\"100%\"\n",
       "            height=\"475\"\n",
       "            src=\"http://localhost:40000/dtale/iframe/2\"\n",
       "            frameborder=\"0\"\n",
       "            allowfullscreen\n",
       "            \n",
       "        ></iframe>\n",
       "        "
      ],
      "text/plain": [
       "<IPython.lib.display.IFrame at 0x199520c1d08>"
      ]
     },
     "metadata": {},
     "output_type": "display_data"
    },
    {
     "data": {
      "text/plain": []
     },
     "execution_count": 24,
     "metadata": {},
     "output_type": "execute_result"
    }
   ],
   "source": [
    "dtale.show(run_speed_params_all)"
   ]
  },
  {
   "cell_type": "code",
   "execution_count": 23,
   "id": "15e03d2a-6db4-48b7-a8a3-e2dd64ebf49a",
   "metadata": {},
   "outputs": [],
   "source": [
    "run_speed_params_all.to_pickle('run_speed_params_all-time_window=[0, 0.75].pkl')"
   ]
  },
  {
   "cell_type": "code",
   "execution_count": 25,
   "id": "2491cba4-6fc2-41a7-96d2-ec6309a0296b",
   "metadata": {},
   "outputs": [],
   "source": [
    "run_speed_params_all.to_csv('run_speed_params_all-time_window=[0, 0.75].csv')"
   ]
  },
  {
   "cell_type": "code",
   "execution_count": null,
   "id": "11b55dae-5640-45a9-bfcb-53302c017ad5",
   "metadata": {},
   "outputs": [],
   "source": []
  }
 ],
 "metadata": {
  "kernelspec": {
   "display_name": "Python 3 (ipykernel)",
   "language": "python",
   "name": "python3"
  },
  "language_info": {
   "codemirror_mode": {
    "name": "ipython",
    "version": 3
   },
   "file_extension": ".py",
   "mimetype": "text/x-python",
   "name": "python",
   "nbconvert_exporter": "python",
   "pygments_lexer": "ipython3",
   "version": "3.11.8"
  }
 },
 "nbformat": 4,
 "nbformat_minor": 5
}
