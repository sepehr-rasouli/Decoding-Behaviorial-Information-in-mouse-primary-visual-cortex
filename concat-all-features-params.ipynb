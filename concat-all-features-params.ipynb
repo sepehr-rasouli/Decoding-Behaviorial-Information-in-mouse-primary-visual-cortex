{
 "cells": [
  {
   "cell_type": "code",
   "execution_count": 2,
   "id": "e75e05cd-536b-4248-b1ba-1b6a5e1a1b15",
   "metadata": {},
   "outputs": [
    {
     "name": "stderr",
     "output_type": "stream",
     "text": [
      "C:\\Users\\sepeh\\.conda\\envs\\allen-sdk\\lib\\site-packages\\numpy\\_distributor_init.py:32: UserWarning: loaded more than 1 DLL from .libs:\n",
      "C:\\Users\\sepeh\\.conda\\envs\\allen-sdk\\lib\\site-packages\\numpy\\.libs\\libopenblas.GK7GX5KEQ4F6UYO3P26ULGBQYHGQO7J4.gfortran-win_amd64.dll\n",
      "C:\\Users\\sepeh\\.conda\\envs\\allen-sdk\\lib\\site-packages\\numpy\\.libs\\libopenblas.PYQHXLVVQ7VESDPUVUADXEVJOBGHJPAY.gfortran-win_amd64.dll\n",
      "C:\\Users\\sepeh\\.conda\\envs\\allen-sdk\\lib\\site-packages\\numpy\\.libs\\libopenblas.xwydx2ikjw2nmtwsfyngfuwkqu3lytcz.gfortran-win_amd64.dll\n",
      "  stacklevel=1)\n"
     ]
    },
    {
     "data": {
      "text/html": [
       "<style>.container { width:100% !important; }</style>"
      ],
      "text/plain": [
       "<IPython.core.display.HTML object>"
      ]
     },
     "metadata": {},
     "output_type": "display_data"
    }
   ],
   "source": [
    "# import matplotlib.pyplot as plt\n",
    "# import seaborn as sns\n",
    "import os\n",
    "import numpy as np\n",
    "import pandas as pd\n",
    "from pathlib import Path\n",
    "import re\n",
    "\n",
    "# import shelve\n",
    "# import pickle\n",
    "pd.set_option('display.max_columns', 500)\n",
    "\n",
    "# import allensdk.brain_observatory.behavior.behavior_project_cache as bpc\n",
    "\n",
    "# import allensdk\n",
    "# import pkg_resources\n",
    "# print('allensdk version 2.10.2 or higher is required, you have {} installed'.format(pkg_resources.get_distribution(\"allensdk\").version))\n",
    "\n",
    "# %matplotlib notebook\n",
    "# %matplotlib inline\n",
    "\n",
    "%matplotlib widget\n",
    "\n",
    "from IPython.core.display import display, HTML\n",
    "display(HTML(\"<style>.container { width:100% !important; }</style>\"))\n",
    "\n",
    "# import scipy.stats as st\n",
    "# # from pandasgui import show\n",
    "# from matplotlib.pyplot import figure\n",
    "# import mindscope_utilities.visual_behavior_ophys as ophys\n",
    "# from sklearn import linear_model\n",
    "# import statsmodels.api as sm\n",
    "\n",
    "# cache_dir = Path(\"G:/allensdk\")\n",
    "# cache = bpc.VisualBehaviorOphysProjectCache.from_s3_cache(cache_dir=cache_dir)\n",
    "# experiments_table = cache.get_ophys_experiment_table()\n",
    "# cell_table = cache.get_ophys_cells_table()\n"
   ]
  },
  {
   "cell_type": "code",
   "execution_count": 3,
   "id": "a0304a63-8d24-4890-92f3-3a72d98bf434",
   "metadata": {},
   "outputs": [],
   "source": [
    "import pkg_resources\n",
    "pkg_resources.require(\"dtale==2.5.1\")\n",
    "import dtale\n"
   ]
  },
  {
   "cell_type": "code",
   "execution_count": 4,
   "id": "eae00b40-d51a-41e5-8fef-0bfbed6d8202",
   "metadata": {},
   "outputs": [],
   "source": [
    "# read the cleaned ophys table\n",
    "experiments_table = pd.read_csv('cleaned-ophyexp_v1.csv')"
   ]
  },
  {
   "cell_type": "code",
   "execution_count": 5,
   "id": "d93ae46f-053a-41d4-9f5a-a7cd2265e680",
   "metadata": {},
   "outputs": [
    {
     "name": "stdout",
     "output_type": "stream",
     "text": [
      "VisualBehavior experiments = 134\n",
      "VisualBehaviorMultiscope experiments = 518\n"
     ]
    }
   ],
   "source": [
    "vis_behave_df = experiments_table[experiments_table.project_code == 'VisualBehavior']\n",
    "multi_behave_df = experiments_table[experiments_table.project_code == 'VisualBehaviorMultiscope']\n",
    "vis_behave_ophys_id = vis_behave_df.ophys_experiment_id.values\n",
    "multi_behave_ophys_id = multi_behave_df.ophys_experiment_id.values\n",
    "\n",
    "print('VisualBehavior experiments = '+ str(len(vis_behave_df)))\n",
    "print('VisualBehaviorMultiscope experiments = ' + str(len(multi_behave_df)))"
   ]
  },
  {
   "cell_type": "code",
   "execution_count": 6,
   "id": "f3c81e6e-d639-40be-a3f7-3b27d084cb12",
   "metadata": {},
   "outputs": [],
   "source": [
    "from os import listdir\n",
    "from os.path import isfile, join\n",
    "mypath = \"C:/Users/sepeh/allensdkp1/toturial\"\n",
    "onlyfiles = [f for f in listdir(mypath) if isfile(join(mypath, f))]"
   ]
  },
  {
   "cell_type": "code",
   "execution_count": 7,
   "id": "a1745312-c28d-4c50-b5cc-38b7ca3ea00b",
   "metadata": {},
   "outputs": [
    {
     "data": {
      "text/plain": [
       "['VisualBehavior_Exercises_Solutions.ipynb',\n",
       " 'VisualBehavior_Tutorial_Solutions.ipynb']"
      ]
     },
     "execution_count": 7,
     "metadata": {},
     "output_type": "execute_result"
    }
   ],
   "source": [
    "onlyfiles"
   ]
  },
  {
   "cell_type": "code",
   "execution_count": 8,
   "id": "eeedce22-c341-47c2-abf6-11f3afa601cf",
   "metadata": {},
   "outputs": [
    {
     "data": {
      "text/plain": [
       "'C:\\\\Users\\\\sepeh\\\\allensdkp1\\\\important notebooks'"
      ]
     },
     "execution_count": 8,
     "metadata": {},
     "output_type": "execute_result"
    }
   ],
   "source": [
    "# get current path \n",
    "cur_dir = os.getcwd()\n",
    "cur_dir"
   ]
  },
  {
   "cell_type": "code",
   "execution_count": null,
   "id": "bc6db2a5-a53e-4945-8124-ea9a3732cb69",
   "metadata": {
    "tags": []
   },
   "outputs": [],
   "source": []
  },
  {
   "cell_type": "code",
   "execution_count": 9,
   "id": "683ebca5-7ebd-434b-aaaa-67985c037b6d",
   "metadata": {},
   "outputs": [],
   "source": [
    "# import glob, os\n",
    "# os.chdir(\"/run_binary_params_score\")\n",
    "# for file in glob.glob(\"*.pkl\"):\n",
    "#     print(file)"
   ]
  },
  {
   "cell_type": "code",
   "execution_count": 10,
   "id": "ae15f984-7e4d-4438-b46e-0971e6f8bfaf",
   "metadata": {},
   "outputs": [],
   "source": [
    "X_colls = ['mean_running_speed','lick_rate','mean_pupil_area','is_rewarded','is_rewarded_on_previous']\n",
    "Y_colls = 'mean_response'\n",
    "# my_dict\n",
    "folder_name = \"dff-params-score\"\n",
    "mypath = \"C:/Users/sepeh/allensdkp1/important notebooks/\" + folder_name\n",
    "files = [f for f in listdir(mypath) if f !='desktop.ini' and isfile(join(mypath, f))]\n",
    "# onlyfiles"
   ]
  },
  {
   "cell_type": "code",
   "execution_count": 11,
   "id": "a7c10402-2f37-4fe6-b6cc-0e41bb2770fe",
   "metadata": {},
   "outputs": [
    {
     "data": {
      "text/plain": [
       "650"
      ]
     },
     "execution_count": 11,
     "metadata": {},
     "output_type": "execute_result"
    }
   ],
   "source": [
    "files\n",
    "len(files)"
   ]
  },
  {
   "cell_type": "code",
   "execution_count": 12,
   "id": "00fa7e61-7248-4b8c-a616-e1e995bd6adc",
   "metadata": {},
   "outputs": [
    {
     "data": {
      "text/plain": [
       "134"
      ]
     },
     "execution_count": 12,
     "metadata": {},
     "output_type": "execute_result"
    }
   ],
   "source": [
    "# converting dtype int to str\n",
    "vis_behave_ophys_id = np.array(vis_behave_ophys_id).astype(str)\n",
    "multi_behave_ophys_id = np.array(multi_behave_ophys_id).astype(str)\n",
    "\n",
    "len(vis_behave_ophys_id)"
   ]
  },
  {
   "cell_type": "code",
   "execution_count": null,
   "id": "492bd453-3950-4f79-89a0-a533e3fcc878",
   "metadata": {},
   "outputs": [],
   "source": []
  },
  {
   "cell_type": "code",
   "execution_count": 13,
   "id": "3b5f0ed7-be75-47dc-8b28-d2c28509457a",
   "metadata": {},
   "outputs": [],
   "source": [
    "vis_behave_files = []\n",
    "for file_name in files:\n",
    "    for id in vis_behave_ophys_id:\n",
    "        if id in file_name:\n",
    "            vis_behave_files.append(file_name)"
   ]
  },
  {
   "cell_type": "code",
   "execution_count": 14,
   "id": "6fd017a9-8c11-4b53-ac04-4a08688d4727",
   "metadata": {},
   "outputs": [],
   "source": [
    "multi_behave_files = []\n",
    "for file_name in files:\n",
    "    for id in multi_behave_ophys_id:\n",
    "        if id in file_name:\n",
    "            multi_behave_files.append(file_name)"
   ]
  },
  {
   "cell_type": "code",
   "execution_count": null,
   "id": "3afb4046-37ac-4d7a-8cee-1d48cc829acc",
   "metadata": {},
   "outputs": [],
   "source": [
    "\n"
   ]
  },
  {
   "cell_type": "code",
   "execution_count": 15,
   "id": "faff6380-3f03-47cf-90e3-16e5be3f0e71",
   "metadata": {},
   "outputs": [
    {
     "data": {
      "text/plain": [
       "132"
      ]
     },
     "execution_count": 15,
     "metadata": {},
     "output_type": "execute_result"
    }
   ],
   "source": [
    "len(vis_behave_files)"
   ]
  },
  {
   "cell_type": "code",
   "execution_count": 16,
   "id": "db277be3-4828-4792-830a-2289ba6696ae",
   "metadata": {},
   "outputs": [
    {
     "data": {
      "text/plain": [
       "518"
      ]
     },
     "execution_count": 16,
     "metadata": {},
     "output_type": "execute_result"
    }
   ],
   "source": [
    "len(multi_behave_files)"
   ]
  },
  {
   "cell_type": "code",
   "execution_count": 17,
   "id": "c897703c-a2d6-4679-b989-e5af93f2138c",
   "metadata": {},
   "outputs": [],
   "source": [
    "# # make a huge pd for visualbehavior\n",
    "# run_binary_params = pd.DataFrame()\n",
    "# for file_name in vis_behave_files:\n",
    "#     path = \"C:/Users/sepeh/allensdkp1/important notebooks/\" + folder_name + '/' + file_name\n",
    "#     # read the pickle into pd \n",
    "#     params_df = pd.read_pickle(path)\n",
    "#     # add collumns for mouse_id, ophys_experiment,etc\n",
    "#     my_list = re.findall('\\d+', file_name)\n",
    "#     ophys_id = int(my_list[0])\n",
    "#     params_df['regression'] = 'running binary'\n",
    "#     params_df['ophys_experiment_id'] = ophys_id\n",
    "#     params_df['mouse_id'] = experiments_table[experiments_table.ophys_experiment_id == ophys_id].mouse_id.item()\n",
    "#     params_df['cell_type'] = experiments_table[experiments_table.ophys_experiment_id == ophys_id].cell_type.item()\n",
    "#     params_df['session_type'] = experiments_table[experiments_table.ophys_experiment_id == ophys_id].session_type.item()\n",
    "#     params_df['imaging_depth'] = experiments_table[experiments_table.ophys_experiment_id == ophys_id].imaging_depth.item()\n",
    "#     params_df['project_code'] = experiments_table[experiments_table.ophys_experiment_id == ophys_id].project_code.item()\n",
    "#     params_df['prior_exposures_to_image_set'] = experiments_table[experiments_table.ophys_experiment_id == ophys_id].prior_exposures_to_image_set.item()\n",
    "#     run_binary_params = pd.concat([run_binary_params, params_df])"
   ]
  },
  {
   "cell_type": "code",
   "execution_count": 18,
   "id": "f1e4bc9f-1bd6-4b76-84d6-22f804f77952",
   "metadata": {},
   "outputs": [],
   "source": [
    "# # make a huge pd for multiscope\n",
    "# run_binary_params = pd.DataFrame()\n",
    "# for file_name in vis_behave_files:\n",
    "#     path = \"C:/Users/sepeh/allensdkp1/important notebooks/\" + folder_name + '/' + file_name\n",
    "#     # read the pickle into pd \n",
    "#     params_df = pd.read_pickle(path)\n",
    "#     # add collumns for mouse_id, ophys_experiment,etc\n",
    "#     my_list = re.findall('\\d+', file_name)\n",
    "#     ophys_id = int(my_list[0])\n",
    "#     params_df['ophys_experiment_id'] = ophys_id\n",
    "#     params_df['mouse_id'] = experiments_table[experiments_table.ophys_experiment_id == ophys_id].mouse_id.item()\n",
    "#     params_df['cell_type'] = experiments_table[experiments_table.ophys_experiment_id == ophys_id].cell_type.item()\n",
    "#     params_df['session_type'] = experiments_table[experiments_table.ophys_experiment_id == ophys_id].session_type.item()\n",
    "#     params_df['imaging_depth'] = experiments_table[experiments_table.ophys_experiment_id == ophys_id].imaging_depth.item()\n",
    "#     run_binary_params = pd.concat([run_binary_params, params_df])"
   ]
  },
  {
   "cell_type": "code",
   "execution_count": 19,
   "id": "17576469-78f7-440e-ac93-86ed55136408",
   "metadata": {},
   "outputs": [],
   "source": [
    "# run_binary_params"
   ]
  },
  {
   "cell_type": "code",
   "execution_count": 20,
   "id": "b3537d11-9485-444a-a5e8-20076577c859",
   "metadata": {
    "tags": []
   },
   "outputs": [],
   "source": [
    "# dtale.show(run_binary_params)"
   ]
  },
  {
   "cell_type": "code",
   "execution_count": 21,
   "id": "8f38b89e-0f8b-4216-853e-a712ead3566f",
   "metadata": {},
   "outputs": [
    {
     "data": {
      "text/plain": [
       "1007107386"
      ]
     },
     "execution_count": 21,
     "metadata": {},
     "output_type": "execute_result"
    }
   ],
   "source": [
    "# for file_name in vis_behave_files[0]:\n",
    "#     path = \"C:/Users/sepeh/allensdkp1/important notebooks/\" + folder_name + '/' + file_name\n",
    "#     list = file_name.rsplit(\"-)\n",
    "import re\n",
    "                            \n",
    "file_name = vis_behave_files[0]\n",
    "    # path = \"C:/Users/sepeh/allensdkp1/important notebooks/\" + folder_name + '/' + file_name\n",
    "# list = file_name.rsplit(\"-\")\n",
    "# list = [int(s) for s in file_name.split() if s.isdigit()]\n",
    "my_list = re.findall('\\d+', file_name )\n",
    "int(my_list[0])\n",
    "# print(file_name)"
   ]
  },
  {
   "cell_type": "code",
   "execution_count": 27,
   "id": "02e6b1c8-339e-4749-9eb9-7da59e78d326",
   "metadata": {
    "tags": []
   },
   "outputs": [],
   "source": [
    "# for all files\n",
    "# make a huge pd for visualbehavior\n",
    "params_all_features = pd.DataFrame()\n",
    "for file_name in files:\n",
    "    path = \"C:/Users/sepeh/allensdkp1/important notebooks/\" + folder_name + '/' + file_name\n",
    "    # read the pickle into pd \n",
    "    params_df = pd.read_pickle(path)\n",
    "    # add collumns for mouse_id, ophys_experiment,etc\n",
    "    my_list = re.findall('\\d+', file_name)\n",
    "    ophys_id = int(my_list[0])\n",
    "    params_df['regression'] = 'run_spped-pupil-lick_rate-reward-reward_prev'\n",
    "    params_df['ophys_experiment_id'] = ophys_id\n",
    "    params_df['mouse_id'] = experiments_table[experiments_table.ophys_experiment_id == ophys_id].mouse_id.item()\n",
    "    params_df['cell_type'] = experiments_table[experiments_table.ophys_experiment_id == ophys_id].cell_type.item()\n",
    "    params_df['session_type'] = experiments_table[experiments_table.ophys_experiment_id == ophys_id].session_type.item()\n",
    "    params_df['imaging_depth'] = experiments_table[experiments_table.ophys_experiment_id == ophys_id].imaging_depth.item()\n",
    "    params_df['project_code'] = experiments_table[experiments_table.ophys_experiment_id == ophys_id].project_code.item()\n",
    "    params_df['prior_exposures_to_image_set'] = experiments_table[experiments_table.ophys_experiment_id == ophys_id].prior_exposures_to_image_set.item()\n",
    "    params_all_features = pd.concat([params_all_features, params_df])\n"
   ]
  },
  {
   "cell_type": "code",
   "execution_count": 28,
   "id": "79030c9a-2c66-4c3e-a823-1898b8ddf677",
   "metadata": {},
   "outputs": [
    {
     "data": {
      "text/html": [
       "\n",
       "        <iframe\n",
       "            width=\"100%\"\n",
       "            height=\"475\"\n",
       "            src=\"http://localhost:40000/dtale/iframe/2\"\n",
       "            frameborder=\"0\"\n",
       "            allowfullscreen\n",
       "            \n",
       "        ></iframe>\n",
       "        "
      ],
      "text/plain": [
       "<IPython.lib.display.IFrame at 0x1b886e8e748>"
      ]
     },
     "metadata": {},
     "output_type": "display_data"
    },
    {
     "data": {
      "text/plain": []
     },
     "execution_count": 28,
     "metadata": {},
     "output_type": "execute_result"
    }
   ],
   "source": [
    "dtale.show(params_all_features)"
   ]
  },
  {
   "cell_type": "code",
   "execution_count": 29,
   "id": "c6f9646c-d971-4949-b229-1bf0ae9990e9",
   "metadata": {},
   "outputs": [
    {
     "name": "stdout",
     "output_type": "stream",
     "text": [
      "To gain access to an instance object simply pass the value from 'ID' to dtale.get_instance(ID)\n",
      "\n",
      "ID Name                                 URL\n",
      " 1      http://localhost:40000/dtale/main/1\n",
      "        http://localhost:40000/dtale/main/1\n",
      " 2      http://localhost:40000/dtale/main/2\n",
      "        http://localhost:40000/dtale/main/2\n"
     ]
    }
   ],
   "source": [
    "dtale.instances()\n",
    "# dtale.app"
   ]
  },
  {
   "cell_type": "code",
   "execution_count": 30,
   "id": "15e03d2a-6db4-48b7-a8a3-e2dd64ebf49a",
   "metadata": {},
   "outputs": [],
   "source": [
    "params_all_features.to_pickle('params_all_features-time_window=[0, 0.75].pkl')"
   ]
  },
  {
   "cell_type": "code",
   "execution_count": 31,
   "id": "0c86b743-9c2f-4b7b-91d6-be4ee1a212ff",
   "metadata": {},
   "outputs": [],
   "source": [
    "params_all_features.to_csv('params_all_features-time_window=[0, 0.75].csv')"
   ]
  },
  {
   "cell_type": "code",
   "execution_count": 33,
   "id": "4e2c81ab-75f8-4234-b200-18e4179a4806",
   "metadata": {},
   "outputs": [],
   "source": [
    "trace = np.array([0.08004147,  0.07380396,  0.00773328, -0.05705287, -0.04694541,  0.00487891,\n",
    "  0.05958131, -0.02470793, -0.12684361, -0.00291147, -0.02726259, -0.00400851,\n",
    " -0.04269124,  0.03450933, -0.05367954,  0.21994431,  0.0849562,   0.11943994,\n",
    " -0.01084419, -0.04714525,  0.11831044,  0.10347314,  0.09354208,  0.12503274])"
   ]
  },
  {
   "cell_type": "code",
   "execution_count": 35,
   "id": "dad556c8-3756-48ed-b70d-71ca9bf48574",
   "metadata": {},
   "outputs": [
    {
     "data": {
      "text/plain": [
       "0.0283814375"
      ]
     },
     "execution_count": 35,
     "metadata": {},
     "output_type": "execute_result"
    }
   ],
   "source": [
    "trace.mean()"
   ]
  },
  {
   "cell_type": "code",
   "execution_count": null,
   "id": "d5c360d6-666c-4d22-b18d-659d64d33204",
   "metadata": {},
   "outputs": [],
   "source": [
    "# confirmed the mean_response is actually the mean response no need to calcualte it again."
   ]
  }
 ],
 "metadata": {
  "kernelspec": {
   "display_name": "visual_behavior_analysis",
   "language": "python",
   "name": "visual_behavior_analysis"
  },
  "language_info": {
   "codemirror_mode": {
    "name": "ipython",
    "version": 3
   },
   "file_extension": ".py",
   "mimetype": "text/x-python",
   "name": "python",
   "nbconvert_exporter": "python",
   "pygments_lexer": "ipython3",
   "version": "3.7.11"
  }
 },
 "nbformat": 4,
 "nbformat_minor": 5
}
