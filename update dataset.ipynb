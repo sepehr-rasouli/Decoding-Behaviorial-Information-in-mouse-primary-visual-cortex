{
 "cells": [
  {
   "cell_type": "code",
   "execution_count": 2,
   "id": "1cd21a40-b9df-4f3b-813c-943151efc3c3",
   "metadata": {
    "ExecuteTime": {
     "end_time": "2024-05-02T18:58:19.660181Z",
     "start_time": "2024-05-02T18:58:17.685209Z"
    }
   },
   "outputs": [
    {
     "name": "stderr",
     "output_type": "stream",
     "text": [
      "C:\\ProgramData\\Anaconda3\\envs\\Allen-sdk-latest\\Lib\\site-packages\\allensdk\\brain_observatory\\behavior\\behavior_project_cache\\behavior_project_cache.py:135: UpdatedStimulusPresentationTableWarning: \n",
      "\tAs of AllenSDK version 2.16.0, the latest Visual Behavior Ophys data has been significantly updated from previous releases. Specifically the user will need to update all processing of the stimulus_presentations tables. These tables now include multiple stimulus types delineated by the columns `stimulus_block` and `stimulus_block_name`.\n",
      "\n",
      "The data that was available in previous releases are stored in the block name containing 'change_detection' and can be accessed in the pandas table by using: \n",
      "\t`stimulus_presentations[stimulus_presentations.stimulus_block_name.str.contains('change_detection')]`\n",
      "  warnings.warn(\n"
     ]
    }
   ],
   "source": [
    "import allensdk\n",
    "from pathlib import Path\n",
    "from allensdk.brain_observatory.behavior.behavior_project_cache import VisualBehaviorOphysProjectCache\n",
    "import allensdk.brain_observatory.behavior.behavior_project_cache as bpc\n",
    "\n",
    "data_storage_directory = Path(\"G:/allensdk\")\n",
    "\n",
    "cache = bpc.VisualBehaviorOphysProjectCache.from_s3_cache(cache_dir=data_storage_directory)\n",
    "          \n",
    "behavior_sessions = cache.get_behavior_session_table()   \n",
    "behavior_ophys_sessions = cache.get_ophys_session_table()\n",
    "behavior_ophys_experiments = cache.get_ophys_experiment_table()\n",
    "\n",
    "\n"
   ]
  },
  {
   "cell_type": "code",
   "execution_count": 3,
   "id": "d71a210f-9967-4069-a145-1b9ee809a9ff",
   "metadata": {
    "ExecuteTime": {
     "end_time": "2024-05-02T18:58:23.706674Z",
     "start_time": "2024-05-02T18:58:23.685364Z"
    }
   },
   "outputs": [
    {
     "data": {
      "text/plain": [
       "['visual-behavior-ophys_project_manifest_v0.1.0.json',\n",
       " 'visual-behavior-ophys_project_manifest_v0.2.0.json',\n",
       " 'visual-behavior-ophys_project_manifest_v0.3.0.json',\n",
       " 'visual-behavior-ophys_project_manifest_v1.0.0.json',\n",
       " 'visual-behavior-ophys_project_manifest_v1.0.1.json',\n",
       " 'visual-behavior-ophys_project_manifest_v1.1.0.json']"
      ]
     },
     "execution_count": 3,
     "metadata": {},
     "output_type": "execute_result"
    }
   ],
   "source": [
    "cache.list_manifest_file_names()"
   ]
  },
  {
   "cell_type": "code",
   "execution_count": 16,
   "id": "c55608ff-4d73-42bd-ab6b-f6cd3a035f4e",
   "metadata": {},
   "outputs": [
    {
     "data": {
      "text/plain": [
       "'visual-behavior-ophys_project_manifest_v1.1.0.json'"
      ]
     },
     "execution_count": 16,
     "metadata": {},
     "output_type": "execute_result"
    }
   ],
   "source": [
    "cache.latest_manifest_file()"
   ]
  },
  {
   "cell_type": "code",
   "execution_count": 17,
   "id": "1227c347-ae09-4835-ab9c-ef5086ee28b7",
   "metadata": {},
   "outputs": [
    {
     "data": {
      "text/plain": [
       "'visual-behavior-ophys_project_manifest_v1.1.0.json'"
      ]
     },
     "execution_count": 17,
     "metadata": {},
     "output_type": "execute_result"
    }
   ],
   "source": [
    "cache.latest_downloaded_manifest_file()"
   ]
  },
  {
   "cell_type": "code",
   "execution_count": 18,
   "id": "e04e7245-6d18-40bd-9cad-d08fccd85994",
   "metadata": {},
   "outputs": [
    {
     "data": {
      "text/plain": [
       "['visual-behavior-ophys_project_manifest_v0.1.0.json',\n",
       " 'visual-behavior-ophys_project_manifest_v0.2.0.json',\n",
       " 'visual-behavior-ophys_project_manifest_v0.3.0.json',\n",
       " 'visual-behavior-ophys_project_manifest_v1.0.0.json',\n",
       " 'visual-behavior-ophys_project_manifest_v1.0.1.json',\n",
       " 'visual-behavior-ophys_project_manifest_v1.1.0.json']"
      ]
     },
     "execution_count": 18,
     "metadata": {},
     "output_type": "execute_result"
    }
   ],
   "source": [
    "cache.list_all_downloaded_manifests()"
   ]
  },
  {
   "cell_type": "code",
   "execution_count": 19,
   "id": "6853f472-f858-42d2-ba48-f909dbeb9041",
   "metadata": {},
   "outputs": [
    {
     "data": {
      "text/plain": [
       "'visual-behavior-ophys_project_manifest_v1.1.0.json'"
      ]
     },
     "execution_count": 19,
     "metadata": {},
     "output_type": "execute_result"
    }
   ],
   "source": [
    "cache.current_manifest()"
   ]
  },
  {
   "cell_type": "code",
   "execution_count": 20,
   "id": "881bd2ea-3a39-48c5-a045-deda2e8f6e54",
   "metadata": {},
   "outputs": [],
   "source": [
    "from allensdk.brain_observatory.behavior.behavior_project_cache.utils import \\\n",
    "    BehaviorCloudCacheVersionException\n",
    "\n",
    "try:\n",
    "    cache.load_manifest('visual-behavior-ophys_project_manifest_v1.1.0.json')\n",
    "except BehaviorCloudCacheVersionException as e:\n",
    "    print(e)\n",
    "    cache.load_manifest(cache.latest_manifest_file())"
   ]
  },
  {
   "cell_type": "code",
   "execution_count": 21,
   "id": "5d2793ee-4de6-4030-9334-9cadbde7794a",
   "metadata": {},
   "outputs": [
    {
     "data": {
      "text/plain": [
       "'visual-behavior-ophys_project_manifest_v1.1.0.json'"
      ]
     },
     "execution_count": 21,
     "metadata": {},
     "output_type": "execute_result"
    }
   ],
   "source": [
    "cache.current_manifest()"
   ]
  },
  {
   "cell_type": "code",
   "execution_count": 22,
   "id": "b713906f-a83e-497a-8fcc-f185baa01cf6",
   "metadata": {},
   "outputs": [],
   "source": [
    "msg = cache.compare_manifests('visual-behavior-ophys_project_manifest_v1.0.1.json',\n",
    "                              'visual-behavior-ophys_project_manifest_v1.1.0.json')\n",
    "# Open a file in write mode\n",
    "file = open(\"output.txt\", \"w\")\n",
    "\n",
    "# Write data to the file\n",
    "file.write(msg)\n",
    "\n",
    "# Close the file\n",
    "file.close()\n",
    "# print(msg)"
   ]
  },
  {
   "cell_type": "markdown",
   "id": "d3312c74-db2b-4aa2-9fc6-f54ea2287211",
   "metadata": {},
   "source": [
    "**Updating the dataset** "
   ]
  },
  {
   "cell_type": "code",
   "execution_count": null,
   "id": "b6a77622-460e-41ca-8a97-7e68b539ca23",
   "metadata": {},
   "outputs": [],
   "source": []
  },
  {
   "cell_type": "code",
   "execution_count": null,
   "id": "ffb63ca2-4236-4126-a392-e18bbfd23177",
   "metadata": {},
   "outputs": [],
   "source": []
  },
  {
   "cell_type": "code",
   "execution_count": null,
   "id": "9893a490-2560-49eb-98bb-f6506de79467",
   "metadata": {},
   "outputs": [],
   "source": []
  },
  {
   "cell_type": "code",
   "execution_count": 23,
   "id": "59036677-fe01-4552-834b-cb62120b3590",
   "metadata": {},
   "outputs": [],
   "source": [
    "# from allensdk.brain_observatory.behavior.behavior_ophys_session import VisualBehaviorOphysProjectCache\n",
    "\n",
    "# cache = VisualBehaviorOphysProjectCache()\n",
    "cache.load_manifest(manifest_name='visual-behavior-ophys_project_manifest_v1.1.0.json')"
   ]
  },
  {
   "cell_type": "code",
   "execution_count": 24,
   "id": "d10d66c1-af96-4238-b2b5-4a8d4ab32f08",
   "metadata": {},
   "outputs": [],
   "source": [
    "# VisualBehaviorOphysProjectCache.load_manifest(manifest_name='visual-behavior-ophys_project_manifest_v1.1.0.json')\n"
   ]
  },
  {
   "cell_type": "code",
   "execution_count": 4,
   "id": "0ae2b082-2698-44ab-bfaf-c4e95f8bbd10",
   "metadata": {
    "ExecuteTime": {
     "end_time": "2024-05-02T18:58:35.646517Z",
     "start_time": "2024-05-02T18:58:35.232071Z"
    }
   },
   "outputs": [
    {
     "name": "stdout",
     "output_type": "stream",
     "text": [
      "Your allensdk version is: 2.16.2\n"
     ]
    }
   ],
   "source": [
    "from pathlib import Path\n",
    "import matplotlib.pyplot as plt\n",
    "\n",
    "import allensdk\n",
    "from allensdk.brain_observatory.behavior.behavior_project_cache import VisualBehaviorOphysProjectCache\n",
    "\n",
    "# Confirming your allensdk version\n",
    "print(f\"Your allensdk version is: {allensdk.__version__}\")"
   ]
  },
  {
   "cell_type": "code",
   "execution_count": 16,
   "id": "74b50d63ba19b3c9",
   "metadata": {
    "ExecuteTime": {
     "end_time": "2024-05-02T19:19:02.323891Z",
     "start_time": "2024-05-02T19:19:02.315860Z"
    }
   },
   "outputs": [],
   "source": [
    "behavior_sessions = cache.get_behavior_session_table()   \n",
    "behavior_ophys_sessions = cache.get_ophys_session_table()\n",
    "behavior_ophys_experiments = cache.get_ophys_experiment_table() "
   ]
  },
  {
   "cell_type": "code",
   "execution_count": 19,
   "id": "922343cd49218751",
   "metadata": {
    "ExecuteTime": {
     "end_time": "2024-05-02T19:22:40.949874Z",
     "start_time": "2024-05-02T19:22:40.920198Z"
    }
   },
   "outputs": [
    {
     "data": {
      "text/html": [
       "<div>\n",
       "<style scoped>\n",
       "    .dataframe tbody tr th:only-of-type {\n",
       "        vertical-align: middle;\n",
       "    }\n",
       "\n",
       "    .dataframe tbody tr th {\n",
       "        vertical-align: top;\n",
       "    }\n",
       "\n",
       "    .dataframe thead th {\n",
       "        text-align: right;\n",
       "    }\n",
       "</style>\n",
       "<table border=\"1\" class=\"dataframe\">\n",
       "  <thead>\n",
       "    <tr style=\"text-align: right;\">\n",
       "      <th></th>\n",
       "      <th>behavior_session_id</th>\n",
       "      <th>ophys_session_id</th>\n",
       "      <th>ophys_container_id</th>\n",
       "      <th>mouse_id</th>\n",
       "      <th>indicator</th>\n",
       "      <th>full_genotype</th>\n",
       "      <th>driver_line</th>\n",
       "      <th>cre_line</th>\n",
       "      <th>reporter_line</th>\n",
       "      <th>sex</th>\n",
       "      <th>...</th>\n",
       "      <th>passive</th>\n",
       "      <th>experience_level</th>\n",
       "      <th>prior_exposures_to_session_type</th>\n",
       "      <th>prior_exposures_to_image_set</th>\n",
       "      <th>prior_exposures_to_omissions</th>\n",
       "      <th>date_of_acquisition</th>\n",
       "      <th>equipment_name</th>\n",
       "      <th>published_at</th>\n",
       "      <th>isi_experiment_id</th>\n",
       "      <th>file_id</th>\n",
       "    </tr>\n",
       "    <tr>\n",
       "      <th>ophys_experiment_id</th>\n",
       "      <th></th>\n",
       "      <th></th>\n",
       "      <th></th>\n",
       "      <th></th>\n",
       "      <th></th>\n",
       "      <th></th>\n",
       "      <th></th>\n",
       "      <th></th>\n",
       "      <th></th>\n",
       "      <th></th>\n",
       "      <th></th>\n",
       "      <th></th>\n",
       "      <th></th>\n",
       "      <th></th>\n",
       "      <th></th>\n",
       "      <th></th>\n",
       "      <th></th>\n",
       "      <th></th>\n",
       "      <th></th>\n",
       "      <th></th>\n",
       "      <th></th>\n",
       "    </tr>\n",
       "  </thead>\n",
       "  <tbody>\n",
       "    <tr>\n",
       "      <th>792815735</th>\n",
       "      <td>792680306</td>\n",
       "      <td>792619807</td>\n",
       "      <td>791352433</td>\n",
       "      <td>412036</td>\n",
       "      <td>GCaMP6f</td>\n",
       "      <td>Vip-IRES-Cre/wt;Ai148(TIT2L-GC6f-ICL-tTA2)/wt</td>\n",
       "      <td>[Vip-IRES-Cre]</td>\n",
       "      <td>Vip-IRES-Cre</td>\n",
       "      <td>Ai148(TIT2L-GC6f-ICL-tTA2)</td>\n",
       "      <td>F</td>\n",
       "      <td>...</td>\n",
       "      <td>False</td>\n",
       "      <td>Familiar</td>\n",
       "      <td>0</td>\n",
       "      <td>19</td>\n",
       "      <td>1</td>\n",
       "      <td>2018-12-10 13:37:29.143000+00:00</td>\n",
       "      <td>CAM2P.4</td>\n",
       "      <td>2021-03-25</td>\n",
       "      <td>754116317</td>\n",
       "      <td>53</td>\n",
       "    </tr>\n",
       "    <tr>\n",
       "      <th>795073741</th>\n",
       "      <td>794968300</td>\n",
       "      <td>794918442</td>\n",
       "      <td>791352433</td>\n",
       "      <td>412036</td>\n",
       "      <td>GCaMP6f</td>\n",
       "      <td>Vip-IRES-Cre/wt;Ai148(TIT2L-GC6f-ICL-tTA2)/wt</td>\n",
       "      <td>[Vip-IRES-Cre]</td>\n",
       "      <td>Vip-IRES-Cre</td>\n",
       "      <td>Ai148(TIT2L-GC6f-ICL-tTA2)</td>\n",
       "      <td>F</td>\n",
       "      <td>...</td>\n",
       "      <td>False</td>\n",
       "      <td>Familiar</td>\n",
       "      <td>0</td>\n",
       "      <td>21</td>\n",
       "      <td>3</td>\n",
       "      <td>2018-12-13 13:33:06.390000+00:00</td>\n",
       "      <td>CAM2P.4</td>\n",
       "      <td>2021-03-25</td>\n",
       "      <td>754116317</td>\n",
       "      <td>54</td>\n",
       "    </tr>\n",
       "    <tr>\n",
       "      <th>795953296</th>\n",
       "      <td>795742990</td>\n",
       "      <td>795625712</td>\n",
       "      <td>791352433</td>\n",
       "      <td>412036</td>\n",
       "      <td>GCaMP6f</td>\n",
       "      <td>Vip-IRES-Cre/wt;Ai148(TIT2L-GC6f-ICL-tTA2)/wt</td>\n",
       "      <td>[Vip-IRES-Cre]</td>\n",
       "      <td>Vip-IRES-Cre</td>\n",
       "      <td>Ai148(TIT2L-GC6f-ICL-tTA2)</td>\n",
       "      <td>F</td>\n",
       "      <td>...</td>\n",
       "      <td>False</td>\n",
       "      <td>Novel 1</td>\n",
       "      <td>0</td>\n",
       "      <td>0</td>\n",
       "      <td>4</td>\n",
       "      <td>2018-12-14 12:37:49.365000+00:00</td>\n",
       "      <td>CAM2P.4</td>\n",
       "      <td>2021-03-25</td>\n",
       "      <td>754116317</td>\n",
       "      <td>55</td>\n",
       "    </tr>\n",
       "    <tr>\n",
       "      <th>796108483</th>\n",
       "      <td>796052844</td>\n",
       "      <td>796044280</td>\n",
       "      <td>791352433</td>\n",
       "      <td>412036</td>\n",
       "      <td>GCaMP6f</td>\n",
       "      <td>Vip-IRES-Cre/wt;Ai148(TIT2L-GC6f-ICL-tTA2)/wt</td>\n",
       "      <td>[Vip-IRES-Cre]</td>\n",
       "      <td>Vip-IRES-Cre</td>\n",
       "      <td>Ai148(TIT2L-GC6f-ICL-tTA2)</td>\n",
       "      <td>F</td>\n",
       "      <td>...</td>\n",
       "      <td>True</td>\n",
       "      <td>Novel &gt;1</td>\n",
       "      <td>0</td>\n",
       "      <td>1</td>\n",
       "      <td>5</td>\n",
       "      <td>2018-12-15 13:11:14.373000+00:00</td>\n",
       "      <td>CAM2P.4</td>\n",
       "      <td>2021-03-25</td>\n",
       "      <td>754116317</td>\n",
       "      <td>56</td>\n",
       "    </tr>\n",
       "    <tr>\n",
       "      <th>796308505</th>\n",
       "      <td>796251270</td>\n",
       "      <td>796236521</td>\n",
       "      <td>791352433</td>\n",
       "      <td>412036</td>\n",
       "      <td>GCaMP6f</td>\n",
       "      <td>Vip-IRES-Cre/wt;Ai148(TIT2L-GC6f-ICL-tTA2)/wt</td>\n",
       "      <td>[Vip-IRES-Cre]</td>\n",
       "      <td>Vip-IRES-Cre</td>\n",
       "      <td>Ai148(TIT2L-GC6f-ICL-tTA2)</td>\n",
       "      <td>F</td>\n",
       "      <td>...</td>\n",
       "      <td>False</td>\n",
       "      <td>Novel &gt;1</td>\n",
       "      <td>0</td>\n",
       "      <td>2</td>\n",
       "      <td>6</td>\n",
       "      <td>2018-12-16 13:15:04.328000+00:00</td>\n",
       "      <td>CAM2P.4</td>\n",
       "      <td>2021-03-25</td>\n",
       "      <td>754116317</td>\n",
       "      <td>57</td>\n",
       "    </tr>\n",
       "  </tbody>\n",
       "</table>\n",
       "<p>5 rows × 30 columns</p>\n",
       "</div>"
      ],
      "text/plain": [
       "                     behavior_session_id  ophys_session_id  \\\n",
       "ophys_experiment_id                                          \n",
       "792815735                      792680306         792619807   \n",
       "795073741                      794968300         794918442   \n",
       "795953296                      795742990         795625712   \n",
       "796108483                      796052844         796044280   \n",
       "796308505                      796251270         796236521   \n",
       "\n",
       "                     ophys_container_id mouse_id indicator  \\\n",
       "ophys_experiment_id                                          \n",
       "792815735                     791352433   412036   GCaMP6f   \n",
       "795073741                     791352433   412036   GCaMP6f   \n",
       "795953296                     791352433   412036   GCaMP6f   \n",
       "796108483                     791352433   412036   GCaMP6f   \n",
       "796308505                     791352433   412036   GCaMP6f   \n",
       "\n",
       "                                                     full_genotype  \\\n",
       "ophys_experiment_id                                                  \n",
       "792815735            Vip-IRES-Cre/wt;Ai148(TIT2L-GC6f-ICL-tTA2)/wt   \n",
       "795073741            Vip-IRES-Cre/wt;Ai148(TIT2L-GC6f-ICL-tTA2)/wt   \n",
       "795953296            Vip-IRES-Cre/wt;Ai148(TIT2L-GC6f-ICL-tTA2)/wt   \n",
       "796108483            Vip-IRES-Cre/wt;Ai148(TIT2L-GC6f-ICL-tTA2)/wt   \n",
       "796308505            Vip-IRES-Cre/wt;Ai148(TIT2L-GC6f-ICL-tTA2)/wt   \n",
       "\n",
       "                        driver_line      cre_line               reporter_line  \\\n",
       "ophys_experiment_id                                                             \n",
       "792815735            [Vip-IRES-Cre]  Vip-IRES-Cre  Ai148(TIT2L-GC6f-ICL-tTA2)   \n",
       "795073741            [Vip-IRES-Cre]  Vip-IRES-Cre  Ai148(TIT2L-GC6f-ICL-tTA2)   \n",
       "795953296            [Vip-IRES-Cre]  Vip-IRES-Cre  Ai148(TIT2L-GC6f-ICL-tTA2)   \n",
       "796108483            [Vip-IRES-Cre]  Vip-IRES-Cre  Ai148(TIT2L-GC6f-ICL-tTA2)   \n",
       "796308505            [Vip-IRES-Cre]  Vip-IRES-Cre  Ai148(TIT2L-GC6f-ICL-tTA2)   \n",
       "\n",
       "                    sex  ...  passive  experience_level  \\\n",
       "ophys_experiment_id      ...                              \n",
       "792815735             F  ...    False          Familiar   \n",
       "795073741             F  ...    False          Familiar   \n",
       "795953296             F  ...    False           Novel 1   \n",
       "796108483             F  ...     True          Novel >1   \n",
       "796308505             F  ...    False          Novel >1   \n",
       "\n",
       "                    prior_exposures_to_session_type  \\\n",
       "ophys_experiment_id                                   \n",
       "792815735                                         0   \n",
       "795073741                                         0   \n",
       "795953296                                         0   \n",
       "796108483                                         0   \n",
       "796308505                                         0   \n",
       "\n",
       "                     prior_exposures_to_image_set  \\\n",
       "ophys_experiment_id                                 \n",
       "792815735                                      19   \n",
       "795073741                                      21   \n",
       "795953296                                       0   \n",
       "796108483                                       1   \n",
       "796308505                                       2   \n",
       "\n",
       "                     prior_exposures_to_omissions  \\\n",
       "ophys_experiment_id                                 \n",
       "792815735                                       1   \n",
       "795073741                                       3   \n",
       "795953296                                       4   \n",
       "796108483                                       5   \n",
       "796308505                                       6   \n",
       "\n",
       "                                 date_of_acquisition equipment_name  \\\n",
       "ophys_experiment_id                                                   \n",
       "792815735           2018-12-10 13:37:29.143000+00:00        CAM2P.4   \n",
       "795073741           2018-12-13 13:33:06.390000+00:00        CAM2P.4   \n",
       "795953296           2018-12-14 12:37:49.365000+00:00        CAM2P.4   \n",
       "796108483           2018-12-15 13:11:14.373000+00:00        CAM2P.4   \n",
       "796308505           2018-12-16 13:15:04.328000+00:00        CAM2P.4   \n",
       "\n",
       "                     published_at isi_experiment_id file_id  \n",
       "ophys_experiment_id                                          \n",
       "792815735              2021-03-25         754116317      53  \n",
       "795073741              2021-03-25         754116317      54  \n",
       "795953296              2021-03-25         754116317      55  \n",
       "796108483              2021-03-25         754116317      56  \n",
       "796308505              2021-03-25         754116317      57  \n",
       "\n",
       "[5 rows x 30 columns]"
      ]
     },
     "execution_count": 19,
     "metadata": {},
     "output_type": "execute_result"
    }
   ],
   "source": [
    "behavior_ophys_experiments = behavior_ophys_experiments[behavior_ophys_experiments['project_code'] == 'VisualBehavior']\n",
    "behavior_ophys_experiments.head()"
   ]
  },
  {
   "cell_type": "code",
   "execution_count": 5,
   "id": "973b3464-5b31-4300-b156-29ede0559bf8",
   "metadata": {
    "ExecuteTime": {
     "end_time": "2024-05-02T18:58:40.015219Z",
     "start_time": "2024-05-02T18:58:39.998072Z"
    }
   },
   "outputs": [],
   "source": [
    "# Update this to a valid directory in your filesystem\n",
    "# Remember to choose a location that has plenty of free space available.\n",
    "output_dir = \"G:/allensdk\"\n",
    "DOWNLOAD_COMPLETE_DATASET = True "
   ]
  },
  {
   "cell_type": "code",
   "execution_count": 6,
   "id": "bf56dba3-ecb3-4500-8b3c-f0293d2f4e7e",
   "metadata": {
    "ExecuteTime": {
     "end_time": "2024-05-02T18:58:45.467307Z",
     "start_time": "2024-05-02T18:58:45.455837Z"
    }
   },
   "outputs": [],
   "source": [
    "output_dir = Path(output_dir)\n",
    "\n",
    "# cache = VisualBehaviorOphysProjectCache.from_s3_cache(cache_dir=output_dir)"
   ]
  },
  {
   "cell_type": "code",
   "execution_count": 8,
   "id": "b8dc8a18-06d2-4de2-854a-74119aff648d",
   "metadata": {
    "ExecuteTime": {
     "end_time": "2024-05-02T18:58:58.709232Z",
     "start_time": "2024-05-02T18:58:58.701514Z"
    }
   },
   "outputs": [],
   "source": [
    "# Remove rows from the behavior sessions table which don't correspond to a behavior session NWB file\n",
    "filtered_behavior_sessions = behavior_sessions.dropna(subset=[\"file_id\"])\n",
    "# filtered_behavior_sessions."
   ]
  },
  {
   "cell_type": "code",
   "execution_count": null,
   "id": "f88085c0-f4a2-4ab7-a6a9-6b2afea9e2da",
   "metadata": {
    "ExecuteTime": {
     "end_time": "2024-05-03T09:16:54.737001Z",
     "start_time": "2024-05-02T21:30:14.531232Z"
    }
   },
   "outputs": [],
   "source": [
    "\n",
    "\n",
    "if DOWNLOAD_COMPLETE_DATASET:\n",
    "    # for behavior_session_id, _ in filtered_behavior_sessions.iterrows():\n",
    "    #     print(behavior_session_id)\n",
    "    #     _ = cache.get_behavior_session(behavior_session_id=behavior_session_id)\n",
    "\n",
    "    for ophys_experiment_id, _ in behavior_ophys_experiments.iterrows():\n",
    "        print(ophys_experiment_id)\n",
    "        _ = cache.get_behavior_ophys_experiment(ophys_experiment_id=ophys_experiment_id)"
   ]
  },
  {
   "cell_type": "code",
   "execution_count": null,
   "id": "3da533c9-3cfa-4a02-938b-40a5271b3897",
   "metadata": {},
   "outputs": [],
   "source": []
  },
  {
   "cell_type": "code",
   "execution_count": null,
   "id": "72eca432-21fc-4cc2-acc5-aece8cbbad10",
   "metadata": {},
   "outputs": [],
   "source": []
  }
 ],
 "metadata": {
  "kernelspec": {
   "display_name": "Allen-sdk-latest",
   "language": "python",
   "name": "allen-sdk-latest"
  },
  "language_info": {
   "codemirror_mode": {
    "name": "ipython",
    "version": 3
   },
   "file_extension": ".py",
   "mimetype": "text/x-python",
   "name": "python",
   "nbconvert_exporter": "python",
   "pygments_lexer": "ipython3",
   "version": "3.11.8"
  }
 },
 "nbformat": 4,
 "nbformat_minor": 5
}
