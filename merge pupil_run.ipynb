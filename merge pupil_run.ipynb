{
 "cells": [
  {
   "cell_type": "code",
   "id": "3540101667acd303",
   "metadata": {
    "collapsed": true,
    "ExecuteTime": {
     "end_time": "2024-05-24T01:00:27.231561Z",
     "start_time": "2024-05-24T01:00:26.535868Z"
    }
   },
   "source": [
    "import pandas as pd\n",
    "from tqdm import tqdm\n",
    "\n",
    "def merge_parquet_files(file_list):\n",
    "    \"\"\"\n",
    "    Merges a list of Parquet files into a single DataFrame with a progress bar.\n",
    "\n",
    "    Parameters:\n",
    "    file_list (list of str): List of paths to Parquet files.\n",
    "\n",
    "    Returns:\n",
    "    pd.DataFrame: Merged DataFrame containing data from all Parquet files.\n",
    "    \"\"\"\n",
    "    # Initialize an empty list to hold DataFrames\n",
    "    data_frames = []\n",
    "\n",
    "    # Iterate over the file list with a progress bar\n",
    "    for file in tqdm(file_list, desc=\"Merging Parquet files\"):\n",
    "        # Read each Parquet file into a DataFrame\n",
    "        df = pd.read_parquet(file)\n",
    "        # Append the DataFrame to the list\n",
    "        data_frames.append(df)\n",
    "\n",
    "    # Concatenate all DataFrames into a single DataFrame\n",
    "    merged_df = pd.concat(data_frames, ignore_index=True)\n",
    "\n",
    "    return merged_df\n"
   ],
   "outputs": [],
   "execution_count": 1
  },
  {
   "metadata": {
    "ExecuteTime": {
     "end_time": "2024-05-24T01:00:52.030845Z",
     "start_time": "2024-05-24T01:00:29.378400Z"
    }
   },
   "cell_type": "code",
   "source": [
    "\n",
    "    # List of Parquet file paths\n",
    "    parquet_files = ['pupil_combined.parquet', 'run_combined.parquet']\n",
    "    \n",
    "    # Merge the Parquet files\n",
    "    merged_df = merge_parquet_files(parquet_files)\n",
    "    \n",
    "    # Display the merged DataFrame\n",
    "    merged_df.to_parquet('run_pupil_merged.parquet')\n"
   ],
   "id": "fabb14c360753b31",
   "outputs": [
    {
     "name": "stderr",
     "output_type": "stream",
     "text": [
      "Merging Parquet files: 100%|██████████| 2/2 [00:06<00:00,  3.10s/it]\n"
     ]
    }
   ],
   "execution_count": 2
  },
  {
   "metadata": {
    "ExecuteTime": {
     "end_time": "2024-05-24T00:59:01.612613Z",
     "start_time": "2024-05-24T00:58:54.569449Z"
    }
   },
   "cell_type": "code",
   "source": [
    "\n",
    "# Example usage\n",
    "file_list = ['pupil_combined.parquet', 'run_combined.parquet']\n",
    "output_file = 'run_pupil_merged.parquet'\n",
    "merge_parquet_files(file_list)\n"
   ],
   "id": "initial_id",
   "outputs": [
    {
     "name": "stderr",
     "output_type": "stream",
     "text": [
      "Merging Parquet files:  50%|█████     | 1/2 [00:06<00:06,  6.69s/it]\n"
     ]
    },
    {
     "ename": "KeyboardInterrupt",
     "evalue": "",
     "output_type": "error",
     "traceback": [
      "\u001B[1;31m---------------------------------------------------------------------------\u001B[0m",
      "\u001B[1;31mKeyboardInterrupt\u001B[0m                         Traceback (most recent call last)",
      "Cell \u001B[1;32mIn[7], line 4\u001B[0m\n\u001B[0;32m      2\u001B[0m file_list \u001B[38;5;241m=\u001B[39m [\u001B[38;5;124m'\u001B[39m\u001B[38;5;124mpupil_combined.parquet\u001B[39m\u001B[38;5;124m'\u001B[39m, \u001B[38;5;124m'\u001B[39m\u001B[38;5;124mrun_combined.parquet\u001B[39m\u001B[38;5;124m'\u001B[39m]\n\u001B[0;32m      3\u001B[0m output_file \u001B[38;5;241m=\u001B[39m \u001B[38;5;124m'\u001B[39m\u001B[38;5;124mrun_pupil_merged.parquet\u001B[39m\u001B[38;5;124m'\u001B[39m\n\u001B[1;32m----> 4\u001B[0m merge_parquet_files(file_list)\n",
      "Cell \u001B[1;32mIn[5], line 20\u001B[0m, in \u001B[0;36mmerge_parquet_files\u001B[1;34m(file_list)\u001B[0m\n\u001B[0;32m     17\u001B[0m \u001B[38;5;66;03m# Iterate over the file list with a progress bar\u001B[39;00m\n\u001B[0;32m     18\u001B[0m \u001B[38;5;28;01mfor\u001B[39;00m file \u001B[38;5;129;01min\u001B[39;00m tqdm(file_list, desc\u001B[38;5;241m=\u001B[39m\u001B[38;5;124m\"\u001B[39m\u001B[38;5;124mMerging Parquet files\u001B[39m\u001B[38;5;124m\"\u001B[39m):\n\u001B[0;32m     19\u001B[0m     \u001B[38;5;66;03m# Read each Parquet file into a DataFrame\u001B[39;00m\n\u001B[1;32m---> 20\u001B[0m     df \u001B[38;5;241m=\u001B[39m pd\u001B[38;5;241m.\u001B[39mread_parquet(file)\n\u001B[0;32m     21\u001B[0m     \u001B[38;5;66;03m# Append the DataFrame to the list\u001B[39;00m\n\u001B[0;32m     22\u001B[0m     data_frames\u001B[38;5;241m.\u001B[39mappend(df)\n",
      "File \u001B[1;32mC:\\ProgramData\\Anaconda3\\envs\\Allen-sdk-latest\\Lib\\site-packages\\pandas\\io\\parquet.py:503\u001B[0m, in \u001B[0;36mread_parquet\u001B[1;34m(path, engine, columns, storage_options, use_nullable_dtypes, **kwargs)\u001B[0m\n\u001B[0;32m    456\u001B[0m \u001B[38;5;250m\u001B[39m\u001B[38;5;124;03m\"\"\"\u001B[39;00m\n\u001B[0;32m    457\u001B[0m \u001B[38;5;124;03mLoad a parquet object from the file path, returning a DataFrame.\u001B[39;00m\n\u001B[0;32m    458\u001B[0m \n\u001B[1;32m   (...)\u001B[0m\n\u001B[0;32m    499\u001B[0m \u001B[38;5;124;03mDataFrame\u001B[39;00m\n\u001B[0;32m    500\u001B[0m \u001B[38;5;124;03m\"\"\"\u001B[39;00m\n\u001B[0;32m    501\u001B[0m impl \u001B[38;5;241m=\u001B[39m get_engine(engine)\n\u001B[1;32m--> 503\u001B[0m \u001B[38;5;28;01mreturn\u001B[39;00m impl\u001B[38;5;241m.\u001B[39mread(\n\u001B[0;32m    504\u001B[0m     path,\n\u001B[0;32m    505\u001B[0m     columns\u001B[38;5;241m=\u001B[39mcolumns,\n\u001B[0;32m    506\u001B[0m     storage_options\u001B[38;5;241m=\u001B[39mstorage_options,\n\u001B[0;32m    507\u001B[0m     use_nullable_dtypes\u001B[38;5;241m=\u001B[39muse_nullable_dtypes,\n\u001B[0;32m    508\u001B[0m     \u001B[38;5;241m*\u001B[39m\u001B[38;5;241m*\u001B[39mkwargs,\n\u001B[0;32m    509\u001B[0m )\n",
      "File \u001B[1;32mC:\\ProgramData\\Anaconda3\\envs\\Allen-sdk-latest\\Lib\\site-packages\\pandas\\io\\parquet.py:251\u001B[0m, in \u001B[0;36mPyArrowImpl.read\u001B[1;34m(self, path, columns, use_nullable_dtypes, storage_options, **kwargs)\u001B[0m\n\u001B[0;32m    244\u001B[0m path_or_handle, handles, kwargs[\u001B[38;5;124m\"\u001B[39m\u001B[38;5;124mfilesystem\u001B[39m\u001B[38;5;124m\"\u001B[39m] \u001B[38;5;241m=\u001B[39m _get_path_or_handle(\n\u001B[0;32m    245\u001B[0m     path,\n\u001B[0;32m    246\u001B[0m     kwargs\u001B[38;5;241m.\u001B[39mpop(\u001B[38;5;124m\"\u001B[39m\u001B[38;5;124mfilesystem\u001B[39m\u001B[38;5;124m\"\u001B[39m, \u001B[38;5;28;01mNone\u001B[39;00m),\n\u001B[0;32m    247\u001B[0m     storage_options\u001B[38;5;241m=\u001B[39mstorage_options,\n\u001B[0;32m    248\u001B[0m     mode\u001B[38;5;241m=\u001B[39m\u001B[38;5;124m\"\u001B[39m\u001B[38;5;124mrb\u001B[39m\u001B[38;5;124m\"\u001B[39m,\n\u001B[0;32m    249\u001B[0m )\n\u001B[0;32m    250\u001B[0m \u001B[38;5;28;01mtry\u001B[39;00m:\n\u001B[1;32m--> 251\u001B[0m     result \u001B[38;5;241m=\u001B[39m \u001B[38;5;28mself\u001B[39m\u001B[38;5;241m.\u001B[39mapi\u001B[38;5;241m.\u001B[39mparquet\u001B[38;5;241m.\u001B[39mread_table(\n\u001B[0;32m    252\u001B[0m         path_or_handle, columns\u001B[38;5;241m=\u001B[39mcolumns, \u001B[38;5;241m*\u001B[39m\u001B[38;5;241m*\u001B[39mkwargs\n\u001B[0;32m    253\u001B[0m     )\u001B[38;5;241m.\u001B[39mto_pandas(\u001B[38;5;241m*\u001B[39m\u001B[38;5;241m*\u001B[39mto_pandas_kwargs)\n\u001B[0;32m    254\u001B[0m     \u001B[38;5;28;01mif\u001B[39;00m manager \u001B[38;5;241m==\u001B[39m \u001B[38;5;124m\"\u001B[39m\u001B[38;5;124marray\u001B[39m\u001B[38;5;124m\"\u001B[39m:\n\u001B[0;32m    255\u001B[0m         result \u001B[38;5;241m=\u001B[39m result\u001B[38;5;241m.\u001B[39m_as_manager(\u001B[38;5;124m\"\u001B[39m\u001B[38;5;124marray\u001B[39m\u001B[38;5;124m\"\u001B[39m, copy\u001B[38;5;241m=\u001B[39m\u001B[38;5;28;01mFalse\u001B[39;00m)\n",
      "File \u001B[1;32mC:\\ProgramData\\Anaconda3\\envs\\Allen-sdk-latest\\Lib\\site-packages\\pyarrow\\array.pxi:872\u001B[0m, in \u001B[0;36mpyarrow.lib._PandasConvertible.to_pandas\u001B[1;34m()\u001B[0m\n",
      "File \u001B[1;32mC:\\ProgramData\\Anaconda3\\envs\\Allen-sdk-latest\\Lib\\site-packages\\pyarrow\\table.pxi:4904\u001B[0m, in \u001B[0;36mpyarrow.lib.Table._to_pandas\u001B[1;34m()\u001B[0m\n",
      "File \u001B[1;32mC:\\ProgramData\\Anaconda3\\envs\\Allen-sdk-latest\\Lib\\site-packages\\pyarrow\\pandas_compat.py:779\u001B[0m, in \u001B[0;36mtable_to_dataframe\u001B[1;34m(options, table, categories, ignore_metadata, types_mapper)\u001B[0m\n\u001B[0;32m    776\u001B[0m columns \u001B[38;5;241m=\u001B[39m _deserialize_column_index(table, all_columns, column_indexes)\n\u001B[0;32m    778\u001B[0m column_names \u001B[38;5;241m=\u001B[39m table\u001B[38;5;241m.\u001B[39mcolumn_names\n\u001B[1;32m--> 779\u001B[0m result \u001B[38;5;241m=\u001B[39m pa\u001B[38;5;241m.\u001B[39mlib\u001B[38;5;241m.\u001B[39mtable_to_blocks(options, table, categories,\n\u001B[0;32m    780\u001B[0m                                 \u001B[38;5;28mlist\u001B[39m(ext_columns_dtypes\u001B[38;5;241m.\u001B[39mkeys()))\n\u001B[0;32m    781\u001B[0m \u001B[38;5;28;01mif\u001B[39;00m _pandas_api\u001B[38;5;241m.\u001B[39mis_ge_v3():\n\u001B[0;32m    782\u001B[0m     \u001B[38;5;28;01mfrom\u001B[39;00m \u001B[38;5;21;01mpandas\u001B[39;00m\u001B[38;5;21;01m.\u001B[39;00m\u001B[38;5;21;01mapi\u001B[39;00m\u001B[38;5;21;01m.\u001B[39;00m\u001B[38;5;21;01minternals\u001B[39;00m \u001B[38;5;28;01mimport\u001B[39;00m create_dataframe_from_blocks\n",
      "\u001B[1;31mKeyboardInterrupt\u001B[0m: "
     ]
    }
   ],
   "execution_count": 7
  },
  {
   "metadata": {
    "ExecuteTime": {
     "end_time": "2024-05-24T00:59:01.614622Z",
     "start_time": "2024-05-24T00:59:01.614622Z"
    }
   },
   "cell_type": "code",
   "source": "",
   "id": "ba45e0e38958829c",
   "outputs": [],
   "execution_count": null
  }
 ],
 "metadata": {
  "kernelspec": {
   "display_name": "Allen-sdk-latest",
   "language": "python",
   "name": "allen-sdk-latest"
  },
  "language_info": {
   "codemirror_mode": {
    "name": "ipython",
    "version": 2
   },
   "file_extension": ".py",
   "mimetype": "text/x-python",
   "name": "python",
   "nbconvert_exporter": "python",
   "pygments_lexer": "ipython2",
   "version": "2.7.6"
  }
 },
 "nbformat": 4,
 "nbformat_minor": 5
}
