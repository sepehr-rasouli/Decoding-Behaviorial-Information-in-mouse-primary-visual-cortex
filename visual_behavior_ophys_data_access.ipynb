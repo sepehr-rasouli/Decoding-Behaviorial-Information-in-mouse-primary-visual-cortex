{
 "cells": [
  {
   "cell_type": "markdown",
   "id": "8432ad9b",
   "metadata": {
    "papermill": {
     "duration": 0.009347,
     "end_time": "2023-11-30T06:07:50.765611",
     "exception": false,
     "start_time": "2023-11-30T06:07:50.756264",
     "status": "completed"
    },
    "pycharm": {
     "name": "#%% md\n"
    },
    "tags": []
   },
   "source": [
    "# Accessing Visual Behavior Ophys Data"
   ]
  },
  {
   "cell_type": "markdown",
   "id": "86cb4f05",
   "metadata": {
    "papermill": {
     "duration": 0.008018,
     "end_time": "2023-11-30T06:07:50.781877",
     "exception": false,
     "start_time": "2023-11-30T06:07:50.773859",
     "status": "completed"
    },
    "pycharm": {
     "name": "#%% md\n"
    },
    "tags": []
   },
   "source": [
    "## Tutorial overview\n",
    "\n",
    "This Jupyter notebook covers the various methods for accessing the Allen Institute Visual Behavior Ophys dataset. We will go over how to request data, where it's stored, and what the various files contain. If you're having trouble downloading the data, or you just want to know more about what's going on under the hood, this is a good place to start.\n",
    "\n",
    "This data release will not have a web interface for browsing through the released data, as with the [two-photon imaging Visual Coding dataset](http://observatory.brain-map.org/visualcoding). Instead, the data must be retrieved through the AllenSDK (Python 3.6+) or via requests sent to the **Amazon Web Services (AWS)** **Simple Storage Service (S3)** bucket (name: [visual-behavior-ophys-data](https://s3.console.aws.amazon.com/s3/buckets/visual-behavior-ophys-data)) for this project.\n",
    "\n",
    "Functions related to data analysis as well as descriptions of metadata table columns will be covered in other tutorials. For a full list of available tutorials for this project, see the [SDK documentation](https://allensdk.readthedocs.io/en/latest/visual_behavior_optical_physiology.html)."
   ]
  },
  {
   "cell_type": "markdown",
   "id": "1be4fb02",
   "metadata": {
    "papermill": {
     "duration": 0.008037,
     "end_time": "2023-11-30T06:07:50.797922",
     "exception": false,
     "start_time": "2023-11-30T06:07:50.789885",
     "status": "completed"
    },
    "pycharm": {
     "name": "#%% md\n"
    },
    "tags": []
   },
   "source": [
    "## Options for data access\n",
    "\n",
    "The `VisualBehaviorOphysProjectCache` object in the AllenSDK is the easiest way to interact with the released data. This object abstracts away the details of on-disk file storage, and delivers the data to you as ready-to-analyze Python objects. The cache will automatically keep track of which files are stored locally, and will download additional files on an as-needed basis. Usually you won't need to worry about the organization of these files, but this tutorial will cover those details in case you want to analyze them without using the AllenSDK (e.g., in Matlab). This tutorial begins with an introduction to this approach.\n",
    "\n",
    "Another option is to directly download the data using an S3 URL. This should be used if the other options are broken or are not available to you. Instructions for this can be found <a href='#Direct-download-of-data-from-S3'>at the end of this tutorial</a>."
   ]
  },
  {
   "cell_type": "markdown",
   "id": "4e9c2097",
   "metadata": {
    "papermill": {
     "duration": 0.008011,
     "end_time": "2023-11-30T06:07:50.814799",
     "exception": false,
     "start_time": "2023-11-30T06:07:50.806788",
     "status": "completed"
    },
    "pycharm": {
     "name": "#%% md\n"
    },
    "tags": []
   },
   "source": [
    "## Using the AllenSDK to retrieve data\n",
    "\n",
    "Most users will want to access data via the AllenSDK. This requires nothing more than a Python interpreter and some free disk space to store the data locally.\n",
    "\n",
    "How much data is there? If you want to download the complete dataset (3021 Behavior Sessions, 551 Behavior Ophys Sessions containing 1165 Behavior Ophys Experiments), you'll need 1000.8 GB of space, split across the following files:\n",
    "\n",
    "1. CSV files containing information about behavior sessions, behavior ophys sessions, and behavior ophys experiments (1.3 MB)\n",
    "2. NWB files containing data for behavior sessions (437.6 GB total, min file size = 0.049 GB, max file size = 0.194 GB)\n",
    "3. NWB files containing data for behavior ophys experiments (563.2 GB total, min file size = 0.231 GB, max file size = 2.96 GB)\n",
    "\n",
    "Before downloading the data, you must decide on a cache directory where you would like downloaded data to be stored. This directory is where the `VisualBehaviorOphysProjectCache` object will look first when you request a metadata table or a data file.\n",
    "\n",
    "When you initialize a local cache for the first time, it will create the manifest file at the path that you specify. This file lives one directory up from the rest of the data, so make sure you put it somewhere that has enough space available.\n",
    "\n",
    "When you need to access the data in subsequent analysis sessions, you should point the `VisualBehaviorOphysProjectCache` object to an existing cache directory; otherwise, it will try to re-download the data in a new location.\n",
    "\n",
    "To get started with this approach, first take care of the necessary imports:\n",
    "\n",
    "We will first install allensdk into your environment by running the appropriate commands below. "
   ]
  },
  {
   "cell_type": "markdown",
   "id": "fe5057d6",
   "metadata": {
    "papermill": {
     "duration": 0.008147,
     "end_time": "2023-11-30T06:07:50.831099",
     "exception": false,
     "start_time": "2023-11-30T06:07:50.822952",
     "status": "completed"
    },
    "pycharm": {
     "name": "#%% md\n"
    },
    "tags": []
   },
   "source": [
    "## Instal AllenSDK into your local environment"
   ]
  },
  {
   "cell_type": "markdown",
   "id": "68b8cb24",
   "metadata": {
    "papermill": {
     "duration": 0.008024,
     "end_time": "2023-11-30T06:07:50.847189",
     "exception": false,
     "start_time": "2023-11-30T06:07:50.839165",
     "status": "completed"
    },
    "pycharm": {
     "name": "#%% md\n"
    },
    "tags": []
   },
   "source": [
    "You can install AllenSDK with:"
   ]
  },
  {
   "cell_type": "code",
   "execution_count": 1,
   "id": "5e8afbc8",
   "metadata": {
    "execution": {
     "iopub.execute_input": "2023-11-30T06:07:50.865078Z",
     "iopub.status.busy": "2023-11-30T06:07:50.864537Z",
     "iopub.status.idle": "2023-11-30T06:07:52.950408Z",
     "shell.execute_reply": "2023-11-30T06:07:52.949654Z"
    },
    "papermill": {
     "duration": 2.096916,
     "end_time": "2023-11-30T06:07:52.952183",
     "exception": false,
     "start_time": "2023-11-30T06:07:50.855267",
     "status": "completed"
    },
    "pycharm": {
     "name": "#%%\n"
    },
    "tags": []
   },
   "source": [
    "!pip install allensdk"
   ],
   "outputs": []
  },
  {
   "cell_type": "markdown",
   "id": "05e83dd7",
   "metadata": {
    "papermill": {
     "duration": 0.008992,
     "end_time": "2023-11-30T06:07:52.970712",
     "exception": false,
     "start_time": "2023-11-30T06:07:52.961720",
     "status": "completed"
    },
    "pycharm": {
     "name": "#%% md\n"
    },
    "tags": []
   },
   "source": [
    "## Install AllenSDK into your notebook environment (good for Google Colab)"
   ]
  },
  {
   "cell_type": "markdown",
   "id": "ff3f2f34",
   "metadata": {
    "papermill": {
     "duration": 0.008945,
     "end_time": "2023-11-30T06:07:52.988588",
     "exception": false,
     "start_time": "2023-11-30T06:07:52.979643",
     "status": "completed"
    },
    "pycharm": {
     "name": "#%% md\n"
    },
    "tags": []
   },
   "source": [
    "You can install AllenSDK into your notebook environment by executing the cell below.\n",
    "\n",
    "If using Google Colab, click on the RESTART RUNTIME button that appears at the end of the output when this cell is complete,. Note that running this cell will produce a long list of outputs and some error messages. Clicking RESTART RUNTIME at the end will resolve these issues.\n",
    "You can minimize the cell after you are done to hide the output."
   ]
  },
  {
   "cell_type": "code",
   "execution_count": 2,
   "id": "03a52ea5",
   "metadata": {
    "execution": {
     "iopub.execute_input": "2023-11-30T06:07:53.008012Z",
     "iopub.status.busy": "2023-11-30T06:07:53.007432Z",
     "iopub.status.idle": "2023-11-30T06:07:56.799491Z",
     "shell.execute_reply": "2023-11-30T06:07:56.798722Z"
    },
    "papermill": {
     "duration": 3.803832,
     "end_time": "2023-11-30T06:07:56.801197",
     "exception": false,
     "start_time": "2023-11-30T06:07:52.997365",
     "status": "completed"
    },
    "pycharm": {
     "name": "#%%\n"
    },
    "tags": []
   },
   "source": [
    "!pip install --upgrade pip\n",
    "!pip install allensdk"
   ],
   "outputs": []
  },
  {
   "cell_type": "markdown",
   "id": "b26fd439",
   "metadata": {
    "papermill": {
     "duration": 0.009539,
     "end_time": "2023-11-30T06:07:56.820822",
     "exception": false,
     "start_time": "2023-11-30T06:07:56.811283",
     "status": "completed"
    },
    "pycharm": {
     "name": "#%% md\n"
    },
    "tags": []
   },
   "source": [
    "## Import required packages"
   ]
  },
  {
   "cell_type": "code",
   "execution_count": 3,
   "id": "396e1034",
   "metadata": {
    "execution": {
     "iopub.execute_input": "2023-11-30T06:07:56.841158Z",
     "iopub.status.busy": "2023-11-30T06:07:56.840862Z",
     "iopub.status.idle": "2023-11-30T06:08:01.676763Z",
     "shell.execute_reply": "2023-11-30T06:08:01.676103Z"
    },
    "papermill": {
     "duration": 4.847863,
     "end_time": "2023-11-30T06:08:01.678185",
     "exception": false,
     "start_time": "2023-11-30T06:07:56.830322",
     "status": "completed"
    },
    "pycharm": {
     "name": "#%%\n"
    },
    "tags": []
   },
   "source": [
    "from pathlib import Path\n",
    "import matplotlib.pyplot as plt\n",
    "\n",
    "import allensdk\n",
    "from allensdk.brain_observatory.behavior.behavior_project_cache import VisualBehaviorOphysProjectCache\n",
    "\n",
    "# Confirming your allensdk version\n",
    "print(f\"Your allensdk version is: {allensdk.__version__}\")"
   ],
   "outputs": []
  },
  {
   "cell_type": "code",
   "execution_count": 12,
   "id": "781412bf",
   "metadata": {
    "execution": {
     "iopub.execute_input": "2023-11-30T06:08:01.699452Z",
     "iopub.status.busy": "2023-11-30T06:08:01.699018Z",
     "iopub.status.idle": "2023-11-30T06:08:01.702521Z",
     "shell.execute_reply": "2023-11-30T06:08:01.701964Z"
    },
    "papermill": {
     "duration": 0.01549,
     "end_time": "2023-11-30T06:08:01.703832",
     "exception": false,
     "start_time": "2023-11-30T06:08:01.688342",
     "status": "completed"
    },
    "pycharm": {
     "name": "#%%\n"
    },
    "tags": [
     "parameters"
    ]
   },
   "source": [
    "# Update this to a valid directory in your filesystem\n",
    "# Remember to choose a location that has plenty of free space available.\n",
    "output_dir = \"G:/allensdk\"\n",
    "DOWNLOAD_COMPLETE_DATASET = True "
   ],
   "outputs": []
  },
  {
   "cell_type": "code",
   "execution_count": 13,
   "id": "22738ce0",
   "metadata": {
    "execution": {
     "iopub.execute_input": "2023-11-30T06:08:01.749802Z",
     "iopub.status.busy": "2023-11-30T06:08:01.749338Z",
     "iopub.status.idle": "2023-11-30T06:08:04.929033Z",
     "shell.execute_reply": "2023-11-30T06:08:04.928292Z"
    },
    "papermill": {
     "duration": 3.191765,
     "end_time": "2023-11-30T06:08:04.930417",
     "exception": false,
     "start_time": "2023-11-30T06:08:01.738652",
     "status": "completed"
    },
    "pycharm": {
     "name": "#%%\n"
    },
    "tags": []
   },
   "source": [
    "output_dir = Path(output_dir)\n",
    "\n",
    "cache = VisualBehaviorOphysProjectCache.from_s3_cache(cache_dir=output_dir)"
   ],
   "outputs": []
  },
  {
   "cell_type": "code",
   "execution_count": 25,
   "id": "25226392",
   "metadata": {},
   "source": [
    "VisualBehaviorOphysProjectCache.load_manifest(\"visual-behavior-ophys_project_manifest_v1.1.0.json\")\n"
   ],
   "outputs": []
  },
  {
   "cell_type": "markdown",
   "id": "789b2c29",
   "metadata": {
    "papermill": {
     "duration": 0.010418,
     "end_time": "2023-11-30T06:08:04.951897",
     "exception": false,
     "start_time": "2023-11-30T06:08:04.941479",
     "status": "completed"
    },
    "pycharm": {
     "name": "#%% md\n"
    },
    "tags": []
   },
   "source": [
    "Instantiating the cache will have it to download 3 project metadata files:\n",
    "\n",
    "1. `behavior_session_table.csv` (879 kB)\n",
    "2. `ophys_session_table.csv` (165.1 kB)\n",
    "3. `ophys_experiment_table.csv` (335.6 kB)\n",
    "\n",
    "Each one contains a table of information related to its file name. If you're using the AllenSDK, you won't have to worry about how these files are formatted. Instead, you'll load the relevant data using specific accessor method: `get_behavior_session_table()`, `get_ophys_session_table()`, and `get_ophys_experiment_table()`. These functions return a pandas DataFrame containing a row for each item and a column for each metric.\n",
    "\n",
    "If you are analyzing data without using the AllenSDK, you can load the data using your CSV file reader of choice. However, please be aware the columns in the original file do not necessarily match what's returned by the AllenSDK, which may combine information from multiple files to produce the final DataFrame."
   ]
  },
  {
   "cell_type": "markdown",
   "id": "2c174b0a",
   "metadata": {
    "papermill": {
     "duration": 0.010248,
     "end_time": "2023-11-30T06:08:04.972553",
     "exception": false,
     "start_time": "2023-11-30T06:08:04.962305",
     "status": "completed"
    },
    "pycharm": {
     "name": "#%% md\n"
    },
    "tags": []
   },
   "source": [
    "### Managing versions of the dataset\n",
    "\n",
    "Over time, updates may be made to the released dataset. These updates will result in new versions of the dataset being available in the S3 bucket. The versions of the dataset are managed through distinct data manifests stored on S3."
   ]
  },
  {
   "cell_type": "markdown",
   "id": "df8231e7",
   "metadata": {
    "papermill": {
     "duration": 0.010383,
     "end_time": "2023-11-30T06:08:04.993345",
     "exception": false,
     "start_time": "2023-11-30T06:08:04.982962",
     "status": "completed"
    },
    "pycharm": {
     "name": "#%% md\n"
    },
    "tags": []
   },
   "source": [
    "#### Discovering manifests\n",
    "\n",
    "To see all of the manifest files available for this dataset online, run"
   ]
  },
  {
   "cell_type": "code",
   "execution_count": 14,
   "id": "90f5ce47",
   "metadata": {
    "execution": {
     "iopub.execute_input": "2023-11-30T06:08:05.015899Z",
     "iopub.status.busy": "2023-11-30T06:08:05.015313Z",
     "iopub.status.idle": "2023-11-30T06:08:05.022146Z",
     "shell.execute_reply": "2023-11-30T06:08:05.021467Z"
    },
    "papermill": {
     "duration": 0.019802,
     "end_time": "2023-11-30T06:08:05.023555",
     "exception": false,
     "start_time": "2023-11-30T06:08:05.003753",
     "status": "completed"
    },
    "pycharm": {
     "name": "#%%\n"
    },
    "tags": []
   },
   "source": [
    "cache.list_manifest_file_names()"
   ],
   "outputs": []
  },
  {
   "cell_type": "markdown",
   "id": "58652284",
   "metadata": {
    "papermill": {
     "duration": 0.01038,
     "end_time": "2023-11-30T06:08:05.044462",
     "exception": false,
     "start_time": "2023-11-30T06:08:05.034082",
     "status": "completed"
    },
    "pycharm": {
     "name": "#%% md\n"
    },
    "tags": []
   },
   "source": [
    "To see the most up-to-date available manifest, run"
   ]
  },
  {
   "cell_type": "code",
   "execution_count": 15,
   "id": "376665f9",
   "metadata": {
    "execution": {
     "iopub.execute_input": "2023-11-30T06:08:05.066760Z",
     "iopub.status.busy": "2023-11-30T06:08:05.066254Z",
     "iopub.status.idle": "2023-11-30T06:08:05.070647Z",
     "shell.execute_reply": "2023-11-30T06:08:05.069995Z"
    },
    "papermill": {
     "duration": 0.016917,
     "end_time": "2023-11-30T06:08:05.071973",
     "exception": false,
     "start_time": "2023-11-30T06:08:05.055056",
     "status": "completed"
    },
    "pycharm": {
     "name": "#%%\n"
    },
    "tags": []
   },
   "source": [
    "cache.latest_manifest_file()"
   ],
   "outputs": []
  },
  {
   "cell_type": "markdown",
   "id": "3ea84f59",
   "metadata": {
    "papermill": {
     "duration": 0.010406,
     "end_time": "2023-11-30T06:08:05.092994",
     "exception": false,
     "start_time": "2023-11-30T06:08:05.082588",
     "status": "completed"
    },
    "pycharm": {
     "name": "#%% md\n"
    },
    "tags": []
   },
   "source": [
    "To see the name of the most up-to-date manifest that you have already downloaded to your system run (note: this just means that the manifest file has been downloaded; it does not necessarily mean that any data has been downloaded)"
   ]
  },
  {
   "cell_type": "code",
   "execution_count": 26,
   "id": "a546e49f",
   "metadata": {
    "execution": {
     "iopub.execute_input": "2023-11-30T06:08:05.115184Z",
     "iopub.status.busy": "2023-11-30T06:08:05.114761Z",
     "iopub.status.idle": "2023-11-30T06:08:05.119164Z",
     "shell.execute_reply": "2023-11-30T06:08:05.118638Z"
    },
    "papermill": {
     "duration": 0.016976,
     "end_time": "2023-11-30T06:08:05.120442",
     "exception": false,
     "start_time": "2023-11-30T06:08:05.103466",
     "status": "completed"
    },
    "pycharm": {
     "name": "#%%\n"
    },
    "tags": []
   },
   "source": [
    "cache.latest_downloaded_manifest_file()"
   ],
   "outputs": []
  },
  {
   "cell_type": "markdown",
   "id": "3659c8d0",
   "metadata": {
    "papermill": {
     "duration": 0.010461,
     "end_time": "2023-11-30T06:08:05.141569",
     "exception": false,
     "start_time": "2023-11-30T06:08:05.131108",
     "status": "completed"
    },
    "pycharm": {
     "name": "#%% md\n"
    },
    "tags": []
   },
   "source": [
    "You can list all of the manifest files currently downloaded to your system with"
   ]
  },
  {
   "cell_type": "code",
   "execution_count": 17,
   "id": "27a9e239",
   "metadata": {
    "execution": {
     "iopub.execute_input": "2023-11-30T06:08:05.163986Z",
     "iopub.status.busy": "2023-11-30T06:08:05.163595Z",
     "iopub.status.idle": "2023-11-30T06:08:05.167950Z",
     "shell.execute_reply": "2023-11-30T06:08:05.167320Z"
    },
    "papermill": {
     "duration": 0.01707,
     "end_time": "2023-11-30T06:08:05.169302",
     "exception": false,
     "start_time": "2023-11-30T06:08:05.152232",
     "status": "completed"
    },
    "pycharm": {
     "name": "#%%\n"
    },
    "tags": []
   },
   "source": [
    "cache.list_all_downloaded_manifests()"
   ],
   "outputs": []
  },
  {
   "cell_type": "markdown",
   "id": "533ed358",
   "metadata": {
    "papermill": {
     "duration": 0.010686,
     "end_time": "2023-11-30T06:08:05.190817",
     "exception": false,
     "start_time": "2023-11-30T06:08:05.180131",
     "status": "completed"
    },
    "pycharm": {
     "name": "#%% md\n"
    },
    "tags": []
   },
   "source": [
    "#### Loading manifests/dataset versions\n",
    "\n",
    "The `VisualBehaviorOphysProjectCache` determines which version of the dataset to use by loading one of these manifests. By default, the `VisualBehaviorProjectCache` loads either\n",
    "\n",
    "- the most up-to-date available data manifest, if you are instaniating it on an empty `cache_dir`\n",
    "\n",
    "- the data manifest you were last using, if you are instantiating it on a pre-existing `cache_dir` (in this case, the `VisualBehaviorOphysProjectCache` will emit a warning if a more up-to-data data manifest exists online letting you know that you can, if you choose, move to the more up-to-date data manifest)\n",
    "\n",
    "To see the manifest that you currently have loaded, run"
   ]
  },
  {
   "cell_type": "code",
   "execution_count": 27,
   "id": "1e63398b",
   "metadata": {
    "execution": {
     "iopub.execute_input": "2023-11-30T06:08:05.213214Z",
     "iopub.status.busy": "2023-11-30T06:08:05.212814Z",
     "iopub.status.idle": "2023-11-30T06:08:05.217074Z",
     "shell.execute_reply": "2023-11-30T06:08:05.216426Z"
    },
    "papermill": {
     "duration": 0.017192,
     "end_time": "2023-11-30T06:08:05.218608",
     "exception": false,
     "start_time": "2023-11-30T06:08:05.201416",
     "status": "completed"
    },
    "pycharm": {
     "name": "#%%\n"
    },
    "tags": []
   },
   "source": [
    "cache.current_manifest()"
   ],
   "outputs": []
  },
  {
   "cell_type": "markdown",
   "id": "6e94f4ce",
   "metadata": {
    "papermill": {
     "duration": 0.010633,
     "end_time": "2023-11-30T06:08:05.240010",
     "exception": false,
     "start_time": "2023-11-30T06:08:05.229377",
     "status": "completed"
    },
    "pycharm": {
     "name": "#%% md\n"
    },
    "tags": []
   },
   "source": [
    "To load a particular data manifest by hand, run (note: because we are intentionally loading an out-of-date manifest, this will emit an error alerting us to the existence of the most up-to-date manifest). We then reload the latest manifest."
   ]
  },
  {
   "cell_type": "code",
   "execution_count": 28,
   "id": "17232af7",
   "metadata": {
    "execution": {
     "iopub.execute_input": "2023-11-30T06:08:05.262582Z",
     "iopub.status.busy": "2023-11-30T06:08:05.262046Z",
     "iopub.status.idle": "2023-11-30T06:08:05.702258Z",
     "shell.execute_reply": "2023-11-30T06:08:05.701497Z"
    },
    "papermill": {
     "duration": 0.453105,
     "end_time": "2023-11-30T06:08:05.703806",
     "exception": false,
     "start_time": "2023-11-30T06:08:05.250701",
     "status": "completed"
    },
    "pycharm": {
     "name": "#%%\n"
    },
    "tags": []
   },
   "source": [
    "from allensdk.brain_observatory.behavior.behavior_project_cache.utils import \\\n",
    "    BehaviorCloudCacheVersionException\n",
    "\n",
    "try:\n",
    "    cache.load_manifest('visual-behavior-ophys_project_manifest_v1.1.1.json')\n",
    "except BehaviorCloudCacheVersionException as e:\n",
    "    print(e)\n",
    "    cache.load_manifest(cache.latest_manifest_file())"
   ],
   "outputs": []
  },
  {
   "cell_type": "code",
   "execution_count": 20,
   "id": "e945c2da",
   "metadata": {
    "execution": {
     "iopub.execute_input": "2023-11-30T06:08:05.727653Z",
     "iopub.status.busy": "2023-11-30T06:08:05.727216Z",
     "iopub.status.idle": "2023-11-30T06:08:05.731629Z",
     "shell.execute_reply": "2023-11-30T06:08:05.730975Z"
    },
    "papermill": {
     "duration": 0.017571,
     "end_time": "2023-11-30T06:08:05.732981",
     "exception": false,
     "start_time": "2023-11-30T06:08:05.715410",
     "status": "completed"
    },
    "pycharm": {
     "name": "#%%\n"
    },
    "tags": []
   },
   "source": [
    "cache.current_manifest()"
   ],
   "outputs": []
  },
  {
   "cell_type": "markdown",
   "id": "3c7a1db1",
   "metadata": {
    "papermill": {
     "duration": 0.010993,
     "end_time": "2023-11-30T06:08:05.755035",
     "exception": false,
     "start_time": "2023-11-30T06:08:05.744042",
     "status": "completed"
    },
    "pycharm": {
     "name": "#%% md\n"
    },
    "tags": []
   },
   "source": [
    "As the earlier warning informed us, we can see the difference between an two versions of the dataset by running"
   ]
  },
  {
   "cell_type": "code",
   "execution_count": 21,
   "id": "2c109ecc",
   "metadata": {
    "execution": {
     "iopub.execute_input": "2023-11-30T06:08:05.778449Z",
     "iopub.status.busy": "2023-11-30T06:08:05.778189Z",
     "iopub.status.idle": "2023-11-30T06:08:06.170272Z",
     "shell.execute_reply": "2023-11-30T06:08:06.169605Z"
    },
    "papermill": {
     "duration": 0.405504,
     "end_time": "2023-11-30T06:08:06.171591",
     "exception": false,
     "start_time": "2023-11-30T06:08:05.766087",
     "status": "completed"
    },
    "pycharm": {
     "name": "#%%\n"
    },
    "tags": []
   },
   "source": [
    "msg = cache.compare_manifests('visual-behavior-ophys_project_manifest_v0.1.0.json',\n",
    "                              'visual-behavior-ophys_project_manifest_v0.2.0.json')\n",
    "print(msg)"
   ],
   "outputs": []
  },
  {
   "cell_type": "markdown",
   "id": "23787efa",
   "metadata": {
    "papermill": {
     "duration": 0.011041,
     "end_time": "2023-11-30T06:08:06.194536",
     "exception": false,
     "start_time": "2023-11-30T06:08:06.183495",
     "status": "completed"
    },
    "pycharm": {
     "name": "#%% md\n"
    },
    "tags": []
   },
   "source": [
    "In the case we just examined, only the metadata files have changed.\n",
    "\n",
    "The `VisualBehaviorOphysProjectCache` is smart enough to know that, if a file has not changed between version `A` and version `B` of the dataset, and you have already downloaded the file while version `A` of the manifest was loaded, when you move to version `B`, it does not need to download the data again. It will simply construct a symlink where version `B` of the data should exist on your system, pointing to version `A` of the file.\n",
    "\n",
    "Because only metadata files changed between `v0.1.0` and `v0.2.0` of the dataset, we could move freely between the two versions without having to worry about downloading a bunch of new data files. This may not be the case for future dataset updates, so you should keep that in mind before moving from an older to a newer version out of hand."
   ]
  },
  {
   "cell_type": "markdown",
   "id": "3796bdf0",
   "metadata": {
    "papermill": {
     "duration": 0.011184,
     "end_time": "2023-11-30T06:08:06.216815",
     "exception": false,
     "start_time": "2023-11-30T06:08:06.205631",
     "status": "completed"
    },
    "pycharm": {
     "name": "#%% md\n"
    },
    "tags": []
   },
   "source": [
    "### Using the AllenSDK to access Visual Behavior Ophys metadata\n",
    "\n",
    "Let's take a closer look at what's in the `behavior_session_table.csv` file:"
   ]
  },
  {
   "cell_type": "code",
   "execution_count": null,
   "id": "5f22ddda",
   "metadata": {
    "execution": {
     "iopub.execute_input": "2023-11-30T06:08:06.240814Z",
     "iopub.status.busy": "2023-11-30T06:08:06.240248Z",
     "iopub.status.idle": "2023-11-30T06:08:06.258659Z",
     "shell.execute_reply": "2023-11-30T06:08:06.257988Z"
    },
    "papermill": {
     "duration": 0.032041,
     "end_time": "2023-11-30T06:08:06.260049",
     "exception": false,
     "start_time": "2023-11-30T06:08:06.228008",
     "status": "completed"
    },
    "pycharm": {
     "name": "#%%\n"
    },
    "tags": []
   },
   "source": [
    "behavior_sessions = cache.get_behavior_session_table()\n",
    "\n",
    "print(f\"Total number of behavior sessions: {len(behavior_sessions)}\")\n",
    "\n",
    "behavior_sessions.head()"
   ],
   "outputs": []
  },
  {
   "cell_type": "markdown",
   "id": "839e5c40",
   "metadata": {
    "papermill": {
     "duration": 0.011456,
     "end_time": "2023-11-30T06:08:06.283601",
     "exception": false,
     "start_time": "2023-11-30T06:08:06.272145",
     "status": "completed"
    },
    "pycharm": {
     "name": "#%% md\n"
    },
    "tags": []
   },
   "source": [
    "The `behavior_session_table` DataFrame provides a high-level overview for behavior sessions in the Visual Behavior dataset. The index column (behavior_session_id) is a unique ID, which serves as a key for access behavior data for each session. To get additional information about this data table (and other tables) please visit [this example notebook](files/visual_behavior_ophys_dataset_manifest.html).\n",
    "\n",
    "Sharp eyed readers may be wondering why the number of behavior session (3572) in this table does not match up with the number of NWB files with behavior session data (3021). This is because the `behavior_session_table` includes entries for behavior sessions that also had optical physiology recordings.\n",
    "\n",
    "Let's take a look at only the sessions that also included optical physiology data (i.e. the `ophys_session_table.csv`):"
   ]
  },
  {
   "cell_type": "code",
   "execution_count": null,
   "id": "91e77985",
   "metadata": {
    "execution": {
     "iopub.execute_input": "2023-11-30T06:08:06.308582Z",
     "iopub.status.busy": "2023-11-30T06:08:06.307985Z",
     "iopub.status.idle": "2023-11-30T06:08:06.329527Z",
     "shell.execute_reply": "2023-11-30T06:08:06.328891Z"
    },
    "papermill": {
     "duration": 0.03562,
     "end_time": "2023-11-30T06:08:06.330971",
     "exception": false,
     "start_time": "2023-11-30T06:08:06.295351",
     "status": "completed"
    },
    "pycharm": {
     "name": "#%%\n"
    },
    "tags": []
   },
   "source": [
    "behavior_ophys_sessions = cache.get_ophys_session_table()\n",
    "\n",
    "print(f\"Total number of behavior + ophys sessions: {len(behavior_ophys_sessions)}\")\n",
    "\n",
    "behavior_ophys_sessions.head()"
   ],
   "outputs": []
  },
  {
   "cell_type": "markdown",
   "id": "965547eb",
   "metadata": {
    "papermill": {
     "duration": 0.011673,
     "end_time": "2023-11-30T06:08:06.355458",
     "exception": false,
     "start_time": "2023-11-30T06:08:06.343785",
     "status": "completed"
    },
    "pycharm": {
     "name": "#%% md\n"
    },
    "tags": []
   },
   "source": [
    "Here we can see that 3572 - 551 is indeed 3021. The `ophys_session_table` contains information about behavior sessions with optical physiology recordings. Depending on the microscope (`equipment_name`) used, one or multiple ophys_experiments (i.e. imaging planes) may be collected during a behavior ophys session.\n",
    "\n",
    "In order to keep individual data file sizes reasonable, we are releasing data files organized around ophys_experiments (i.e. imaging planes) instead of at the ophys_session level. The `ophys_session_table` is thus useful for determining which `ophys_experiments` were collected together.\n",
    "\n",
    "Let's finally take a look at the `ophys_experiment_table.csv`:"
   ]
  },
  {
   "cell_type": "code",
   "execution_count": null,
   "id": "8426cacb",
   "metadata": {
    "execution": {
     "iopub.execute_input": "2023-11-30T06:08:06.380679Z",
     "iopub.status.busy": "2023-11-30T06:08:06.379948Z",
     "iopub.status.idle": "2023-11-30T06:08:06.398457Z",
     "shell.execute_reply": "2023-11-30T06:08:06.397728Z"
    },
    "papermill": {
     "duration": 0.03262,
     "end_time": "2023-11-30T06:08:06.399922",
     "exception": false,
     "start_time": "2023-11-30T06:08:06.367302",
     "status": "completed"
    },
    "pycharm": {
     "name": "#%%\n"
    },
    "tags": []
   },
   "source": [
    "behavior_ophys_experiments = cache.get_ophys_experiment_table()\n",
    "\n",
    "print(f\"Total number of behavior ophys experiments: {len(behavior_ophys_experiments)}\")\n",
    "\n",
    "behavior_ophys_experiments.head()"
   ],
   "outputs": []
  },
  {
   "cell_type": "markdown",
   "id": "58332985",
   "metadata": {
    "papermill": {
     "duration": 0.0119,
     "end_time": "2023-11-30T06:08:06.424659",
     "exception": false,
     "start_time": "2023-11-30T06:08:06.412759",
     "status": "completed"
    },
    "pycharm": {
     "name": "#%% md\n"
    },
    "tags": []
   },
   "source": [
    "### Using the AllenSDK to access Visual Behavior and Visual Behavior Ophys data\n",
    "\n",
    "After looking through the metadata for the data release, let's say you want to access information about a specific behavior session (behaviors_session_id=870987812)\n",
    "\n",
    "To get data for a specific behavior session in the table:"
   ]
  },
  {
   "cell_type": "code",
   "execution_count": null,
   "id": "6b02f690",
   "metadata": {
    "execution": {
     "iopub.execute_input": "2023-11-30T06:08:06.450427Z",
     "iopub.status.busy": "2023-11-30T06:08:06.449869Z",
     "iopub.status.idle": "2023-11-30T06:08:11.719143Z",
     "shell.execute_reply": "2023-11-30T06:08:11.718499Z"
    },
    "papermill": {
     "duration": 5.284196,
     "end_time": "2023-11-30T06:08:11.720794",
     "exception": false,
     "start_time": "2023-11-30T06:08:06.436598",
     "status": "completed"
    },
    "pycharm": {
     "name": "#%%\n"
    },
    "tags": []
   },
   "source": [
    "behavior_session = cache.get_behavior_session(behavior_session_id=870987812)"
   ],
   "outputs": []
  },
  {
   "cell_type": "code",
   "execution_count": null,
   "id": "699acb2c",
   "metadata": {
    "execution": {
     "iopub.execute_input": "2023-11-30T06:08:11.748178Z",
     "iopub.status.busy": "2023-11-30T06:08:11.747663Z",
     "iopub.status.idle": "2023-11-30T06:08:11.751413Z",
     "shell.execute_reply": "2023-11-30T06:08:11.750776Z"
    },
    "papermill": {
     "duration": 0.018614,
     "end_time": "2023-11-30T06:08:11.752856",
     "exception": false,
     "start_time": "2023-11-30T06:08:11.734242",
     "status": "completed"
    },
    "pycharm": {
     "name": "#%%\n"
    },
    "tags": []
   },
   "source": [
    "# List methods of the session that can be used to get data\n",
    "print(behavior_session.list_data_attributes_and_methods())"
   ],
   "outputs": []
  },
  {
   "cell_type": "markdown",
   "id": "81274b2b",
   "metadata": {
    "papermill": {
     "duration": 0.012954,
     "end_time": "2023-11-30T06:08:11.779201",
     "exception": false,
     "start_time": "2023-11-30T06:08:11.766247",
     "status": "completed"
    },
    "pycharm": {
     "name": "#%% md\n"
    },
    "tags": []
   },
   "source": [
    "Let's try viewing one of the visual stimuli presented to the mouse during the behavior session we downloaded:"
   ]
  },
  {
   "cell_type": "code",
   "execution_count": null,
   "id": "5f5916ef",
   "metadata": {
    "execution": {
     "iopub.execute_input": "2023-11-30T06:08:11.806149Z",
     "iopub.status.busy": "2023-11-30T06:08:11.805846Z",
     "iopub.status.idle": "2023-11-30T06:08:12.357287Z",
     "shell.execute_reply": "2023-11-30T06:08:12.356578Z"
    },
    "papermill": {
     "duration": 0.566792,
     "end_time": "2023-11-30T06:08:12.358787",
     "exception": false,
     "start_time": "2023-11-30T06:08:11.791995",
     "status": "completed"
    },
    "pycharm": {
     "name": "#%%\n"
    },
    "tags": []
   },
   "source": [
    "# Listing the different stimuli templates\n",
    "behavior_session.stimulus_templates"
   ],
   "outputs": []
  },
  {
   "cell_type": "code",
   "execution_count": null,
   "id": "b31be593",
   "metadata": {
    "execution": {
     "iopub.execute_input": "2023-11-30T06:08:12.386710Z",
     "iopub.status.busy": "2023-11-30T06:08:12.386281Z",
     "iopub.status.idle": "2023-11-30T06:08:12.684330Z",
     "shell.execute_reply": "2023-11-30T06:08:12.683693Z"
    },
    "papermill": {
     "duration": 0.313123,
     "end_time": "2023-11-30T06:08:12.685733",
     "exception": false,
     "start_time": "2023-11-30T06:08:12.372610",
     "status": "completed"
    },
    "pycharm": {
     "name": "#%%\n"
    },
    "tags": []
   },
   "source": [
    "# Visualizing a particular stimulus\n",
    "plt.imshow(behavior_session.stimulus_templates['warped']['gratings_90.0'], cmap='gray')"
   ],
   "outputs": []
  },
  {
   "cell_type": "markdown",
   "id": "a4b70dd9",
   "metadata": {
    "papermill": {
     "duration": 0.013348,
     "end_time": "2023-11-30T06:08:12.713132",
     "exception": false,
     "start_time": "2023-11-30T06:08:12.699784",
     "status": "completed"
    },
    "pycharm": {
     "name": "#%% md\n"
    },
    "tags": []
   },
   "source": [
    "As you can see, the `behavior_session` object has a lot of attributes and methods that can be used to access underlying data in the NWB file. Most of these will be touched on in other tutorials for [this data release](https://allensdk.readthedocs.io/en/latest/visual_behavior_optical_physiology.html).\n",
    "\n",
    "Now let's see how to get data for a particular ophys experiment (i.e. imaging plane):"
   ]
  },
  {
   "cell_type": "code",
   "execution_count": null,
   "id": "1e6906bb",
   "metadata": {
    "execution": {
     "iopub.execute_input": "2023-11-30T06:08:12.741168Z",
     "iopub.status.busy": "2023-11-30T06:08:12.740891Z",
     "iopub.status.idle": "2023-11-30T06:08:28.277715Z",
     "shell.execute_reply": "2023-11-30T06:08:28.277069Z"
    },
    "papermill": {
     "duration": 15.552795,
     "end_time": "2023-11-30T06:08:28.279384",
     "exception": false,
     "start_time": "2023-11-30T06:08:12.726589",
     "status": "completed"
    },
    "pycharm": {
     "name": "#%%\n"
    },
    "tags": []
   },
   "source": [
    "ophys_experiment = cache.get_behavior_ophys_experiment(ophys_experiment_id=951980471)"
   ],
   "outputs": []
  },
  {
   "cell_type": "code",
   "execution_count": null,
   "id": "4a4aa252",
   "metadata": {
    "execution": {
     "iopub.execute_input": "2023-11-30T06:08:28.314880Z",
     "iopub.status.busy": "2023-11-30T06:08:28.314405Z",
     "iopub.status.idle": "2023-11-30T06:08:28.318393Z",
     "shell.execute_reply": "2023-11-30T06:08:28.317681Z"
    },
    "papermill": {
     "duration": 0.022796,
     "end_time": "2023-11-30T06:08:28.319718",
     "exception": false,
     "start_time": "2023-11-30T06:08:28.296922",
     "status": "completed"
    },
    "pycharm": {
     "name": "#%%\n"
    },
    "tags": []
   },
   "source": [
    "# List methods of the ophys_experiment object that can be used to get data\n",
    "print(ophys_experiment.list_data_attributes_and_methods())"
   ],
   "outputs": []
  },
  {
   "cell_type": "markdown",
   "id": "5b73bb76",
   "metadata": {
    "papermill": {
     "duration": 0.016624,
     "end_time": "2023-11-30T06:08:28.353146",
     "exception": false,
     "start_time": "2023-11-30T06:08:28.336522",
     "status": "completed"
    },
    "pycharm": {
     "name": "#%% md\n"
    },
    "tags": []
   },
   "source": [
    "Let's take a quick look at the max projection image for the optical physiology experiment (i.e. imaging plane) we just obtained:"
   ]
  },
  {
   "cell_type": "code",
   "execution_count": null,
   "id": "52416f8d",
   "metadata": {
    "execution": {
     "iopub.execute_input": "2023-11-30T06:08:28.388538Z",
     "iopub.status.busy": "2023-11-30T06:08:28.388071Z",
     "iopub.status.idle": "2023-11-30T06:08:28.585666Z",
     "shell.execute_reply": "2023-11-30T06:08:28.584965Z"
    },
    "papermill": {
     "duration": 0.216733,
     "end_time": "2023-11-30T06:08:28.587166",
     "exception": false,
     "start_time": "2023-11-30T06:08:28.370433",
     "status": "completed"
    },
    "pycharm": {
     "name": "#%%\n"
    },
    "tags": []
   },
   "source": [
    "plt.imshow(ophys_experiment.max_projection, cmap='gray')"
   ],
   "outputs": []
  },
  {
   "cell_type": "markdown",
   "id": "591f6cb9",
   "metadata": {
    "papermill": {
     "duration": 0.018137,
     "end_time": "2023-11-30T06:08:28.624170",
     "exception": false,
     "start_time": "2023-11-30T06:08:28.606033",
     "status": "completed"
    },
    "pycharm": {
     "name": "#%% md\n"
    },
    "tags": []
   },
   "source": [
    "The `ophys_experiment` object has even more attributes and methods used to access NWB data! As with the `behavior_session` these methods will be touched on in other tutorials for [this data release](https://allensdk.readthedocs.io/en/latest/visual_behavior_optical_physiology.html)."
   ]
  },
  {
   "cell_type": "markdown",
   "id": "8e6ea298",
   "metadata": {
    "papermill": {
     "duration": 0.017711,
     "end_time": "2023-11-30T06:08:28.659784",
     "exception": false,
     "start_time": "2023-11-30T06:08:28.642073",
     "status": "completed"
    },
    "pycharm": {
     "name": "#%% md\n"
    },
    "tags": []
   },
   "source": [
    "## Downloading the complete dataset with AllenSDK\n",
    "\n",
    "Analyzing one session or experiment at a time is nice, but in some cases you'll want to be able to perform an analysis across the whole dataset. To fill your cache with all available data, you can use a for loop like the one below.\n",
    "\n",
    "Comment out the below code. Before running this code, please make sure that you have enough space available in your cache directory. You'll need around 437.6 GB for the behavior session NWB files, and another 563.2  GB if you're also downloading all ophys experiment NWB files."
   ]
  },
  {
   "cell_type": "code",
   "execution_count": null,
   "id": "60ee366e",
   "metadata": {
    "execution": {
     "iopub.execute_input": "2023-11-30T06:08:28.697504Z",
     "iopub.status.busy": "2023-11-30T06:08:28.697027Z",
     "iopub.status.idle": "2023-11-30T06:08:28.703256Z",
     "shell.execute_reply": "2023-11-30T06:08:28.702712Z"
    },
    "papermill": {
     "duration": 0.026569,
     "end_time": "2023-11-30T06:08:28.704544",
     "exception": false,
     "start_time": "2023-11-30T06:08:28.677975",
     "status": "completed"
    },
    "pycharm": {
     "name": "#%%\n"
    },
    "tags": []
   },
   "source": [
    "# Remove rows from the behavior sessions table which don't correspond to a behavior session NWB file\n",
    "filtered_behavior_sessions = behavior_sessions.dropna(subset=[\"file_id\"])\n",
    "\n",
    "if DOWNLOAD_COMPLETE_DATASET:\n",
    "    for behavior_session_id, _ in filtered_behavior_sessions.iterrows():\n",
    "        _ = cache.get_behavior_session(behavior_session_id=behavior_session_id)\n",
    "\n",
    "    for ophys_experiment_id, _ in behavior_ophys_experiments.iterrows():\n",
    "        _ = cache.get_behavior_ophys_experiment(ophys_experiment_id=ophys_experiment_id)"
   ],
   "outputs": []
  },
  {
   "cell_type": "markdown",
   "id": "bdc818fc",
   "metadata": {
    "papermill": {
     "duration": 0.017964,
     "end_time": "2023-11-30T06:08:28.741002",
     "exception": false,
     "start_time": "2023-11-30T06:08:28.723038",
     "status": "completed"
    },
    "pycharm": {
     "name": "#%% md\n"
    },
    "tags": []
   },
   "source": [
    "## Direct download of data from S3\n",
    "\n",
    "If you do not wish to obtain data via the AllenSDK `VisualBehaviorOphysProjectCache` class, this section describes how to directly determine an S3 download link for your file or files of interest.\n",
    "\n",
    "The S3 bucket that stores all the data for this project's release is:\n",
    "<a href='https://visual-behavior-ophys-data.s3-us-west-2.amazonaws.com/'>https://visual-behavior-ophys-data.s3-us-west-2.amazonaws.com/</a>\n",
    "\n",
    "The structure of the S3 bucket looks like:\n",
    "\n",
    "```\n",
    "visual-behavior-ophys/\n",
    "│\n",
    "├── release_notes.txt\n",
    "│\n",
    "├── manifests/\n",
    "│   ├── visual-behavior-ophys_project_manifest_v{a.b.c}.json\n",
    "│   ├── visual-behavior-ophys_project_manifest_v{x.y.z}.json\n",
    "│   ...\n",
    "│\n",
    "├── project_metadata/\n",
    "│   ├── behavior_session_table.csv\n",
    "│   ├── ophys_experiment_table.csv\n",
    "│   └── ophys_session_table.csv\n",
    "│\n",
    "├── behavior_sessions/\n",
    "│   ├── behavior_session_{abc}.nwb\n",
    "│   ├── behavior_session_{xyz}.nwb\n",
    "│   ...\n",
    "│\n",
    "└── behavior_ophys_experiments/\n",
    "    ├── behavior_ophys_experiment_{abc}.nwb\n",
    "    ├── behavior_ophys_experiment_{xyz}.nwb\n",
    "    ...\n",
    "```\n",
    "\n",
    "So if for example, you wanted to download a specific `behavior_ophys_experiment` you could first download the `ophys_experiment_table.csv` with:\n",
    "\n",
    "<a href='https://visual-behavior-ophys-data.s3-us-west-2.amazonaws.com/visual-behavior-ophys/project_metadata/ophys_experiment_table.csv'>https://visual-behavior-ophys-data.s3-us-west-2.amazonaws.com/visual-behavior-ophys/project_metadata/ophys_experiment_table.csv</a> (try clicking me!)\n",
    "\n",
    "Then using the table, determine the `ophy_experiment_id` you are interested in. Let's say we want `ophys_experiment_id = 951980471`, then the appropriate download link would be:\n",
    "\n",
    "<a href='https://visual-behavior-ophys-data.s3-us-west-2.amazonaws.com/visual-behavior-ophys/behavior_ophys_experiments/behavior_ophys_experiment_951980471.nwb'>https://visual-behavior-ophys-data.s3-us-west-2.amazonaws.com/visual-behavior-ophys/behavior_ophys_experiments/behavior_ophys_experiment_951980471.nwb</a>\n",
    "\n",
    "Below are some simple sample functions that will help you efficiently determine download URL links:"
   ]
  },
  {
   "cell_type": "code",
   "execution_count": null,
   "id": "d917e48b",
   "metadata": {
    "execution": {
     "iopub.execute_input": "2023-11-30T06:08:28.778390Z",
     "iopub.status.busy": "2023-11-30T06:08:28.777907Z",
     "iopub.status.idle": "2023-11-30T06:08:28.782216Z",
     "shell.execute_reply": "2023-11-30T06:08:28.781498Z"
    },
    "papermill": {
     "duration": 0.024728,
     "end_time": "2023-11-30T06:08:28.783653",
     "exception": false,
     "start_time": "2023-11-30T06:08:28.758925",
     "status": "completed"
    },
    "pycharm": {
     "name": "#%%\n"
    },
    "tags": []
   },
   "source": [
    "from urllib.parse import urljoin\n",
    "\n",
    "def get_manifest_url(manifest_version: str) -> str:\n",
    "    hostname = \"https://visual-behavior-ophys-data.s3-us-west-2.amazonaws.com/\"\n",
    "    object_key = f\"visual-behavior-ophys/manifests/visual-behavior-ophys_project_manifest_v{manifest_version}.json\"\n",
    "    return urljoin(hostname, object_key)\n",
    "\n",
    "# Example:\n",
    "print(get_manifest_url(\"0.1.0\"))"
   ],
   "outputs": []
  },
  {
   "cell_type": "code",
   "execution_count": null,
   "id": "b259055e",
   "metadata": {
    "execution": {
     "iopub.execute_input": "2023-11-30T06:08:28.821060Z",
     "iopub.status.busy": "2023-11-30T06:08:28.820608Z",
     "iopub.status.idle": "2023-11-30T06:08:28.824998Z",
     "shell.execute_reply": "2023-11-30T06:08:28.824296Z"
    },
    "papermill": {
     "duration": 0.024573,
     "end_time": "2023-11-30T06:08:28.826292",
     "exception": false,
     "start_time": "2023-11-30T06:08:28.801719",
     "status": "completed"
    },
    "pycharm": {
     "name": "#%%\n"
    },
    "tags": []
   },
   "source": [
    "def get_metadata_url(metadata_table_name: str) -> str:\n",
    "    hostname = \"https://visual-behavior-ophys-data.s3-us-west-2.amazonaws.com/\"\n",
    "    object_key = f\"visual-behavior-ophys/project_metadata/{metadata_table_name}.csv\"\n",
    "    return urljoin(hostname, object_key)\n",
    "\n",
    "# Example:\n",
    "print(get_metadata_url(\"behavior_session_table\"))"
   ],
   "outputs": []
  },
  {
   "cell_type": "code",
   "execution_count": null,
   "id": "0d6b03c0",
   "metadata": {
    "execution": {
     "iopub.execute_input": "2023-11-30T06:08:28.864004Z",
     "iopub.status.busy": "2023-11-30T06:08:28.863589Z",
     "iopub.status.idle": "2023-11-30T06:08:28.867663Z",
     "shell.execute_reply": "2023-11-30T06:08:28.867015Z"
    },
    "papermill": {
     "duration": 0.024336,
     "end_time": "2023-11-30T06:08:28.869048",
     "exception": false,
     "start_time": "2023-11-30T06:08:28.844712",
     "status": "completed"
    },
    "pycharm": {
     "name": "#%%\n"
    },
    "tags": []
   },
   "source": [
    "def get_behavior_session_url(behavior_session_id: int) -> str:\n",
    "    hostname = \"https://visual-behavior-ophys-data.s3-us-west-2.amazonaws.com/\"\n",
    "    object_key = f\"visual-behavior-ophys/behavior_sessions/behavior_session_{behavior_session_id}.nwb\"\n",
    "    return urljoin(hostname, object_key)\n",
    "\n",
    "# Example:\n",
    "print(get_behavior_session_url(870987812))"
   ],
   "outputs": []
  },
  {
   "cell_type": "code",
   "execution_count": null,
   "id": "a954b1b5",
   "metadata": {
    "execution": {
     "iopub.execute_input": "2023-11-30T06:08:28.907014Z",
     "iopub.status.busy": "2023-11-30T06:08:28.906518Z",
     "iopub.status.idle": "2023-11-30T06:08:28.911026Z",
     "shell.execute_reply": "2023-11-30T06:08:28.910315Z"
    },
    "papermill": {
     "duration": 0.024739,
     "end_time": "2023-11-30T06:08:28.912310",
     "exception": false,
     "start_time": "2023-11-30T06:08:28.887571",
     "status": "completed"
    },
    "pycharm": {
     "name": "#%%\n"
    },
    "tags": []
   },
   "source": [
    "def get_behavior_ophys_experiment_url(ophys_experiment_id: int) -> str:\n",
    "    hostname = \"https://visual-behavior-ophys-data.s3-us-west-2.amazonaws.com/\"\n",
    "    object_key = f\"visual-behavior-ophys/behavior_ophys_experiments/behavior_ophys_experiment_{ophys_experiment_id}.nwb\"\n",
    "    return urljoin(hostname, object_key)\n",
    "\n",
    "# Example:\n",
    "print(get_behavior_ophys_experiment_url(951980471))"
   ],
   "outputs": []
  },
  {
   "cell_type": "markdown",
   "id": "0cdcfcd6",
   "metadata": {
    "papermill": {
     "duration": 0.018189,
     "end_time": "2023-11-30T06:08:28.949347",
     "exception": false,
     "start_time": "2023-11-30T06:08:28.931158",
     "status": "completed"
    },
    "pycharm": {
     "name": "#%% md\n"
    },
    "tags": []
   },
   "source": [
    "## Downloading previous versions of released data from S3\n",
    "\n",
    "AllenSDK makes uses of versioned manifest (JSON) files that live in the S3 bucket to keep track of EVERY version of a file for this data release. If a bug/error in the released data is discovered or new data is added to existing NWB files and the updated NWB file is uploaded in the future, a new manifest will be created pointing to the newest version of the file. The existing manifest will continue pointing at the original version allowing reproducibility of analysis results. You can think of each manifest as a snapshot of the state of the S3 bucket when the manifest was created.\n",
    "\n",
    "This section describes how to download specific versions of a file in the S3 bucket.\n",
    "\n",
    "### Listing and downloading a specific manifest version for the data release\n",
    "\n",
    "If you have an AWS account (even a free tier account works) you can log in and access the bucket directly:\n",
    "\n",
    "<a href='https://s3.console.aws.amazon.com/s3/buckets/visual-behavior-ophys-data?prefix=visual-behavior-ophys/manifests/'>https://s3.console.aws.amazon.com/s3/buckets/visual-behavior-ophys-data?prefix=visual-behavior-ophys/manifests/</a>\n",
    "\n",
    "If you don't have or don't want to use an AWS account you can click the following list to get an XML document:\n",
    "\n",
    "<a href='https://visual-behavior-ophys-data.s3-us-west-2.amazonaws.com/?list-type=2&prefix=visual-behavior-ophys/manifests/'>https://visual-behavior-ophys-data.s3-us-west-2.amazonaws.com/?list-type=2&prefix=visual-behavior-ophys/manifests/</a>\n",
    "\n",
    "Which will look like:\n",
    "```\n",
    "<ListBucketResult>\n",
    "  <Name>visual-behavior-ophys-data</Name>\n",
    "  <Prefix>visual-behavior-ophys/manifests/</Prefix>\n",
    "  <KeyCount>1</KeyCount>\n",
    "  <MaxKeys>1000</MaxKeys>\n",
    "  <IsTruncated>false</IsTruncated>\n",
    "  <Contents>\n",
    "    <Key>\n",
    "    visual-behavior-ophys/manifests/visual-behavior-ophys_project_manifest_v0.1.0.json\n",
    "    </Key>\n",
    "    <LastModified>2021-03-22T14:36:31.000Z</LastModified>\n",
    "    <ETag>\"8d10d6dd87234d4e0a1d400908c5013d\"</ETag>\n",
    "    <Size>1730897</Size>\n",
    "    <StorageClass>STANDARD</StorageClass>\n",
    "  </Contents>\n",
    "</ListBucketResult>\n",
    "```\n",
    "The XML document is the result of a query which lists all manifests that currently exist for the data release (denoted with `<Key>` `</Key>`). To obtain a specific manifest of interest you just take the `Key` for the manifest you're interested in and append it to the name of the S3 bucket. For example:\n",
    "\n",
    "<a href='https://visual-behavior-ophys-data.s3-us-west-2.amazonaws.com/visual-behavior-ophys/manifests/visual-behavior-ophys_project_manifest_v0.1.0.json'>https://visual-behavior-ophys-data.s3-us-west-2.amazonaws.com/visual-behavior-ophys/manifests/visual-behavior-ophys_project_manifest_v0.1.0.json</a>\n",
    "\n",
    "\n",
    "### Using a versioned manifest to download a specific data version\n",
    "\n",
    "Once you've downloaded a manifest, you can use it to obtain download links for the specific version of data files that the manifest tracks. The example function below loads a downloaded manifest and generates download links for *all* the metadata and data files for the specified manifest:"
   ]
  },
  {
   "cell_type": "code",
   "execution_count": null,
   "id": "37c06d70",
   "metadata": {
    "execution": {
     "iopub.execute_input": "2023-11-30T06:08:28.987344Z",
     "iopub.status.busy": "2023-11-30T06:08:28.986755Z",
     "iopub.status.idle": "2023-11-30T06:08:29.092460Z",
     "shell.execute_reply": "2023-11-30T06:08:29.091777Z"
    },
    "papermill": {
     "duration": 0.133429,
     "end_time": "2023-11-30T06:08:29.101081",
     "exception": false,
     "start_time": "2023-11-30T06:08:28.967652",
     "status": "completed"
    },
    "pycharm": {
     "name": "#%%\n"
    },
    "tags": []
   },
   "source": [
    "from typing import List\n",
    "from urllib.parse import urljoin\n",
    "import json\n",
    "\n",
    "# The location will differ based on where you downloaded the manifest.json!\n",
    "my_manifest_location = output_dir / cache.latest_manifest_file()\n",
    "\n",
    "def generate_all_download_urls_from_manifest(manifest_path: Path) -> List[str]:\n",
    "    with manifest_path.open('r') as fp:\n",
    "        manifest = json.load(fp)\n",
    "    \n",
    "    download_links = []\n",
    "    \n",
    "    # Get download links for specific version of metadata files\n",
    "    for metadata_file_entry in manifest[\"metadata_files\"].values():\n",
    "        base_download_url = metadata_file_entry[\"url\"]\n",
    "        version_query = f\"?versionId={metadata_file_entry['version_id']}\"\n",
    "        full_download_url = urljoin(base_download_url, version_query)\n",
    "        download_links.append(full_download_url)\n",
    "\n",
    "    # Get download links for specific version of data files\n",
    "    for data_file_entry in manifest[\"data_files\"].values():\n",
    "        base_download_url = data_file_entry[\"url\"]\n",
    "        version_query = f\"?versionId={data_file_entry['version_id']}\"\n",
    "        full_download_url = urljoin(base_download_url, version_query)\n",
    "        download_links.append(full_download_url)    \n",
    "\n",
    "    return download_links\n",
    "\n",
    "# Example:\n",
    "print('\\n'.join(generate_all_download_urls_from_manifest(my_manifest_location)))"
   ],
   "outputs": []
  },
  {
   "cell_type": "code",
   "execution_count": null,
   "id": "62c9d9c3",
   "metadata": {
    "papermill": {
     "duration": 0.029978,
     "end_time": "2023-11-30T06:08:29.161465",
     "exception": false,
     "start_time": "2023-11-30T06:08:29.131487",
     "status": "completed"
    },
    "pycharm": {
     "name": "#%%\n"
    },
    "tags": []
   },
   "source": [],
   "outputs": []
  }
 ],
 "metadata": {
  "celltoolbar": "Tags",
  "interpreter": {
   "hash": "916dbcbb3f70747c44a77c7bcd40155683ae19c65e1c03b4aa3499c5328201f1"
  },
  "kernelspec": {
   "display_name": "Python 3 (ipykernel)",
   "language": "python",
   "name": "python3"
  },
  "language_info": {
   "codemirror_mode": {
    "name": "ipython",
    "version": 3
   },
   "file_extension": ".py",
   "mimetype": "text/x-python",
   "name": "python",
   "nbconvert_exporter": "python",
   "pygments_lexer": "ipython3",
   "version": "3.7.11"
  },
  "papermill": {
   "default_parameters": {},
   "duration": 39.936142,
   "end_time": "2023-11-30T06:08:29.810138",
   "environment_variables": {},
   "exception": null,
   "input_path": "doc_template/examples_root/examples/nb/visual_behavior_ophys_data_access.ipynb",
   "output_path": "/tmp/tmpvwwlk2_m/scratch_nb.ipynb",
   "parameters": {
    "DOWNLOAD_COMPLETE_DATASET": false,
    "output_dir": "/tmp/tmpvwwlk2_m",
    "resources_dir": "/home/runner/work/AllenSDK/AllenSDK/allensdk/internal/notebooks/resources"
   },
   "start_time": "2023-11-30T06:07:49.873996",
   "version": "2.4.0"
  }
 },
 "nbformat": 4,
 "nbformat_minor": 5
}
