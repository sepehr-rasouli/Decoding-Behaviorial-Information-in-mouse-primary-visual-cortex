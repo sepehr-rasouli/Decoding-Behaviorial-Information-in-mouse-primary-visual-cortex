{
 "cells": [
  {
   "cell_type": "code",
   "execution_count": 3,
   "id": "c5cef185-40fa-420f-8af4-59b322f182cf",
   "metadata": {
    "ExecuteTime": {
     "end_time": "2024-05-06T16:17:49.714405Z",
     "start_time": "2024-05-06T16:17:42.165609Z"
    },
    "scrolled": true
   },
   "source": [
    "import matplotlib.pyplot as plt\n",
    "import seaborn as sns\n",
    "import os\n",
    "import numpy as np\n",
    "import pandas as pd\n",
    "from pathlib import Path\n",
    "pd.set_option('display.max_columns', 500)\n",
    "\n",
    "import allensdk.brain_observatory.behavior.behavior_project_cache as bpc\n",
    "\n",
    "import allensdk\n",
    "import pkg_resources\n",
    "print('allensdk version 2.10.2 or higher is required, you have {} installed'.format(pkg_resources.get_distribution(\"allensdk\").version))\n",
    "\n",
    "%matplotlib notebook\n",
    "%matplotlib inline\n",
    "\n",
    "from IPython.core.display import display, HTML\n",
    "display(HTML(\"<style>.container { width:100% !important; }</style>\"))"
   ],
   "outputs": []
  },
  {
   "cell_type": "code",
   "execution_count": 4,
   "id": "b2736f98",
   "metadata": {
    "ExecuteTime": {
     "end_time": "2024-05-06T16:09:34.362511Z",
     "start_time": "2024-05-06T16:09:34.356977Z"
    }
   },
   "source": [
    " # bpc.VisualBehaviorOphysProjectCache."
   ],
   "outputs": []
  },
  {
   "cell_type": "code",
   "execution_count": 5,
   "id": "a9eb04a3-b30a-4475-90d4-207220a2919a",
   "metadata": {
    "ExecuteTime": {
     "end_time": "2024-05-06T16:18:13.605026Z",
     "start_time": "2024-05-06T16:18:10.987940Z"
    }
   },
   "source": [
    "# choose a location on your file system to cache NWB files as they are loaded:\n",
    "my_cache_dir = Path(\"G:/allensdk\")\n",
    "\n",
    "bc = bpc.VisualBehaviorOphysProjectCache.from_s3_cache(cache_dir=my_cache_dir)\n",
    "# bpc.VisualBehaviorOphysProjectCache.construct_local_manifest(bc)\n",
    "\n",
    "behavior_session_table = bc.get_behavior_session_table()"
   ],
   "outputs": []
  },
  {
   "cell_type": "code",
   "execution_count": 6,
   "id": "7b014d9d-b94e-4b9a-abba-ef3b1bd77b40",
   "metadata": {
    "ExecuteTime": {
     "end_time": "2024-05-06T16:18:15.603780Z",
     "start_time": "2024-05-06T16:18:15.592571Z"
    }
   },
   "source": [
    "len(behavior_session_table.mouse_id.unique())"
   ],
   "outputs": []
  },
  {
   "cell_type": "code",
   "execution_count": 7,
   "id": "f4133db2-d087-4d50-8331-70c1c9b137c4",
   "metadata": {
    "ExecuteTime": {
     "end_time": "2024-05-06T16:18:16.219951Z",
     "start_time": "2024-05-06T16:18:16.211891Z"
    }
   },
   "source": [
    "mouse_id_list = behavior_session_table.mouse_id.unique()\n",
    "mouse_id_list.sort()\n",
    "print(mouse_id_list)"
   ],
   "outputs": []
  },
  {
   "cell_type": "code",
   "execution_count": null,
   "id": "541b4ece60a12a89",
   "metadata": {},
   "source": [],
   "outputs": []
  },
  {
   "cell_type": "code",
   "execution_count": 13,
   "id": "9024c684-97ce-4ccc-9655-5a4e2dc954b3",
   "metadata": {
    "ExecuteTime": {
     "end_time": "2024-05-06T16:36:23.502332Z",
     "start_time": "2024-05-06T16:18:19.946443Z"
    }
   },
   "source": [
    "# mouse_id_list = [445002,403491,412036,412366,421136,423606,425493,425496,429952,431023]\n",
    "# mouse_id_list = [445002,403491,412036,412366,421136]\n",
    "mouse_id_list = behavior_session_table.mouse_id.unique()\n",
    "mouse_id_list.sort()\n",
    "all_mouse_table = behavior_session_table.copy()\n",
    "# this_mouse_table = behavior_session_table.query('mouse_id == @mouse_id and project_code == \"VisualBehavior\"').sort_values(by = 'session_type') \n",
    "# all_mouse_table = behavior_session_table[behavior_session_table['mouse_id'].isin(mouse_id_list)]\n",
    "all_mouse_table = all_mouse_table.query('project_code == \"VisualBehavior\" and (session_type == \"OPHYS_6_images_B\" or session_type == \"OPHYS_4_images_B\" or session_type == \"OPHYS_3_images_A\" or session_type == \"OPHYS_1_images_A\" )').sort_values(['mouse_id', 'session_type'], ascending=[True, True])\n",
    "# only active sessions\n",
    "\n",
    "# all_mouse_table = all_mouse_table.query('project_code == \"VisualBehavior\" and behavior_type == \"active_behavior\"').sort_values(['mouse_id', 'session_type'], ascending=[True, True])\n",
    "\n",
    "# all_mouse_table = all_mouse_table.query('project_code == \"VisualBehavior\" and (session_type == \"OPHYS_6_images_B\" or session_type == \"OPHYS_4_images_B\" or session_type == \"OPHYS_3_images_A\" or session_type == \"OPHYS_1_images_A\" )').sort_values(['mouse_id', 'session_type'], ascending=[True, True])\n",
    "all_mouse_table\n",
    "\n",
    "# for mouse_id in all_mouse_table['mouse_id'].unique():\n",
    "#     this_mouse_table = all_mouse_table.query('mouse_id == @mouse_id')\n",
    "#     if len(this_mouse_table.index) != 4 :\n",
    "#         all_mouse_table = all_mouse_table.drop(this_mouse_table.index.values)"
   ],
   "outputs": []
  },
  {
   "cell_type": "code",
   "execution_count": null,
   "id": "264b13c866c62534",
   "metadata": {
    "ExecuteTime": {
     "end_time": "2024-05-06T16:36:36.085632Z",
     "start_time": "2024-05-06T16:36:36.052211Z"
    }
   },
   "source": [
    "behavior_session_ids = all_mouse_table.index.values\n",
    "behavior_session_dict = {}\n",
    "for behavior_session_id in behavior_session_ids:\n",
    "    print(behavior_session_id)\n",
    "    behavior_session_dict[behavior_session_id] = bc.get_behavior_session(behavior_session_id)"
   ],
   "outputs": []
  },
  {
   "cell_type": "code",
   "execution_count": 13,
   "id": "3614d0bf-34be-4529-b1ff-18c4b891d0cd",
   "metadata": {},
   "source": [
    "# table = all_mouse_table.copy()\n",
    "# for mouse_id in table['mouse_id'].unique():\n",
    "#     this_mouse_table = table.query('mouse_id == @mouse_id')\n",
    "#     if len(this_mouse_table.index) != 4 :\n",
    "#         print(this_mouse_table.index.values)\n",
    "#         table = table.drop(this_mouse_table.index.values)\n",
    "#     elif len(this_mouse_table.index) > 4:\n",
    "#         print('kok')\n",
    "#         table = pd.concat(table.loc[table.mouse_id != mouse_id], table.loc[table.mouse_id == mouse_id].drop_duplicates(subset='session_type', keep=\"last\")).sort_values(['mouse_id'])\n",
    "# #         table[table['mouse_id'] == mouse_id].drop_duplicates(subset='session_type', keep=\"last\")\n",
    "# table\n",
    "        "
   ],
   "outputs": []
  },
  {
   "cell_type": "code",
   "execution_count": 14,
   "id": "af70a682-781d-4dd4-b1a9-a3b5000bff0c",
   "metadata": {},
   "source": [
    "behavior_performance_table = pd.DataFrame(\n",
    "    [behavior_session_dict[behavior_session_id].get_performance_metrics() for behavior_session_id in behavior_session_ids]\n",
    ").set_index(behavior_session_ids)\n",
    "all_mouse_table = all_mouse_table.merge(\n",
    "    behavior_performance_table,\n",
    "    left_index = True,\n",
    "    right_index = True,\n",
    ")\n",
    "# all_mouse_table"
   ],
   "outputs": []
  },
  {
   "cell_type": "code",
   "execution_count": 15,
   "id": "f1115200-efdb-4a59-bf64-15fa66555e2d",
   "metadata": {},
   "source": [
    "all_mouse_table"
   ],
   "outputs": []
  },
  {
   "cell_type": "code",
   "execution_count": 16,
   "id": "1f0727ab-6166-47a5-96a0-2f48a9756eef",
   "metadata": {},
   "source": [
    "all_mouse_table.cre_line.unique()"
   ],
   "outputs": []
  },
  {
   "cell_type": "code",
   "execution_count": 17,
   "id": "2d7e44a3-a225-492c-914b-bae924e7c694",
   "metadata": {},
   "source": [
    "# behavior_session_id = 775378326\n",
    "\n",
    "for behavior_session_id in all_mouse_table.index:\n",
    "    behavior_session = behavior_session_dict[behavior_session_id]\n",
    "    stimulus_presentations = behavior_session.stimulus_presentations.copy()\n",
    "# calculate average reaction time\n",
    "    changed_stimulus_timestamps = stimulus_presentations['start_time'][stimulus_presentations['is_change'] == True].to_numpy()\n",
    "    reaction_time_list = np.array([])\n",
    "    for time_stamp in changed_stimulus_timestamps:\n",
    "        idx = (behavior_session.licks['timestamps'] >= time_stamp).idxmax()\n",
    "        lick_after_changed_timestamps = behavior_session.licks['timestamps'][idx]\n",
    "        reaction_time = lick_after_changed_timestamps - time_stamp\n",
    "        if reaction_time < 0.75000 and reaction_time > 0.15000:\n",
    "            reaction_time_list = np.append(reaction_time_list,reaction_time)\n",
    "    average_reaction_time = reaction_time_list.mean()\n",
    "    all_mouse_table.loc[behavior_session_id,'average_reaction_time'] = average_reaction_time\n",
    "    \n",
    "\n",
    "\n",
    "#     calculate running speed\n",
    "    all_mouse_table.loc[behavior_session_id, 'mean_running_speed'] = behavior_session.running_speed['speed'].mean()\n",
    "\n",
    "# all_mouse_table"
   ],
   "outputs": []
  },
  {
   "cell_type": "code",
   "execution_count": 18,
   "id": "cb863ef8-218d-42ea-9071-218a020c54a2",
   "metadata": {},
   "source": [
    "beahvior_session_table.stimulus_mean_hit_rate_engaged?"
   ],
   "outputs": []
  },
  {
   "cell_type": "markdown",
   "id": "db0890bc-8f66-4929-b91d-b082c08996be",
   "metadata": {},
   "source": [
    "## individual mice plots"
   ]
  },
  {
   "cell_type": "code",
   "execution_count": 19,
   "id": "2cd29ab0-ea63-44e8-b238-02dff468fb59",
   "metadata": {},
   "source": [
    "fig, ax = plt.subplots(figsize = (12,10))\n",
    "\n",
    "for mouse_id in all_mouse_table['mouse_id'].unique():\n",
    "    this_mouse_table = all_mouse_table.query('mouse_id == @mouse_id')\n",
    "    x = this_mouse_table['prior_exposures_to_image_set'].to_numpy()\n",
    "    y = this_mouse_table['average_reaction_time'].to_numpy()\n",
    "    lists = sorted(zip(*[x, y]))\n",
    "    new_x, new_y = list(zip(*lists))\n",
    "    ax.plot(new_x, new_y,'-o')\n",
    "\n",
    "#     newax = ax.twiny()\n",
    "#     newax.set_xlim(ax.get_xlim())\n",
    "#     ax.set_xticks(this_mouse_table['prior_exposures_to_image_set'])\n",
    "#     fig.subplots_adjust(bottom=0.5)\n",
    "#     ax.set_xticklabels(this_mouse_table['prior_exposures_to_image_set'].astype(int))\n",
    "#     newax.xaxis.set_label_position('bottom')\n",
    "#     newax.xaxis.set_ticks_position('bottom')\n",
    "#     newax.set_xticks(ax.get_xticks())\n",
    "#     newax.set_xticklabels(this_mouse_table['session_type'].values,rotation = 30, ha='right',y=-0.02)\n",
    "    # ax.tick_params( axis='x', which='minor')\n",
    "    ax.set(xlabel='prior_exposores', ylabel='average_reaction_time')\n",
    "\n",
    "ax.set_title('exposure/ average reaction time plot')\n",
    "fig.savefig('exposure_average_reaction_time_plot.png', dpi=300,bbox_inches = \"tight\")\n",
    "fig.tight_layout()"
   ],
   "outputs": []
  },
  {
   "cell_type": "code",
   "execution_count": 20,
   "id": "bdc6d779-8b96-4acf-a586-88df605decbb",
   "metadata": {},
   "source": [
    "fig, ax = plt.subplots(figsize = (12,10))\n",
    "\n",
    "for mouse_id in all_mouse_table['mouse_id'].unique():\n",
    "    this_mouse_table = all_mouse_table.query('mouse_id == @mouse_id')\n",
    "    x = this_mouse_table['prior_exposures_to_image_set'].to_numpy()\n",
    "    y = this_mouse_table['mean_hit_rate'].to_numpy()\n",
    "    lists = sorted(zip(*[x, y]))\n",
    "    new_x, new_y = list(zip(*lists))\n",
    "    ax.plot(new_x, new_y,'-o')\n",
    "    ax.set(xlabel='prior_exposores', ylabel='average_hit_rate')\n",
    "\n",
    "ax.set_title('exposure/average_hit_rate plot')\n",
    "fig.savefig('exposure_hit_rate_plot.png', dpi=300,bbox_inches = \"tight\")\n",
    "fig.tight_layout()"
   ],
   "outputs": []
  },
  {
   "cell_type": "code",
   "execution_count": 21,
   "id": "1d0ba308-4eb6-4296-8605-8dfc44b492c9",
   "metadata": {},
   "source": [
    "fig, ax = plt.subplots(figsize = (12,10))\n",
    "\n",
    "for mouse_id in all_mouse_table['mouse_id'].unique():\n",
    "    this_mouse_table = all_mouse_table.query('mouse_id == @mouse_id')\n",
    "    x = this_mouse_table['prior_exposures_to_image_set'].to_numpy()\n",
    "    y = this_mouse_table['mean_false_alarm_rate'].to_numpy()\n",
    "    lists = sorted(zip(*[x, y]))\n",
    "    new_x, new_y = list(zip(*lists))\n",
    "    ax.plot(new_x, new_y,'-o')\n",
    "    ax.set(xlabel='prior_exposores', ylabel='false_alarm_rate')\n",
    "\n",
    "ax.set_title('exposure/false_alarm_rate plot')\n",
    "fig.savefig('exposure_mean_false_alarm_rate_plot.png', dpi=300,bbox_inches = \"tight\")\n",
    "fig.tight_layout()"
   ],
   "outputs": []
  },
  {
   "cell_type": "code",
   "execution_count": 22,
   "id": "a019651d-7d1b-4e5a-8995-7c872eaa2f50",
   "metadata": {},
   "source": [
    "fig, ax = plt.subplots(figsize = (12,10))\n",
    "\n",
    "for mouse_id in all_mouse_table['mouse_id'].unique():\n",
    "    this_mouse_table = all_mouse_table.query('mouse_id == @mouse_id')\n",
    "    x = this_mouse_table['mean_running_speed'].to_numpy()\n",
    "    y = this_mouse_table['average_reaction_time'].to_numpy()\n",
    "    lists = sorted(zip(*[x, y]))\n",
    "    new_x, new_y = list(zip(*lists))\n",
    "    ax.plot(new_x, new_y,'-o')\n",
    "    ax.set(xlabel='mean_running_speed', ylabel='average_reaction_time')\n",
    "\n",
    "ax.set_title('mean_running_speed/average_reaction_time plot')\n",
    "fig.savefig('mean_running_speed_average_reaction_time_plot.png', dpi=300,bbox_inches = \"tight\")\n",
    "fig.tight_layout()"
   ],
   "outputs": []
  },
  {
   "cell_type": "code",
   "execution_count": 23,
   "id": "373196d5-155b-4c72-b27c-64e6e6001d3c",
   "metadata": {},
   "source": [
    "fig, ax = plt.subplots(figsize = (12,10))\n",
    "\n",
    "for mouse_id in all_mouse_table['mouse_id'].unique():\n",
    "    this_mouse_table = all_mouse_table.query('mouse_id == @mouse_id')\n",
    "    x = this_mouse_table['mean_running_speed'].to_numpy()\n",
    "    y = this_mouse_table['mean_hit_rate'].to_numpy()\n",
    "    lists = sorted(zip(*[x, y]))\n",
    "    new_x, new_y = list(zip(*lists))\n",
    "    ax.plot(new_x, new_y,'-o')\n",
    "    ax.set(xlabel='mean_running_speed', ylabel='average_hit_rate')\n",
    "\n",
    "ax.set_title('mean_running_speed/average_hit_rate plot')\n",
    "fig.savefig('mean_running_speed_average_hit_rate_plot.png', dpi=300,bbox_inches = \"tight\")\n",
    "fig.tight_layout()"
   ],
   "outputs": []
  },
  {
   "cell_type": "code",
   "execution_count": 24,
   "id": "b766df40-b7f3-43cc-8fb0-85ef17e74f1e",
   "metadata": {},
   "source": [
    "fig, ax = plt.subplots(figsize = (12,10))\n",
    "\n",
    "for mouse_id in all_mouse_table['mouse_id'].unique():\n",
    "    this_mouse_table = all_mouse_table.query('mouse_id == @mouse_id')\n",
    "    x = this_mouse_table['mean_running_speed'].to_numpy()\n",
    "    y = this_mouse_table['mean_false_alarm_rate'].to_numpy()\n",
    "    lists = sorted(zip(*[x, y]))\n",
    "    new_x, new_y = list(zip(*lists))\n",
    "    ax.plot(new_x, new_y,'-o')\n",
    "    ax.set(xlabel='mean_running_speed', ylabel='average_false_alarm_rate')\n",
    "\n",
    "ax.set_title('mean_running_speed/average_false_alarm_rate plot')\n",
    "fig.savefig('mean_running_speed_average_false_alarm_rate_plot.png', dpi=300,bbox_inches = \"tight\")\n",
    "fig.tight_layout()"
   ],
   "outputs": []
  },
  {
   "cell_type": "code",
   "execution_count": 25,
   "id": "d9d8483b-a4da-4680-abe0-b2db08d6099d",
   "metadata": {},
   "source": [
    "session_types = ['OPHYS_1_images_A', 'OPHYS_3_images_A', 'OPHYS_4_images_B', 'OPHYS_6_images_B']\n",
    "avg_reaction_time_all = np.array([])\n",
    "avg_running_speed = np.array([])\n",
    "avg_hit_rate = np.array([])\n",
    "avg_false_alarm_rate = np.array([])\n",
    "avg_prior_exposure = np.array([])\n",
    "for session in session_types:\n",
    "    avg_reaction_time_all = np.append(avg_reaction_time_all, all_mouse_table.average_reaction_time[all_mouse_table['session_type'] == session].mean())\n",
    "    avg_running_speed = np.append(avg_running_speed, all_mouse_table.mean_running_speed[all_mouse_table['session_type'] == session].mean())\n",
    "    avg_hit_rate = np.append(avg_hit_rate, all_mouse_table.mean_hit_rate[all_mouse_table['session_type'] == session].mean())\n",
    "    avg_false_alarm_rate = np.append(avg_false_alarm_rate, all_mouse_table.mean_false_alarm_rate[all_mouse_table['session_type'] == session].mean())\n",
    "    avg_prior_exposure = np.append(avg_prior_exposure, all_mouse_table.prior_exposures_to_image_set[all_mouse_table['session_type'] == session].mean())\n",
    "\n",
    "print(avg_reaction_time_all)\n",
    "print(avg_running_speed)\n",
    "print(avg_hit_rate)\n",
    "print(avg_false_alarm_rate)\n",
    "print(avg_prior_exposure)"
   ],
   "outputs": []
  },
  {
   "cell_type": "code",
   "execution_count": 26,
   "id": "e2135484-9857-43cc-8b74-771909ae5d8f",
   "metadata": {},
   "source": [
    "# my_sessions = session_types\n",
    "# my_x = avg_prior_exposure\n",
    "# print(my_sessions)\n",
    "# print(my_x)\n",
    "# lists = sorted(zip(*[my_x, my_sessions]))\n",
    "# my_new_x, my_new_sessions = list(zip(*lists))\n",
    "# print(my_new_sessions)\n",
    "# print(my_new_x)"
   ],
   "outputs": []
  },
  {
   "cell_type": "code",
   "execution_count": 27,
   "id": "b03a3b3d-b34c-4572-b1a2-3980f1a26298",
   "metadata": {},
   "source": [
    "fig, ax = plt.subplots(figsize = (12,10))\n",
    "\n",
    "my_sessions = session_types\n",
    "my_x = avg_prior_exposure\n",
    "lists = sorted(zip(*[my_x, my_sessions]))\n",
    "my_new_x, sorted_sessions = list(zip(*lists))\n",
    "\n",
    "x = avg_prior_exposure\n",
    "y = avg_reaction_time_all\n",
    "lists = sorted(zip(*[x, y]))\n",
    "new_x, new_y = list(zip(*lists))\n",
    "ax.plot(new_x, new_y,'-o')\n",
    "\n",
    "ax.set_yticks(np.linspace(y.min(), y.max(), 10))\n",
    "ax.set_xticks(new_x)\n",
    "ax.set_xticklabels(np.around(new_x,2))\n",
    "newax = ax.twiny()\n",
    "\n",
    "fig.subplots_adjust(bottom=0.5)\n",
    "newax.xaxis.set_label_position('bottom')\n",
    "newax.xaxis.set_ticks_position('bottom')\n",
    "newax.set_xticks(ax.get_xticks())\n",
    "newax.set_xticklabels(sorted_sessions,rotation = 30, ha='right',y=-0.02)\n",
    "newax.set_xlim(ax.get_xlim())\n",
    "\n",
    "ax.set(xlabel='avg_prior_exposure', ylabel='avg_reaction_time')\n",
    "# plt.xticks(np.arange(0, avg_prior_exposure.max()+1, 1.0))\n",
    "ax.set_title('avg_prior_exposure/avg_reaction_time plot')\n",
    "fig.savefig('avg_prior_exposure_avg_reaction_time.png', dpi=300,bbox_inches = \"tight\")\n",
    "fig.tight_layout()"
   ],
   "outputs": []
  },
  {
   "cell_type": "code",
   "execution_count": 28,
   "id": "c62a28c6-aa40-424e-95fa-b6e5c84f5b5c",
   "metadata": {},
   "source": [
    "fig, ax = plt.subplots(figsize = (12,10))\n",
    "\n",
    "my_sessions = session_types\n",
    "my_x = avg_prior_exposure\n",
    "lists = sorted(zip(*[my_x, my_sessions]))\n",
    "my_new_x, sorted_sessions = list(zip(*lists))\n",
    "\n",
    "x = avg_prior_exposure\n",
    "y = avg_hit_rate\n",
    "lists = sorted(zip(*[x, y]))\n",
    "new_x, new_y = list(zip(*lists))\n",
    "ax.plot(new_x, new_y,'-o')\n",
    "ax.set_yticks(np.linspace(y.min(), y.max(), 10))\n",
    "ax.set_xticks(new_x)\n",
    "ax.set_xticklabels(np.around(new_x,2))\n",
    "newax = ax.twiny()\n",
    "\n",
    "fig.subplots_adjust(bottom=0.5)\n",
    "newax.xaxis.set_label_position('bottom')\n",
    "newax.xaxis.set_ticks_position('bottom')\n",
    "newax.set_xticks(ax.get_xticks())\n",
    "newax.set_xticklabels(sorted_sessions,rotation = 30, ha='right',y=-0.02)\n",
    "newax.set_xlim(ax.get_xlim())\n",
    "\n",
    "ax.set(xlabel='avg_prior_exposure', ylabel='avg_hit_rate')\n",
    "# plt.xticks(np.arange(0, avg_prior_exposure.max()+1, 1.0))\n",
    "ax.set_title('avg_prior_exposure/avg_hit_rate plot')\n",
    "fig.savefig('avg_prior_exposure_avg_hit_rate.png', dpi=300,bbox_inches = \"tight\")\n",
    "fig.tight_layout()"
   ],
   "outputs": []
  },
  {
   "cell_type": "code",
   "execution_count": 29,
   "id": "cbc52dd6-dc96-42a7-8746-e5580542bf5a",
   "metadata": {},
   "source": [
    "fig, ax = plt.subplots(figsize = (12,10))\n",
    "\n",
    "my_sessions = session_types\n",
    "my_x = avg_prior_exposure\n",
    "lists = sorted(zip(*[my_x, my_sessions]))\n",
    "my_new_x, sorted_sessions = list(zip(*lists))\n",
    "\n",
    "x = avg_prior_exposure\n",
    "y = avg_false_alarm_rate\n",
    "lists = sorted(zip(*[x, y]))\n",
    "new_x, new_y = list(zip(*lists))\n",
    "ax.plot(new_x, new_y,'-o')\n",
    "\n",
    "ax.set_yticks(np.linspace(y.min(), y.max(), 10))\n",
    "ax.set_xticks(new_x)\n",
    "ax.set_xticklabels(np.around(new_x,2))\n",
    "newax = ax.twiny()\n",
    "\n",
    "fig.subplots_adjust(bottom=0.5)\n",
    "newax.xaxis.set_label_position('bottom')\n",
    "newax.xaxis.set_ticks_position('bottom')\n",
    "newax.set_xticks(ax.get_xticks())\n",
    "newax.set_xticklabels(sorted_sessions,rotation = 30, ha='right',y=-0.02)\n",
    "newax.set_xlim(ax.get_xlim())\n",
    "\n",
    "\n",
    "ax.set(xlabel='avg_prior_exposure', ylabel='avg_false_alarm_rate')\n",
    "# plt.xticks(np.arange(0, avg_prior_exposure.max()+1, 1.0))\n",
    "ax.set_title('avg_prior_exposure/avg_false_alarm_rate plot')\n",
    "fig.savefig('avg_prior_exposure_avg_false_alarm_rate.png', dpi=300,bbox_inches = \"tight\")\n",
    "fig.tight_layout()"
   ],
   "outputs": []
  },
  {
   "cell_type": "code",
   "execution_count": 30,
   "id": "1a7785e0-8cda-4ebd-826f-9c5e99edcb36",
   "metadata": {},
   "source": [
    "fig, ax = plt.subplots(figsize = (12,10))\n",
    "\n",
    "my_sessions = session_types\n",
    "my_x = avg_running_speed\n",
    "lists = sorted(zip(*[my_x, my_sessions]))\n",
    "my_new_x, sorted_sessions = list(zip(*lists))\n",
    "\n",
    "x = avg_running_speed\n",
    "y = avg_reaction_time_all\n",
    "lists = sorted(zip(*[x, y]))\n",
    "new_x, new_y = list(zip(*lists))\n",
    "ax.plot(new_x, new_y,'-o')\n",
    "ax.set_yticks(np.linspace(y.min(), y.max(), 10))\n",
    "ax.set_xticks(new_x)\n",
    "ax.set_xticklabels(np.around(new_x,2))\n",
    "newax = ax.twiny()\n",
    "\n",
    "fig.subplots_adjust(bottom=0.5)\n",
    "newax.xaxis.set_label_position('bottom')\n",
    "newax.xaxis.set_ticks_position('bottom')\n",
    "newax.set_xticks(ax.get_xticks())\n",
    "newax.set_xticklabels(sorted_sessions,rotation = 30, ha='right',y=-0.06)\n",
    "newax.set_xlim(ax.get_xlim())\n",
    "\n",
    "\n",
    "\n",
    "ax.set(xlabel='avg_running_speed', ylabel='avg_reaction_time')\n",
    "# plt.xticks(np.arange(avg_running_speed.min(), avg_running_speed.max(), 0.5))\n",
    "ax.set_title('avg_running_speed/avg_reaction_time plot')\n",
    "fig.savefig('avg_running_speed_avg_reaction_time.png', dpi=300,bbox_inches = \"tight\")\n",
    "fig.tight_layout()"
   ],
   "outputs": []
  },
  {
   "cell_type": "code",
   "execution_count": 31,
   "id": "9e52b9d7-15dc-4788-b913-8aae16f968e4",
   "metadata": {},
   "source": [
    "fig, ax = plt.subplots(figsize = (12,10))\n",
    "\n",
    "my_sessions = session_types\n",
    "my_x = avg_running_speed\n",
    "lists = sorted(zip(*[my_x, my_sessions]))\n",
    "my_new_x, sorted_sessions = list(zip(*lists))\n",
    "\n",
    "x = avg_running_speed\n",
    "y = avg_hit_rate\n",
    "lists = sorted(zip(*[x, y]))\n",
    "new_x, new_y = list(zip(*lists))\n",
    "ax.plot(new_x, new_y,'-o')\n",
    "ax.set_yticks(np.linspace(y.min(), y.max(), 10))\n",
    "ax.set_xticks(new_x)\n",
    "ax.set_xticklabels(np.around(new_x,2))\n",
    "newax = ax.twiny()\n",
    "\n",
    "fig.subplots_adjust(bottom=0.5)\n",
    "newax.xaxis.set_label_position('bottom')\n",
    "newax.xaxis.set_ticks_position('bottom')\n",
    "newax.set_xticks(ax.get_xticks())\n",
    "newax.set_xticklabels(sorted_sessions,rotation = 30, ha='right',y=-0.06)\n",
    "newax.set_xlim(ax.get_xlim())\n",
    "\n",
    "ax.set(xlabel='avg_running_speed', ylabel='avg_hit_rate')\n",
    "# plt.xticks(np.arange(avg_running_speed.min(), avg_running_speed.max(), 0.5))\n",
    "ax.set_title('avg_running_speed/avg_hit_rate plot')\n",
    "fig.savefig('avg_running_speed_avg_hit_rate.png', dpi=300,bbox_inches = \"tight\")\n",
    "fig.tight_layout()"
   ],
   "outputs": []
  },
  {
   "cell_type": "code",
   "execution_count": 32,
   "id": "f42f64d2-594f-46f2-9d52-a400717ec3ab",
   "metadata": {},
   "source": [
    "fig, ax = plt.subplots(figsize = (12,10))\n",
    "\n",
    "x = avg_running_speed\n",
    "y = avg_false_alarm_rate\n",
    "lists = sorted(zip(*[x, y]))\n",
    "new_x, new_y = list(zip(*lists))\n",
    "ax.plot(new_x, new_y,'-o')\n",
    "ax.set_yticks(np.linspace(y.min(), y.max(), 10))\n",
    "ax.set_xticks(new_x)\n",
    "ax.set_xticklabels(np.around(new_x,2))\n",
    "newax = ax.twiny()\n",
    "\n",
    "fig.subplots_adjust(bottom=0.5)\n",
    "newax.xaxis.set_label_position('bottom')\n",
    "newax.xaxis.set_ticks_position('bottom')\n",
    "newax.set_xticks(ax.get_xticks())\n",
    "newax.set_xticklabels(sorted_sessions,rotation = 30, ha='right',y=-0.06)\n",
    "newax.set_xlim(ax.get_xlim())\n",
    "\n",
    "ax.set(xlabel='avg_running_speed', ylabel='avg_false_alarm_rate')\n",
    "# plt.xticks(np.arange(avg_running_speed.min(), avg_running_speed.max(), 0.5))\n",
    "ax.set_title('avg_running_speed/avg_false_alarm_rate plot')\n",
    "fig.savefig('avg_running_speed_avg_false_alarm_rate.png', dpi=300,bbox_inches = \"tight\")\n",
    "fig.tight_layout()"
   ],
   "outputs": []
  },
  {
   "cell_type": "code",
   "execution_count": 33,
   "id": "ccaba809-f2de-4597-aa29-43126b896b9e",
   "metadata": {},
   "source": [
    "len(all_mouse_table['mouse_id'].unique())"
   ],
   "outputs": []
  },
  {
   "cell_type": "markdown",
   "id": "6d7c67bc-36e3-45d5-94bc-1ab6eab7a5f5",
   "metadata": {},
   "source": [
    "## Adding pupil area"
   ]
  },
  {
   "cell_type": "code",
   "execution_count": 45,
   "id": "aba88eb2-529d-4b84-80f6-8350b25fd1e8",
   "metadata": {},
   "source": [
    "for behavior_session_id in all_mouse_table.index:\n",
    "    behavior_session = behavior_session_dict[behavior_session_id]\n",
    "    \n",
    "    ophys_exp_id = all_mouse_table.loc[behavior_session_id,'ophys_experiment_id']\n",
    "    # print(ophys_exp_id)\n",
    "    behavior_exp = bc.get_behavior_ophys_experiment(ophys_exp_id)\n",
    "    if behavior_exp.eye_tracking is not None:\n",
    "        avg_pupil_area = behavior_exp.eye_tracking.pupil_area.mean()    \n",
    "        all_mouse_table.loc[behavior_session_id,'avg_pupil_area'] = avg_pupil_area\n",
    "\n",
    "all_mouse_table"
   ],
   "outputs": []
  },
  {
   "cell_type": "code",
   "execution_count": 46,
   "id": "f3aa2755-fd0a-4115-ace0-bc5e99892fc4",
   "metadata": {},
   "source": [
    "session_types = ['OPHYS_1_images_A', 'OPHYS_3_images_A', 'OPHYS_4_images_B', 'OPHYS_6_images_B']\n",
    "avg_pupil_area_all = np.array([])\n",
    "for session in session_types:\n",
    "    avg_pupil_area_all = np.append(avg_pupil_area_all, all_mouse_table.avg_pupil_area[all_mouse_table['session_type'] == session].mean())\n",
    "\n",
    "print(avg_pupil_area_all)"
   ],
   "outputs": []
  },
  {
   "cell_type": "code",
   "execution_count": 47,
   "id": "71de0d37-0422-4917-843a-c97bacf0eeb0",
   "metadata": {},
   "source": [
    "fig, ax = plt.subplots(figsize = (12,10))\n",
    "\n",
    "x = avg_running_speed\n",
    "y = avg_pupil_area_all\n",
    "lists = sorted(zip(*[x, y]))\n",
    "new_x, new_y = list(zip(*lists))\n",
    "ax.plot(new_x, new_y,'-o')\n",
    "ax.set_yticks(np.linspace(y.min(), y.max(), 10))\n",
    "ax.set_xticks(new_x)\n",
    "ax.set_xticklabels(np.around(new_x,2))\n",
    "newax = ax.twiny()\n",
    "\n",
    "fig.subplots_adjust(bottom=0.5)\n",
    "newax.xaxis.set_label_position('bottom')\n",
    "newax.xaxis.set_ticks_position('bottom')\n",
    "newax.set_xticks(ax.get_xticks())\n",
    "newax.set_xticklabels(sorted_sessions,rotation = 30, ha='right',y=-0.06)\n",
    "newax.set_xlim(ax.get_xlim())\n",
    "\n",
    "ax.set(xlabel='avg_running_speed', ylabel='avg_pupil_area')\n",
    "# plt.xticks(np.arange(avg_running_speed.min(), avg_running_speed.max(), 0.5))\n",
    "ax.set_title('avg_running_speed/avg_pupil_area plot')\n",
    "fig.savefig('avg_running_speed_avg_pupil_area_all.png', dpi=300,bbox_inches = \"tight\")\n",
    "fig.tight_layout()"
   ],
   "outputs": []
  },
  {
   "cell_type": "code",
   "execution_count": 48,
   "id": "d672a9c6-4445-491d-b120-5bed364a8837",
   "metadata": {},
   "source": [
    "fig, ax = plt.subplots(figsize = (12,10))\n",
    "\n",
    "my_sessions = session_types\n",
    "my_x = avg_prior_exposure\n",
    "lists = sorted(zip(*[my_x, my_sessions]))\n",
    "my_new_x, sorted_sessions = list(zip(*lists))\n",
    "\n",
    "x = avg_prior_exposure\n",
    "y = avg_pupil_area_all\n",
    "lists = sorted(zip(*[x, y]))\n",
    "new_x, new_y = list(zip(*lists))\n",
    "ax.plot(new_x, new_y,'-o')\n",
    "\n",
    "ax.set_yticks(np.linspace(y.min(), y.max(), 10))\n",
    "ax.set_xticks(new_x)\n",
    "ax.set_xticklabels(np.around(new_x,2))\n",
    "newax = ax.twiny()\n",
    "\n",
    "fig.subplots_adjust(bottom=0.5)\n",
    "newax.xaxis.set_label_position('bottom')\n",
    "newax.xaxis.set_ticks_position('bottom')\n",
    "newax.set_xticks(ax.get_xticks())\n",
    "newax.set_xticklabels(sorted_sessions,rotation = 30, ha='right',y=-0.02)\n",
    "newax.set_xlim(ax.get_xlim())\n",
    "\n",
    "\n",
    "ax.set(xlabel='avg_prior_exposure', ylabel='avg_pupil_area')\n",
    "# plt.xticks(np.arange(0, avg_prior_exposure.max()+1, 1.0))\n",
    "ax.set_title('avg_prior_exposure/avg_pupil_area plot')\n",
    "fig.savefig('avg_prior_exposure_avg_pupil_area_all.png', dpi=300,bbox_inches = \"tight\")\n",
    "fig.tight_layout()"
   ],
   "outputs": []
  },
  {
   "cell_type": "code",
   "execution_count": 42,
   "id": "fade02fd-d88e-4fc8-99bd-139aedb08aed",
   "metadata": {},
   "source": [
    "behavior_session_id = 775378326\n",
    "\n",
    "ophys_exp_id = all_mouse_table.loc[behavior_session_id,'ophys_experiment_id']\n",
    "# print(ophys_exp_id)\n",
    "behavior_exp = bc.get_behavior_ophys_experiment(ophys_exp_id)\n",
    "\n",
    "behavior_exp.eye_tracking.pupil_area.mean()\n",
    "\n",
    "# stimulus_presentations = behavior_session.stimulus_presentations.copy()\n",
    "# # calculate average reaction time\n",
    "# changed_stimulus_timestamps = stimulus_presentations['start_time'][stimulus_presentations['is_change'] == True].to_numpy()\n",
    "# reaction_time_list = np.array([])\n",
    "# lick_time_list = np.array([])\n",
    "# for time_stamp in changed_stimulus_timestamps:\n",
    "#     idx = (behavior_session.licks['timestamps'] >= time_stamp).idxmax()\n",
    "#     lick_after_changed_timestamps = behavior_session.licks['timestamps'][idx]\n",
    "#     reaction_time = lick_after_changed_timestamps - time_stamp\n",
    "# #     if(lick_after_changed_timestamps in behavior_session.rewards['timestamps'].unique()):\n",
    "#     if reaction_time < 0.75000 and reaction_time > 0.15000:\n",
    "#         reaction_time_list = np.append(reaction_time_list,reaction_time)\n",
    "#         lick_time_list = np.append(lick_time_list,lick_after_changed_timestamps)\n",
    "        \n",
    "\n",
    "# np.set_printoptions(suppress=True)\n",
    "# print(reaction_time_list)\n",
    "\n"
   ],
   "outputs": []
  },
  {
   "cell_type": "code",
   "execution_count": null,
   "id": "d662eef0-1d46-46ee-a2c3-5c86640a81fb",
   "metadata": {},
   "source": [
    "all_mouse_table['mean_running_speed'].to_numpy()"
   ],
   "outputs": []
  },
  {
   "cell_type": "code",
   "execution_count": null,
   "id": "55253865-8417-4524-a40d-f8b1db0249a0",
   "metadata": {},
   "source": [
    "itemindex = np.where(reaction_time_list==0)\n",
    "itemindex"
   ],
   "outputs": []
  },
  {
   "cell_type": "code",
   "execution_count": null,
   "id": "f4da3ce5-9ecb-4c53-ba6b-6bfd95b370cf",
   "metadata": {},
   "source": [
    "print(lick_time_list[itemindex])"
   ],
   "outputs": []
  },
  {
   "cell_type": "code",
   "execution_count": null,
   "id": "5a3d2a2d-226d-4c5f-91b3-8c192c3e4887",
   "metadata": {},
   "source": [
    "print(reaction_time_list[reaction_time_list<0.250])"
   ],
   "outputs": []
  },
  {
   "cell_type": "code",
   "execution_count": null,
   "id": "2a42538e-ebb9-4ecd-a83a-776fc7a5bd7b",
   "metadata": {},
   "source": [
    "np.absolute(behavior_session.running_speed['speed']).mean()"
   ],
   "outputs": []
  },
  {
   "cell_type": "code",
   "execution_count": null,
   "id": "868cc0a1-7e91-49f7-ab68-167d87ad2ee1",
   "metadata": {},
   "source": [
    "time_stamp = 2181.47082\n",
    "idx = (behavior_session.licks['timestamps'] >= time_stamp).idxmax()\n",
    "lick_after_changed_timestamps = behavior_session.licks['timestamps'][idx]\n",
    "reaction_time = lick_after_changed_timestamps - time_stamp\n",
    "print(lick_after_changed_timestamps)\n",
    "print(reaction_time)"
   ],
   "outputs": []
  },
  {
   "cell_type": "code",
   "execution_count": null,
   "id": "f77560b2-1a3b-4a5d-a370-33412213c48d",
   "metadata": {},
   "source": [
    "print(lick_time_list)"
   ],
   "outputs": []
  },
  {
   "cell_type": "code",
   "execution_count": null,
   "id": "bcd530eb-1d81-4bc4-a17c-10fac2b6385e",
   "metadata": {},
   "source": [
    "changed_stimulus_timestamps"
   ],
   "outputs": []
  },
  {
   "cell_type": "code",
   "execution_count": null,
   "id": "a4f61b71-6f50-460e-aff6-413a5742e661",
   "metadata": {},
   "source": [
    "behavior_session.licks['timestamps'][behavior_session.licks['timestamps'] >= 993.31147]"
   ],
   "outputs": []
  },
  {
   "cell_type": "code",
   "execution_count": null,
   "id": "dd90fa5b-67eb-46e3-8716-cdf75183a308",
   "metadata": {},
   "source": [
    "pd.set_option('display.max_rows', 109)\n",
    "behavior_session.rewards.tail(10)"
   ],
   "outputs": []
  },
  {
   "cell_type": "code",
   "execution_count": null,
   "id": "cdfbd353-784f-4479-9969-b7d030a57018",
   "metadata": {},
   "source": [
    "# print(lick_time_list - behavior_session.rewards['timestamps'])\n",
    "A = lick_time_list\n",
    "B = behavior_session.rewards['timestamps']\n",
    "A[B[np.searchsorted(B,A)] !=  A]"
   ],
   "outputs": []
  },
  {
   "cell_type": "code",
   "execution_count": null,
   "id": "413ab948-81dc-40fb-a434-fae36e797ab7",
   "metadata": {},
   "source": [
    "len(behavior_session.rewards)"
   ],
   "outputs": []
  },
  {
   "cell_type": "code",
   "execution_count": null,
   "id": "5f77cc31-2242-44a8-84a1-f464acf4b7a1",
   "metadata": {},
   "source": [
    "331.25611 in behavior_session.rewards['timestamps'].unique()\n",
    "# type(behavior_session.rewards['timestamps'])"
   ],
   "outputs": []
  },
  {
   "cell_type": "code",
   "execution_count": null,
   "id": "b8529598-49ac-4046-bbef-9709ba6ab4a9",
   "metadata": {},
   "source": [
    "behavior_session.running_speed"
   ],
   "outputs": []
  },
  {
   "cell_type": "code",
   "execution_count": null,
   "id": "a918e90a-3e41-4e5b-8348-929059d79a78",
   "metadata": {},
   "source": [
    "fig, ax = plt.subplots(figsize = (12,10))\n",
    "\n",
    "x = this_mouse_table_ophys['prior_exposures_to_image_set'].to_numpy()\n",
    "y = this_mouse_table_ophys['first_lick_after_stimulus'].to_numpy()\n",
    "lists = sorted(zip(*[x, y]))\n",
    "new_x, new_y = list(zip(*lists))\n",
    "ax.plot(new_x, new_y,'-o')\n",
    "\n",
    "newax = ax.twiny()\n",
    "newax.set_xlim(ax.get_xlim())\n",
    "\n",
    "ax.set_xticks(this_mouse_table_ophys['prior_exposures_to_image_set'])\n",
    "fig.subplots_adjust(bottom=0.5)\n",
    "\n",
    "ax.set_xticklabels(this_mouse_table_ophys['prior_exposures_to_image_set'].astype(int))\n",
    "newax.xaxis.set_label_position('bottom')\n",
    "newax.xaxis.set_ticks_position('bottom')\n",
    "newax.set_xticks(ax.get_xticks())\n",
    "newax.set_xticklabels(this_mouse_table_ophys['session_type'].values,rotation = 30, ha='right',y=-0.02)\n",
    "# ax.tick_params( axis='x', which='minor')\n",
    "ax.set(xlabel='prior_exposores', ylabel='first_lick_after_stimulus')\n",
    "ax.set_title('exposure/first_lick_after_stimulus plot for mouse_id= {}'.format(mouse_id))\n",
    "fig.savefig('exposure_first_lick_after_stimulus_plot for mouse_id= {}.png'.format(mouse_id), dpi=300,bbox_inches = \"tight\")\n",
    "fig.tight_layout()"
   ],
   "outputs": []
  },
  {
   "cell_type": "code",
   "execution_count": null,
   "id": "6c79d179-6e1e-42c6-9a14-b0b0d0b77e0b",
   "metadata": {},
   "source": [
    "\n"
   ],
   "outputs": []
  },
  {
   "cell_type": "code",
   "execution_count": null,
   "id": "397fa52c-83cd-4078-9bf7-a272ba63cebd",
   "metadata": {},
   "source": [
    "pd.set_option('display.max_rows', 40)\n",
    "stimulus_presentations"
   ],
   "outputs": []
  },
  {
   "cell_type": "code",
   "execution_count": null,
   "id": "11293a68-ee70-4f82-bdda-df29dae76147",
   "metadata": {},
   "source": [],
   "outputs": []
  }
 ],
 "metadata": {
  "kernelspec": {
   "display_name": "Python 3 (ipykernel)",
   "language": "python",
   "name": "python3"
  },
  "language_info": {
   "codemirror_mode": {
    "name": "ipython",
    "version": 3
   },
   "file_extension": ".py",
   "mimetype": "text/x-python",
   "name": "python",
   "nbconvert_exporter": "python",
   "pygments_lexer": "ipython3",
   "version": "3.11.8"
  }
 },
 "nbformat": 4,
 "nbformat_minor": 5
}
