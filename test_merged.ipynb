{
 "cells": [
  {
   "cell_type": "code",
   "id": "initial_id",
   "metadata": {
    "collapsed": true,
    "ExecuteTime": {
     "end_time": "2024-05-24T16:25:19.724976Z",
     "start_time": "2024-05-24T16:25:19.719210Z"
    }
   },
   "source": [
    "import pandas as pd\n",
    "\n",
    "# df_panda = pd.read_parquet('run_pupil_merged.parquet')\n"
   ],
   "outputs": [],
   "execution_count": 4
  },
  {
   "metadata": {
    "ExecuteTime": {
     "end_time": "2024-05-24T16:25:29.810298Z",
     "start_time": "2024-05-24T16:25:29.789892Z"
    }
   },
   "cell_type": "code",
   "source": [
    "import dask.dataframe as dd \n",
    "\n",
    "df = dd.read_parquet('run_pupil_merged.parquet')"
   ],
   "id": "9c5020bbcae63320",
   "outputs": [],
   "execution_count": 7
  },
  {
   "metadata": {
    "ExecuteTime": {
     "end_time": "2024-05-24T16:25:30.107246Z",
     "start_time": "2024-05-24T16:25:30.093991Z"
    }
   },
   "cell_type": "code",
   "source": [
    "# Check the number of partitions\n",
    "num_partitions = df.npartitions\n",
    "print(\"Number of partitions:\", num_partitions)\n",
    "\n",
    "# Repartition if necessary (e.g., to 10 partitions)\n",
    "df = df.repartition(npartitions=10)\n",
    "print(\"Repartitioned to 10 partitions\")"
   ],
   "id": "21bd32afdef66c0a",
   "outputs": [
    {
     "name": "stdout",
     "output_type": "stream",
     "text": [
      "Number of partitions: 6\n",
      "Repartitioned to 10 partitions\n"
     ]
    }
   ],
   "execution_count": 8
  },
  {
   "metadata": {
    "ExecuteTime": {
     "end_time": "2024-05-24T16:25:48.028419Z",
     "start_time": "2024-05-24T16:25:45.936548Z"
    }
   },
   "cell_type": "code",
   "source": [
    "first_rows = df.head()\n",
    "print(first_rows)"
   ],
   "id": "4d2899a721235297",
   "outputs": [
    {
     "name": "stdout",
     "output_type": "stream",
     "text": [
      "     pupil_area  timestamps behavior_session_id  speed\n",
      "0           NaN   307.85626          1006931469    NaN\n",
      "1           NaN   307.88969          1006931469    NaN\n",
      "2           NaN   307.92292          1006931469    NaN\n",
      "3  19700.109793   307.95612          1006931469    NaN\n",
      "4  18904.558412   307.98949          1006931469    NaN\n"
     ]
    }
   ],
   "execution_count": 9
  },
  {
   "metadata": {
    "ExecuteTime": {
     "end_time": "2024-05-24T16:27:42.147015Z",
     "start_time": "2024-05-24T16:27:33.985749Z"
    }
   },
   "cell_type": "code",
   "source": "df.speed.mean().compute()",
   "id": "a9f9e328de36912",
   "outputs": [
    {
     "data": {
      "text/plain": [
       "18.459222283229586"
      ]
     },
     "execution_count": 12,
     "metadata": {},
     "output_type": "execute_result"
    }
   ],
   "execution_count": 12
  },
  {
   "metadata": {
    "ExecuteTime": {
     "end_time": "2024-05-24T16:32:05.782261Z",
     "start_time": "2024-05-24T16:31:06.786313Z"
    }
   },
   "cell_type": "code",
   "source": [
    "# Check for NaN values in each column\n",
    "nan_counts = df.isnull().sum().compute()\n",
    "print('NaN counts in each column:')\n",
    "print(nan_counts)\n",
    "\n",
    "# Identify rows with NaN values for each column\n",
    "nan_rows = {}\n",
    "for column in df.columns:\n",
    "    nan_rows[column] = df[df[column].isnull()].compute().index.tolist()\n",
    "\n",
    "print('Rows with NaN values for each column:')\n",
    "for column, rows in nan_rows.items():\n",
    "    print(column + ':', rows)"
   ],
   "id": "d1c6f49c54b7f8b9",
   "outputs": [
    {
     "name": "stdout",
     "output_type": "stream",
     "text": [
      "NaN counts in each column:\n",
      "pupil_area             57801703\n",
      "timestamps                    0\n",
      "behavior_session_id           0\n",
      "speed                  29486037\n",
      "dtype: int64\n"
     ]
    },
    {
     "name": "stderr",
     "output_type": "stream",
     "text": [
      "IOPub data rate exceeded.\n",
      "The Jupyter server will temporarily stop sending output\n",
      "to the client in order to avoid crashing it.\n",
      "To change this limit, set the config variable\n",
      "`--ServerApp.iopub_data_rate_limit`.\n",
      "\n",
      "Current values:\n",
      "ServerApp.iopub_data_rate_limit=1000000.0 (bytes/sec)\n",
      "ServerApp.rate_limit_window=3.0 (secs)\n",
      "\n"
     ]
    }
   ],
   "execution_count": 13
  },
  {
   "metadata": {},
   "cell_type": "code",
   "outputs": [],
   "execution_count": null,
   "source": "",
   "id": "bda7a1fa8481263"
  }
 ],
 "metadata": {
  "kernelspec": {
   "display_name": "Python 3",
   "language": "python",
   "name": "python3"
  },
  "language_info": {
   "codemirror_mode": {
    "name": "ipython",
    "version": 2
   },
   "file_extension": ".py",
   "mimetype": "text/x-python",
   "name": "python",
   "nbconvert_exporter": "python",
   "pygments_lexer": "ipython2",
   "version": "2.7.6"
  }
 },
 "nbformat": 4,
 "nbformat_minor": 5
}
